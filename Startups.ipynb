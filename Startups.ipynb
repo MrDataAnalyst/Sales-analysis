{
  "nbformat": 4,
  "nbformat_minor": 0,
  "metadata": {
    "colab": {
      "name": "Startups.ipynb",
      "provenance": [],
      "mount_file_id": "15GB5ps6rR5t-pln8mtkuRIiHQEPw4imQ",
      "authorship_tag": "ABX9TyOh6rHCY0e/L38kR3t/0vQb"
    },
    "kernelspec": {
      "name": "python3",
      "display_name": "Python 3"
    }
  },
  "cells": [
    {
      "cell_type": "code",
      "metadata": {
        "id": "MxL6nCBgQJMk"
      },
      "source": [
        "import pandas as pd\r\n",
        "import matplotlib.pyplot as plt\r\n",
        "import seaborn as sns\r\n",
        "import numpy as np"
      ],
      "execution_count": 3,
      "outputs": []
    },
    {
      "cell_type": "code",
      "metadata": {
        "colab": {
          "base_uri": "https://localhost:8080/",
          "height": 35
        },
        "id": "Afo1RROUQNFz",
        "outputId": "9e141d3a-cf23-4dd2-b6b2-ee422fb73b31"
      },
      "source": [
        "import os\r\n",
        "os.getcwd()"
      ],
      "execution_count": 6,
      "outputs": [
        {
          "output_type": "execute_result",
          "data": {
            "application/vnd.google.colaboratory.intrinsic+json": {
              "type": "string"
            },
            "text/plain": [
              "'/content'"
            ]
          },
          "metadata": {
            "tags": []
          },
          "execution_count": 6
        }
      ]
    },
    {
      "cell_type": "code",
      "metadata": {
        "id": "J8ydlO1TQN7g"
      },
      "source": [
        "startups = pd.read_excel('P11-1000-Startups.xlsx')"
      ],
      "execution_count": 7,
      "outputs": []
    },
    {
      "cell_type": "code",
      "metadata": {
        "colab": {
          "base_uri": "https://localhost:8080/",
          "height": 204
        },
        "id": "7vMrrMyQSjrO",
        "outputId": "415a6f48-1974-4ac0-90db-5a65d8a74eb6"
      },
      "source": [
        "startups.head()"
      ],
      "execution_count": null,
      "outputs": [
        {
          "output_type": "execute_result",
          "data": {
            "text/html": [
              "<div>\n",
              "<style scoped>\n",
              "    .dataframe tbody tr th:only-of-type {\n",
              "        vertical-align: middle;\n",
              "    }\n",
              "\n",
              "    .dataframe tbody tr th {\n",
              "        vertical-align: top;\n",
              "    }\n",
              "\n",
              "    .dataframe thead th {\n",
              "        text-align: right;\n",
              "    }\n",
              "</style>\n",
              "<table border=\"1\" class=\"dataframe\">\n",
              "  <thead>\n",
              "    <tr style=\"text-align: right;\">\n",
              "      <th></th>\n",
              "      <th>ID</th>\n",
              "      <th>Name</th>\n",
              "      <th>Industry</th>\n",
              "      <th>Description</th>\n",
              "      <th>Year Founded</th>\n",
              "      <th>Employees</th>\n",
              "      <th>State</th>\n",
              "      <th>City</th>\n",
              "      <th>Metro Area</th>\n",
              "    </tr>\n",
              "  </thead>\n",
              "  <tbody>\n",
              "    <tr>\n",
              "      <th>0</th>\n",
              "      <td>1</td>\n",
              "      <td>Over-Hex</td>\n",
              "      <td>Software</td>\n",
              "      <td>Provides a Web-based CRM tool that allows hosp...</td>\n",
              "      <td>2006</td>\n",
              "      <td>25</td>\n",
              "      <td>TN</td>\n",
              "      <td>Franklin</td>\n",
              "      <td>Nashville</td>\n",
              "    </tr>\n",
              "    <tr>\n",
              "      <th>1</th>\n",
              "      <td>2</td>\n",
              "      <td>Unimattax</td>\n",
              "      <td>IT Services</td>\n",
              "      <td>Helps law firms use Thomson Reuters Elite prac...</td>\n",
              "      <td>2009</td>\n",
              "      <td>36</td>\n",
              "      <td>PA</td>\n",
              "      <td>Newtown Square</td>\n",
              "      <td>Philadelphia</td>\n",
              "    </tr>\n",
              "    <tr>\n",
              "      <th>2</th>\n",
              "      <td>3</td>\n",
              "      <td>Lexila</td>\n",
              "      <td>Real Estate</td>\n",
              "      <td>Offers investment, construction, residential, ...</td>\n",
              "      <td>2013</td>\n",
              "      <td>38</td>\n",
              "      <td>IL</td>\n",
              "      <td>Tinley Park</td>\n",
              "      <td>Chicago</td>\n",
              "    </tr>\n",
              "    <tr>\n",
              "      <th>3</th>\n",
              "      <td>4</td>\n",
              "      <td>Greenfax</td>\n",
              "      <td>Retail</td>\n",
              "      <td>A Verizon Wireless premium retailer that offer...</td>\n",
              "      <td>2012</td>\n",
              "      <td>320</td>\n",
              "      <td>SC</td>\n",
              "      <td>Greenville</td>\n",
              "      <td>Newberry, SC</td>\n",
              "    </tr>\n",
              "    <tr>\n",
              "      <th>4</th>\n",
              "      <td>5</td>\n",
              "      <td>Saoace</td>\n",
              "      <td>Energy</td>\n",
              "      <td>An energy efficiency consulting firm that work...</td>\n",
              "      <td>2009</td>\n",
              "      <td>24</td>\n",
              "      <td>WI</td>\n",
              "      <td>New Holstein</td>\n",
              "      <td>Appleton, WI</td>\n",
              "    </tr>\n",
              "  </tbody>\n",
              "</table>\n",
              "</div>"
            ],
            "text/plain": [
              "   ID       Name     Industry  ... State            City    Metro Area\n",
              "0   1   Over-Hex     Software  ...    TN        Franklin     Nashville\n",
              "1   2  Unimattax  IT Services  ...    PA  Newtown Square  Philadelphia\n",
              "2   3     Lexila  Real Estate  ...    IL     Tinley Park       Chicago\n",
              "3   4   Greenfax       Retail  ...    SC      Greenville  Newberry, SC\n",
              "4   5     Saoace       Energy  ...    WI    New Holstein  Appleton, WI\n",
              "\n",
              "[5 rows x 9 columns]"
            ]
          },
          "metadata": {
            "tags": []
          },
          "execution_count": 9
        }
      ]
    },
    {
      "cell_type": "code",
      "metadata": {
        "id": "VLG1u8FTSlG9"
      },
      "source": [
        "industries = startups.groupby('Industry').size().sort_values(ascending = False)"
      ],
      "execution_count": 8,
      "outputs": []
    },
    {
      "cell_type": "code",
      "metadata": {
        "id": "stgo2G0LZON6"
      },
      "source": [
        "industries = pd.DataFrame(industries)"
      ],
      "execution_count": 9,
      "outputs": []
    },
    {
      "cell_type": "code",
      "metadata": {
        "id": "Au0Cfq_-ZsnF"
      },
      "source": [
        "#industries.reset_index(inplace=True)\r\n",
        "industries.rename(columns={0:'Number'}, inplace=True)\r\n"
      ],
      "execution_count": 10,
      "outputs": []
    },
    {
      "cell_type": "code",
      "metadata": {
        "id": "L4bBPTpEaJOl"
      },
      "source": [
        "industries"
      ],
      "execution_count": null,
      "outputs": []
    },
    {
      "cell_type": "code",
      "metadata": {
        "id": "7Vl3lBVEYY2S"
      },
      "source": [
        "indus = startups.groupby('Industry').agg({'Employees': [np.mean, np.sum], })"
      ],
      "execution_count": 12,
      "outputs": []
    },
    {
      "cell_type": "code",
      "metadata": {
        "id": "_JwxUH6pfoHu"
      },
      "source": [
        "indus.columns = [x + y.capitalize() for x,y in indus.columns.values]"
      ],
      "execution_count": 13,
      "outputs": []
    },
    {
      "cell_type": "code",
      "metadata": {
        "id": "j8vJB1d7fok5"
      },
      "source": [
        "#indus.reset_index(inplace=True)\r\n",
        "indus.rename(columns={'EmployeesMean':'Employees_Mean', 'EmployeesSum':'Employees_Sum'}, inplace=True)"
      ],
      "execution_count": 14,
      "outputs": []
    },
    {
      "cell_type": "code",
      "metadata": {
        "id": "sxhTR7PIfo7y"
      },
      "source": [
        "indus"
      ],
      "execution_count": null,
      "outputs": []
    },
    {
      "cell_type": "code",
      "metadata": {
        "id": "Z6PGxJVISlrf",
        "colab": {
          "base_uri": "https://localhost:8080/"
        },
        "outputId": "4dce826c-223b-4815-9c90-6ea7813cfd58"
      },
      "source": [
        "startups['Year Founded'].unique()"
      ],
      "execution_count": 16,
      "outputs": [
        {
          "output_type": "execute_result",
          "data": {
            "text/plain": [
              "array([2006, 2009, 2013, 2012, 2011, 2010, 2007, 2008, 2004, 2000, 2005,\n",
              "       2003, 2002, 1999, 2014, 2001])"
            ]
          },
          "metadata": {
            "tags": []
          },
          "execution_count": 16
        }
      ]
    },
    {
      "cell_type": "code",
      "metadata": {
        "id": "B8bv7xwCSmLB"
      },
      "source": [
        "columns = pd.DataFrame(columns = startups.columns.to_list())"
      ],
      "execution_count": 17,
      "outputs": []
    },
    {
      "cell_type": "code",
      "metadata": {
        "id": "JQNybuHHSmVP",
        "colab": {
          "base_uri": "https://localhost:8080/",
          "height": 49
        },
        "outputId": "8c7b8881-3780-4258-838a-1063c64b9127"
      },
      "source": [
        "columns"
      ],
      "execution_count": 18,
      "outputs": [
        {
          "output_type": "execute_result",
          "data": {
            "text/html": [
              "<div>\n",
              "<style scoped>\n",
              "    .dataframe tbody tr th:only-of-type {\n",
              "        vertical-align: middle;\n",
              "    }\n",
              "\n",
              "    .dataframe tbody tr th {\n",
              "        vertical-align: top;\n",
              "    }\n",
              "\n",
              "    .dataframe thead th {\n",
              "        text-align: right;\n",
              "    }\n",
              "</style>\n",
              "<table border=\"1\" class=\"dataframe\">\n",
              "  <thead>\n",
              "    <tr style=\"text-align: right;\">\n",
              "      <th></th>\n",
              "      <th>ID</th>\n",
              "      <th>Name</th>\n",
              "      <th>Industry</th>\n",
              "      <th>Description</th>\n",
              "      <th>Year Founded</th>\n",
              "      <th>Employees</th>\n",
              "      <th>State</th>\n",
              "      <th>City</th>\n",
              "      <th>Metro Area</th>\n",
              "    </tr>\n",
              "  </thead>\n",
              "  <tbody>\n",
              "  </tbody>\n",
              "</table>\n",
              "</div>"
            ],
            "text/plain": [
              "Empty DataFrame\n",
              "Columns: [ID, Name, Industry, Description, Year Founded, Employees, State, City, Metro Area]\n",
              "Index: []"
            ]
          },
          "metadata": {
            "tags": []
          },
          "execution_count": 18
        }
      ]
    },
    {
      "cell_type": "code",
      "metadata": {
        "id": "LyuqeS8tSmdf"
      },
      "source": [
        "industry_grup = startups.groupby('Industry')"
      ],
      "execution_count": 19,
      "outputs": []
    },
    {
      "cell_type": "code",
      "metadata": {
        "id": "aTc7cdauSmk_"
      },
      "source": [
        "for industry, year in industry_grup:\r\n",
        "  the_min_year = year.nsmallest(n=1, columns = 'Year Founded')\r\n",
        "  columns = columns.append(the_min_year)"
      ],
      "execution_count": 20,
      "outputs": []
    },
    {
      "cell_type": "code",
      "metadata": {
        "id": "IZrwwRwtSmyB"
      },
      "source": [
        "columns.to_excel('Columns.xlsx')"
      ],
      "execution_count": 30,
      "outputs": []
    },
    {
      "cell_type": "code",
      "metadata": {
        "id": "uBmCJnSIdAP5"
      },
      "source": [
        "indus.reset_index(inplace = True)"
      ],
      "execution_count": 24,
      "outputs": []
    },
    {
      "cell_type": "code",
      "metadata": {
        "colab": {
          "base_uri": "https://localhost:8080/",
          "height": 142
        },
        "id": "eFUCvvCedAxA",
        "outputId": "717be516-4339-435e-9007-122444ba1cd3"
      },
      "source": [
        "indus.head(3)"
      ],
      "execution_count": 27,
      "outputs": [
        {
          "output_type": "execute_result",
          "data": {
            "text/html": [
              "<div>\n",
              "<style scoped>\n",
              "    .dataframe tbody tr th:only-of-type {\n",
              "        vertical-align: middle;\n",
              "    }\n",
              "\n",
              "    .dataframe tbody tr th {\n",
              "        vertical-align: top;\n",
              "    }\n",
              "\n",
              "    .dataframe thead th {\n",
              "        text-align: right;\n",
              "    }\n",
              "</style>\n",
              "<table border=\"1\" class=\"dataframe\">\n",
              "  <thead>\n",
              "    <tr style=\"text-align: right;\">\n",
              "      <th></th>\n",
              "      <th>Industry</th>\n",
              "      <th>Employees_Mean</th>\n",
              "      <th>Employees_Sum</th>\n",
              "    </tr>\n",
              "  </thead>\n",
              "  <tbody>\n",
              "    <tr>\n",
              "      <th>0</th>\n",
              "      <td>Advertising &amp; Marketing</td>\n",
              "      <td>54.615385</td>\n",
              "      <td>3550</td>\n",
              "    </tr>\n",
              "    <tr>\n",
              "      <th>1</th>\n",
              "      <td>Business Products &amp; Services</td>\n",
              "      <td>95.029851</td>\n",
              "      <td>6367</td>\n",
              "    </tr>\n",
              "    <tr>\n",
              "      <th>2</th>\n",
              "      <td>Computer Hardware</td>\n",
              "      <td>49.000000</td>\n",
              "      <td>196</td>\n",
              "    </tr>\n",
              "  </tbody>\n",
              "</table>\n",
              "</div>"
            ],
            "text/plain": [
              "                       Industry  Employees_Mean  Employees_Sum\n",
              "0       Advertising & Marketing       54.615385           3550\n",
              "1  Business Products & Services       95.029851           6367\n",
              "2             Computer Hardware       49.000000            196"
            ]
          },
          "metadata": {
            "tags": []
          },
          "execution_count": 27
        }
      ]
    },
    {
      "cell_type": "code",
      "metadata": {
        "id": "ckoT5MKIdA9A"
      },
      "source": [
        "indus['Employees_Mean'] = indus['Employees_Mean'].round(0)"
      ],
      "execution_count": 29,
      "outputs": []
    },
    {
      "cell_type": "code",
      "metadata": {
        "id": "ErkMoItK52ZT"
      },
      "source": [
        "x2= indus['Employees_Mean'].to_list()"
      ],
      "execution_count": 39,
      "outputs": []
    },
    {
      "cell_type": "markdown",
      "metadata": {
        "id": "iHnCLHPT84_A"
      },
      "source": [
        ""
      ]
    },
    {
      "cell_type": "code",
      "metadata": {
        "id": "6CpVRE997wm5"
      },
      "source": [
        "fig = plt.figure(figsize=(18,9))\r\n",
        "ax = fig.add_axes([0,0,1,1])\r\n",
        "\r\n",
        "x1= indus['Industry'].to_list()\r\n",
        "x2= indus['Employees_Mean'].to_list()\r\n",
        "plt.xticks(rotation=90, size = 12) \r\n",
        "ax.plot(x1,x2, color = 'r')\r\n",
        "ax.annotate('Good Deal', xy = ('Energy', 333))\r\n",
        "\r\n",
        "plt.bar(x1,x2)\r\n",
        "\r\n",
        "\r\n",
        "#plt.savefig('Chart_basic.png', dpi = 300)\r\n"
      ],
      "execution_count": null,
      "outputs": []
    },
    {
      "cell_type": "code",
      "metadata": {
        "id": "FeSYod8e529u"
      },
      "source": [
        "fig = plt.figure(figsize=(18,9))\r\n",
        "ax = fig.add_axes([0,0,1,1])\r\n",
        "plt.bar(x1,x2, color = 'blue', alpha = 0.5)\r\n",
        "plt.xticks(rotation = 90, size = 18)\r\n",
        "plt.show()\r\n"
      ],
      "execution_count": null,
      "outputs": []
    },
    {
      "cell_type": "code",
      "metadata": {
        "colab": {
          "base_uri": "https://localhost:8080/"
        },
        "id": "At_4zYL053Ni",
        "outputId": "43c4f451-01e7-4bb6-c921-6483e0ae4f64"
      },
      "source": [
        "for x,y in zip(x1,x2):\r\n",
        "  print(x,y)"
      ],
      "execution_count": 103,
      "outputs": [
        {
          "output_type": "stream",
          "text": [
            "Advertising & Marketing 55.0\n",
            "Business Products & Services 95.0\n",
            "Computer Hardware 49.0\n",
            "Construction 58.0\n",
            "Consumer Products & Services 132.0\n",
            "Education 57.0\n",
            "Energy 331.0\n",
            "Engineering 117.0\n",
            "Environmental Services 78.0\n",
            "Financial Services 207.0\n",
            "Food & Beverage 393.0\n",
            "Government Services 173.0\n",
            "Health 204.0\n",
            "Human Resources 181.0\n",
            "IT Services 108.0\n",
            "Insurance 88.0\n",
            "Logistics & Transportation 115.0\n",
            "Manufacturing 162.0\n",
            "Media 81.0\n",
            "Real Estate 154.0\n",
            "Retail 204.0\n",
            "Security 143.0\n",
            "Software 119.0\n",
            "Telecommunications 114.0\n",
            "Travel & Hospitality 27.0\n"
          ],
          "name": "stdout"
        }
      ]
    },
    {
      "cell_type": "code",
      "metadata": {
        "id": "KcadaHbG53bz"
      },
      "source": [
        "startups['Avg_no_of_employees'] = startups.groupby('Industry')['Employees'].transform(np.mean).round(0)"
      ],
      "execution_count": 112,
      "outputs": []
    },
    {
      "cell_type": "code",
      "metadata": {
        "colab": {
          "base_uri": "https://localhost:8080/",
          "height": 173
        },
        "id": "ldUK3wBW53us",
        "outputId": "1a3aae62-8914-4527-c1be-842566ef30d9"
      },
      "source": [
        "startups.head(4)"
      ],
      "execution_count": 113,
      "outputs": [
        {
          "output_type": "execute_result",
          "data": {
            "text/html": [
              "<div>\n",
              "<style scoped>\n",
              "    .dataframe tbody tr th:only-of-type {\n",
              "        vertical-align: middle;\n",
              "    }\n",
              "\n",
              "    .dataframe tbody tr th {\n",
              "        vertical-align: top;\n",
              "    }\n",
              "\n",
              "    .dataframe thead th {\n",
              "        text-align: right;\n",
              "    }\n",
              "</style>\n",
              "<table border=\"1\" class=\"dataframe\">\n",
              "  <thead>\n",
              "    <tr style=\"text-align: right;\">\n",
              "      <th></th>\n",
              "      <th>ID</th>\n",
              "      <th>Name</th>\n",
              "      <th>Industry</th>\n",
              "      <th>Description</th>\n",
              "      <th>Year Founded</th>\n",
              "      <th>Employees</th>\n",
              "      <th>State</th>\n",
              "      <th>City</th>\n",
              "      <th>Metro Area</th>\n",
              "      <th>Avg_no_of_employees</th>\n",
              "    </tr>\n",
              "  </thead>\n",
              "  <tbody>\n",
              "    <tr>\n",
              "      <th>0</th>\n",
              "      <td>1</td>\n",
              "      <td>Over-Hex</td>\n",
              "      <td>Software</td>\n",
              "      <td>Provides a Web-based CRM tool that allows hosp...</td>\n",
              "      <td>2006</td>\n",
              "      <td>25</td>\n",
              "      <td>TN</td>\n",
              "      <td>Franklin</td>\n",
              "      <td>Nashville</td>\n",
              "      <td>119.0</td>\n",
              "    </tr>\n",
              "    <tr>\n",
              "      <th>1</th>\n",
              "      <td>2</td>\n",
              "      <td>Unimattax</td>\n",
              "      <td>IT Services</td>\n",
              "      <td>Helps law firms use Thomson Reuters Elite prac...</td>\n",
              "      <td>2009</td>\n",
              "      <td>36</td>\n",
              "      <td>PA</td>\n",
              "      <td>Newtown Square</td>\n",
              "      <td>Philadelphia</td>\n",
              "      <td>108.0</td>\n",
              "    </tr>\n",
              "    <tr>\n",
              "      <th>2</th>\n",
              "      <td>3</td>\n",
              "      <td>Lexila</td>\n",
              "      <td>Real Estate</td>\n",
              "      <td>Offers investment, construction, residential, ...</td>\n",
              "      <td>2013</td>\n",
              "      <td>38</td>\n",
              "      <td>IL</td>\n",
              "      <td>Tinley Park</td>\n",
              "      <td>Chicago</td>\n",
              "      <td>154.0</td>\n",
              "    </tr>\n",
              "    <tr>\n",
              "      <th>3</th>\n",
              "      <td>4</td>\n",
              "      <td>Greenfax</td>\n",
              "      <td>Retail</td>\n",
              "      <td>A Verizon Wireless premium retailer that offer...</td>\n",
              "      <td>2012</td>\n",
              "      <td>320</td>\n",
              "      <td>SC</td>\n",
              "      <td>Greenville</td>\n",
              "      <td>Newberry, SC</td>\n",
              "      <td>204.0</td>\n",
              "    </tr>\n",
              "  </tbody>\n",
              "</table>\n",
              "</div>"
            ],
            "text/plain": [
              "   ID       Name  ...    Metro Area Avg_no_of_employees\n",
              "0   1   Over-Hex  ...     Nashville               119.0\n",
              "1   2  Unimattax  ...  Philadelphia               108.0\n",
              "2   3     Lexila  ...       Chicago               154.0\n",
              "3   4   Greenfax  ...  Newberry, SC               204.0\n",
              "\n",
              "[4 rows x 10 columns]"
            ]
          },
          "metadata": {
            "tags": []
          },
          "execution_count": 113
        }
      ]
    },
    {
      "cell_type": "code",
      "metadata": {
        "colab": {
          "base_uri": "https://localhost:8080/",
          "height": 419
        },
        "id": "gd4nntC3dBHa",
        "outputId": "6b5113b7-0544-4b9f-8af1-50e2e293a7e9"
      },
      "source": [
        "startups"
      ],
      "execution_count": 120,
      "outputs": [
        {
          "output_type": "execute_result",
          "data": {
            "text/html": [
              "<div>\n",
              "<style scoped>\n",
              "    .dataframe tbody tr th:only-of-type {\n",
              "        vertical-align: middle;\n",
              "    }\n",
              "\n",
              "    .dataframe tbody tr th {\n",
              "        vertical-align: top;\n",
              "    }\n",
              "\n",
              "    .dataframe thead th {\n",
              "        text-align: right;\n",
              "    }\n",
              "</style>\n",
              "<table border=\"1\" class=\"dataframe\">\n",
              "  <thead>\n",
              "    <tr style=\"text-align: right;\">\n",
              "      <th></th>\n",
              "      <th>ID</th>\n",
              "      <th>Name</th>\n",
              "      <th>Industry</th>\n",
              "      <th>Description</th>\n",
              "      <th>Year Founded</th>\n",
              "      <th>Employees</th>\n",
              "      <th>State</th>\n",
              "      <th>City</th>\n",
              "      <th>Metro Area</th>\n",
              "      <th>Avg_no_of_employees</th>\n",
              "    </tr>\n",
              "  </thead>\n",
              "  <tbody>\n",
              "    <tr>\n",
              "      <th>0</th>\n",
              "      <td>1</td>\n",
              "      <td>Over-Hex</td>\n",
              "      <td>Software</td>\n",
              "      <td>Provides a Web-based CRM tool that allows hosp...</td>\n",
              "      <td>2006</td>\n",
              "      <td>25</td>\n",
              "      <td>TN</td>\n",
              "      <td>Franklin</td>\n",
              "      <td>Nashville</td>\n",
              "      <td>119.0</td>\n",
              "    </tr>\n",
              "    <tr>\n",
              "      <th>1</th>\n",
              "      <td>2</td>\n",
              "      <td>Unimattax</td>\n",
              "      <td>IT Services</td>\n",
              "      <td>Helps law firms use Thomson Reuters Elite prac...</td>\n",
              "      <td>2009</td>\n",
              "      <td>36</td>\n",
              "      <td>PA</td>\n",
              "      <td>Newtown Square</td>\n",
              "      <td>Philadelphia</td>\n",
              "      <td>108.0</td>\n",
              "    </tr>\n",
              "    <tr>\n",
              "      <th>2</th>\n",
              "      <td>3</td>\n",
              "      <td>Lexila</td>\n",
              "      <td>Real Estate</td>\n",
              "      <td>Offers investment, construction, residential, ...</td>\n",
              "      <td>2013</td>\n",
              "      <td>38</td>\n",
              "      <td>IL</td>\n",
              "      <td>Tinley Park</td>\n",
              "      <td>Chicago</td>\n",
              "      <td>154.0</td>\n",
              "    </tr>\n",
              "    <tr>\n",
              "      <th>3</th>\n",
              "      <td>4</td>\n",
              "      <td>Greenfax</td>\n",
              "      <td>Retail</td>\n",
              "      <td>A Verizon Wireless premium retailer that offer...</td>\n",
              "      <td>2012</td>\n",
              "      <td>320</td>\n",
              "      <td>SC</td>\n",
              "      <td>Greenville</td>\n",
              "      <td>Newberry, SC</td>\n",
              "      <td>204.0</td>\n",
              "    </tr>\n",
              "    <tr>\n",
              "      <th>4</th>\n",
              "      <td>5</td>\n",
              "      <td>Saoace</td>\n",
              "      <td>Energy</td>\n",
              "      <td>An energy efficiency consulting firm that work...</td>\n",
              "      <td>2009</td>\n",
              "      <td>24</td>\n",
              "      <td>WI</td>\n",
              "      <td>New Holstein</td>\n",
              "      <td>Appleton, WI</td>\n",
              "      <td>331.0</td>\n",
              "    </tr>\n",
              "    <tr>\n",
              "      <th>...</th>\n",
              "      <td>...</td>\n",
              "      <td>...</td>\n",
              "      <td>...</td>\n",
              "      <td>...</td>\n",
              "      <td>...</td>\n",
              "      <td>...</td>\n",
              "      <td>...</td>\n",
              "      <td>...</td>\n",
              "      <td>...</td>\n",
              "      <td>...</td>\n",
              "    </tr>\n",
              "    <tr>\n",
              "      <th>995</th>\n",
              "      <td>996</td>\n",
              "      <td>Inventtremendous</td>\n",
              "      <td>Construction</td>\n",
              "      <td>A full-service design and build home remodelin...</td>\n",
              "      <td>2009</td>\n",
              "      <td>24</td>\n",
              "      <td>MN</td>\n",
              "      <td>Woodbury</td>\n",
              "      <td>Minneapolis</td>\n",
              "      <td>58.0</td>\n",
              "    </tr>\n",
              "    <tr>\n",
              "      <th>996</th>\n",
              "      <td>997</td>\n",
              "      <td>Overviewparrot</td>\n",
              "      <td>Retail</td>\n",
              "      <td>An eco-friendly car cleaning service that clea...</td>\n",
              "      <td>2011</td>\n",
              "      <td>100</td>\n",
              "      <td>TX</td>\n",
              "      <td>Fort Worth</td>\n",
              "      <td>Dallas</td>\n",
              "      <td>204.0</td>\n",
              "    </tr>\n",
              "    <tr>\n",
              "      <th>997</th>\n",
              "      <td>998</td>\n",
              "      <td>Belaguerra</td>\n",
              "      <td>IT Services</td>\n",
              "      <td>A global IT services firm specializing exclusi...</td>\n",
              "      <td>2010</td>\n",
              "      <td>140</td>\n",
              "      <td>MI</td>\n",
              "      <td>Troy</td>\n",
              "      <td>Detroit</td>\n",
              "      <td>108.0</td>\n",
              "    </tr>\n",
              "    <tr>\n",
              "      <th>998</th>\n",
              "      <td>999</td>\n",
              "      <td>Moviespotter</td>\n",
              "      <td>Education</td>\n",
              "      <td>Provides an e-learning community through virtu...</td>\n",
              "      <td>2012</td>\n",
              "      <td>39</td>\n",
              "      <td>CA</td>\n",
              "      <td>San Rafael</td>\n",
              "      <td>San Francisco</td>\n",
              "      <td>57.0</td>\n",
              "    </tr>\n",
              "    <tr>\n",
              "      <th>999</th>\n",
              "      <td>1000</td>\n",
              "      <td>Allpossible</td>\n",
              "      <td>IT Services</td>\n",
              "      <td>A hardware, software, and video systems integr...</td>\n",
              "      <td>2011</td>\n",
              "      <td>24</td>\n",
              "      <td>CA</td>\n",
              "      <td>Los Angeles</td>\n",
              "      <td>Los Angeles</td>\n",
              "      <td>108.0</td>\n",
              "    </tr>\n",
              "  </tbody>\n",
              "</table>\n",
              "<p>1000 rows × 10 columns</p>\n",
              "</div>"
            ],
            "text/plain": [
              "       ID              Name  ...     Metro Area Avg_no_of_employees\n",
              "0       1          Over-Hex  ...      Nashville               119.0\n",
              "1       2         Unimattax  ...   Philadelphia               108.0\n",
              "2       3            Lexila  ...        Chicago               154.0\n",
              "3       4          Greenfax  ...   Newberry, SC               204.0\n",
              "4       5            Saoace  ...   Appleton, WI               331.0\n",
              "..    ...               ...  ...            ...                 ...\n",
              "995   996  Inventtremendous  ...    Minneapolis                58.0\n",
              "996   997    Overviewparrot  ...         Dallas               204.0\n",
              "997   998        Belaguerra  ...        Detroit               108.0\n",
              "998   999      Moviespotter  ...  San Francisco                57.0\n",
              "999  1000       Allpossible  ...    Los Angeles               108.0\n",
              "\n",
              "[1000 rows x 10 columns]"
            ]
          },
          "metadata": {
            "tags": []
          },
          "execution_count": 120
        }
      ]
    },
    {
      "cell_type": "code",
      "metadata": {
        "id": "3DdPaaCLdBP0"
      },
      "source": [
        ""
      ],
      "execution_count": null,
      "outputs": []
    },
    {
      "cell_type": "code",
      "metadata": {
        "id": "LRZky8eqdBYJ"
      },
      "source": [
        ""
      ],
      "execution_count": null,
      "outputs": []
    },
    {
      "cell_type": "code",
      "metadata": {
        "id": "XcA6-vshdBen"
      },
      "source": [
        ""
      ],
      "execution_count": null,
      "outputs": []
    },
    {
      "cell_type": "code",
      "metadata": {
        "id": "E3rCJ5WhLIIP"
      },
      "source": [
        ""
      ],
      "execution_count": null,
      "outputs": []
    },
    {
      "cell_type": "code",
      "metadata": {
        "id": "2B1tUDW3LIXr"
      },
      "source": [
        ""
      ],
      "execution_count": null,
      "outputs": []
    },
    {
      "cell_type": "code",
      "metadata": {
        "id": "hUbjLWVSLIiO"
      },
      "source": [
        ""
      ],
      "execution_count": null,
      "outputs": []
    },
    {
      "cell_type": "code",
      "metadata": {
        "id": "5XlUJtXCLIyZ"
      },
      "source": [
        ""
      ],
      "execution_count": null,
      "outputs": []
    },
    {
      "cell_type": "markdown",
      "metadata": {
        "id": "LbXhy27cSRE_"
      },
      "source": [
        "# Nowa sekcja"
      ]
    },
    {
      "cell_type": "code",
      "metadata": {
        "id": "dWGwgtP1LHa7"
      },
      "source": [
        ""
      ],
      "execution_count": null,
      "outputs": []
    }
  ]
}