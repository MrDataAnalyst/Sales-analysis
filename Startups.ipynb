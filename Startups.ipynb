{
  "nbformat": 4,
  "nbformat_minor": 0,
  "metadata": {
    "colab": {
      "name": "Startups.ipynb",
      "provenance": [],
      "toc_visible": true,
      "mount_file_id": "15GB5ps6rR5t-pln8mtkuRIiHQEPw4imQ",
      "authorship_tag": "ABX9TyMJkPDpXoJ3Hs31WxW356CR"
    },
    "kernelspec": {
      "name": "python3",
      "display_name": "Python 3"
    }
  },
  "cells": [
    {
      "cell_type": "code",
      "metadata": {
        "id": "MxL6nCBgQJMk"
      },
      "source": [
        "import pandas as pd\r\n",
        "import matplotlib.pyplot as plt\r\n",
        "import seaborn as sns\r\n",
        "import numpy as np"
      ],
      "execution_count": 129,
      "outputs": []
    },
    {
      "cell_type": "code",
      "metadata": {
        "id": "J8ydlO1TQN7g"
      },
      "source": [
        "#Read xlsx files into DF\r\n",
        "startups = pd.read_excel('/content/P11-1000-Startups.xlsx')\r\n",
        "Financials = pd.read_excel('/content/P11-1000-Startups.xlsx', sheet_name= 'Financials')"
      ],
      "execution_count": 130,
      "outputs": []
    },
    {
      "cell_type": "code",
      "metadata": {
        "id": "XcA6-vshdBen"
      },
      "source": [
        "#Joining Dataframes into one DF\r\n",
        "data = startups.join(Financials, on = 'ID', how = 'left', rsuffix = '_F')"
      ],
      "execution_count": 131,
      "outputs": []
    },
    {
      "cell_type": "code",
      "metadata": {
        "id": "E3rCJ5WhLIIP"
      },
      "source": [
        "data.drop(columns = ['ID_F','Name_F'], inplace = True)"
      ],
      "execution_count": 137,
      "outputs": []
    },
    {
      "cell_type": "code",
      "metadata": {
        "id": "KcadaHbG53bz"
      },
      "source": [
        "startups['Avg_no_of_employees'] = startups.groupby('Industry')['Employees'].transform(np.mean).round(0)"
      ],
      "execution_count": 132,
      "outputs": []
    },
    {
      "cell_type": "code",
      "metadata": {
        "id": "q7zY0aBf1dYH",
        "colab": {
          "base_uri": "https://localhost:8080/",
          "height": 207
        },
        "outputId": "1f6c5793-3488-4140-b55b-80890fcad2dc"
      },
      "source": [
        "data.head(3)"
      ],
      "execution_count": 138,
      "outputs": [
        {
          "output_type": "execute_result",
          "data": {
            "text/html": [
              "<div>\n",
              "<style scoped>\n",
              "    .dataframe tbody tr th:only-of-type {\n",
              "        vertical-align: middle;\n",
              "    }\n",
              "\n",
              "    .dataframe tbody tr th {\n",
              "        vertical-align: top;\n",
              "    }\n",
              "\n",
              "    .dataframe thead th {\n",
              "        text-align: right;\n",
              "    }\n",
              "</style>\n",
              "<table border=\"1\" class=\"dataframe\">\n",
              "  <thead>\n",
              "    <tr style=\"text-align: right;\">\n",
              "      <th></th>\n",
              "      <th>ID</th>\n",
              "      <th>Name</th>\n",
              "      <th>Industry</th>\n",
              "      <th>Description</th>\n",
              "      <th>Year Founded</th>\n",
              "      <th>Employees</th>\n",
              "      <th>State</th>\n",
              "      <th>City</th>\n",
              "      <th>Metro Area</th>\n",
              "      <th>2015 Revenue</th>\n",
              "      <th>2015 Expenses</th>\n",
              "      <th>2015 Profit</th>\n",
              "      <th>2015 Growth %</th>\n",
              "      <th>2014 Revenue</th>\n",
              "      <th>2014 Expenses</th>\n",
              "      <th>2014 Profit</th>\n",
              "      <th>2014 Growth %</th>\n",
              "      <th>2013 Revenue</th>\n",
              "      <th>2013 Expenses</th>\n",
              "      <th>2013 Profit</th>\n",
              "    </tr>\n",
              "  </thead>\n",
              "  <tbody>\n",
              "    <tr>\n",
              "      <th>0</th>\n",
              "      <td>1</td>\n",
              "      <td>Over-Hex</td>\n",
              "      <td>Software</td>\n",
              "      <td>Provides a Web-based CRM tool that allows hosp...</td>\n",
              "      <td>2006</td>\n",
              "      <td>25</td>\n",
              "      <td>TN</td>\n",
              "      <td>Franklin</td>\n",
              "      <td>Nashville</td>\n",
              "      <td>9016542.89</td>\n",
              "      <td>804035.40</td>\n",
              "      <td>8212507.49</td>\n",
              "      <td>0.65</td>\n",
              "      <td>5448571.0</td>\n",
              "      <td>239226.90</td>\n",
              "      <td>5209344.10</td>\n",
              "      <td>0.41</td>\n",
              "      <td>3864234.75</td>\n",
              "      <td>91714.44</td>\n",
              "      <td>3772520.31</td>\n",
              "    </tr>\n",
              "    <tr>\n",
              "      <th>1</th>\n",
              "      <td>2</td>\n",
              "      <td>Unimattax</td>\n",
              "      <td>IT Services</td>\n",
              "      <td>Helps law firms use Thomson Reuters Elite prac...</td>\n",
              "      <td>2009</td>\n",
              "      <td>36</td>\n",
              "      <td>PA</td>\n",
              "      <td>Newtown Square</td>\n",
              "      <td>Philadelphia</td>\n",
              "      <td>12456641.64</td>\n",
              "      <td>2149297.00</td>\n",
              "      <td>10307344.65</td>\n",
              "      <td>5.20</td>\n",
              "      <td>2007778.0</td>\n",
              "      <td>335126.93</td>\n",
              "      <td>1672651.07</td>\n",
              "      <td>4.23</td>\n",
              "      <td>383896.37</td>\n",
              "      <td>112257.41</td>\n",
              "      <td>271638.96</td>\n",
              "    </tr>\n",
              "    <tr>\n",
              "      <th>2</th>\n",
              "      <td>3</td>\n",
              "      <td>Lexila</td>\n",
              "      <td>Real Estate</td>\n",
              "      <td>Offers investment, construction, residential, ...</td>\n",
              "      <td>2013</td>\n",
              "      <td>38</td>\n",
              "      <td>IL</td>\n",
              "      <td>Tinley Park</td>\n",
              "      <td>Chicago</td>\n",
              "      <td>7746272.07</td>\n",
              "      <td>1044375.49</td>\n",
              "      <td>6701896.58</td>\n",
              "      <td>3.17</td>\n",
              "      <td>1857830.0</td>\n",
              "      <td>247048.76</td>\n",
              "      <td>1610781.24</td>\n",
              "      <td>0.56</td>\n",
              "      <td>1190916.67</td>\n",
              "      <td>625442.66</td>\n",
              "      <td>565474.01</td>\n",
              "    </tr>\n",
              "  </tbody>\n",
              "</table>\n",
              "</div>"
            ],
            "text/plain": [
              "   ID       Name     Industry  ... 2013 Revenue  2013 Expenses  2013 Profit\n",
              "0   1   Over-Hex     Software  ...   3864234.75       91714.44   3772520.31\n",
              "1   2  Unimattax  IT Services  ...    383896.37      112257.41    271638.96\n",
              "2   3     Lexila  Real Estate  ...   1190916.67      625442.66    565474.01\n",
              "\n",
              "[3 rows x 20 columns]"
            ]
          },
          "metadata": {
            "tags": []
          },
          "execution_count": 138
        }
      ]
    },
    {
      "cell_type": "code",
      "metadata": {
        "colab": {
          "base_uri": "https://localhost:8080/",
          "height": 198
        },
        "id": "7vMrrMyQSjrO",
        "outputId": "8a714704-99c5-4538-bfa5-fbc075fccbae"
      },
      "source": [
        "startups.head()"
      ],
      "execution_count": 133,
      "outputs": [
        {
          "output_type": "execute_result",
          "data": {
            "text/html": [
              "<div>\n",
              "<style scoped>\n",
              "    .dataframe tbody tr th:only-of-type {\n",
              "        vertical-align: middle;\n",
              "    }\n",
              "\n",
              "    .dataframe tbody tr th {\n",
              "        vertical-align: top;\n",
              "    }\n",
              "\n",
              "    .dataframe thead th {\n",
              "        text-align: right;\n",
              "    }\n",
              "</style>\n",
              "<table border=\"1\" class=\"dataframe\">\n",
              "  <thead>\n",
              "    <tr style=\"text-align: right;\">\n",
              "      <th></th>\n",
              "      <th>ID</th>\n",
              "      <th>Name</th>\n",
              "      <th>Industry</th>\n",
              "      <th>Description</th>\n",
              "      <th>Year Founded</th>\n",
              "      <th>Employees</th>\n",
              "      <th>State</th>\n",
              "      <th>City</th>\n",
              "      <th>Metro Area</th>\n",
              "      <th>Avg_no_of_employees</th>\n",
              "    </tr>\n",
              "  </thead>\n",
              "  <tbody>\n",
              "    <tr>\n",
              "      <th>0</th>\n",
              "      <td>1</td>\n",
              "      <td>Over-Hex</td>\n",
              "      <td>Software</td>\n",
              "      <td>Provides a Web-based CRM tool that allows hosp...</td>\n",
              "      <td>2006</td>\n",
              "      <td>25</td>\n",
              "      <td>TN</td>\n",
              "      <td>Franklin</td>\n",
              "      <td>Nashville</td>\n",
              "      <td>119.0</td>\n",
              "    </tr>\n",
              "    <tr>\n",
              "      <th>1</th>\n",
              "      <td>2</td>\n",
              "      <td>Unimattax</td>\n",
              "      <td>IT Services</td>\n",
              "      <td>Helps law firms use Thomson Reuters Elite prac...</td>\n",
              "      <td>2009</td>\n",
              "      <td>36</td>\n",
              "      <td>PA</td>\n",
              "      <td>Newtown Square</td>\n",
              "      <td>Philadelphia</td>\n",
              "      <td>108.0</td>\n",
              "    </tr>\n",
              "    <tr>\n",
              "      <th>2</th>\n",
              "      <td>3</td>\n",
              "      <td>Lexila</td>\n",
              "      <td>Real Estate</td>\n",
              "      <td>Offers investment, construction, residential, ...</td>\n",
              "      <td>2013</td>\n",
              "      <td>38</td>\n",
              "      <td>IL</td>\n",
              "      <td>Tinley Park</td>\n",
              "      <td>Chicago</td>\n",
              "      <td>154.0</td>\n",
              "    </tr>\n",
              "    <tr>\n",
              "      <th>3</th>\n",
              "      <td>4</td>\n",
              "      <td>Greenfax</td>\n",
              "      <td>Retail</td>\n",
              "      <td>A Verizon Wireless premium retailer that offer...</td>\n",
              "      <td>2012</td>\n",
              "      <td>320</td>\n",
              "      <td>SC</td>\n",
              "      <td>Greenville</td>\n",
              "      <td>Newberry, SC</td>\n",
              "      <td>204.0</td>\n",
              "    </tr>\n",
              "    <tr>\n",
              "      <th>4</th>\n",
              "      <td>5</td>\n",
              "      <td>Saoace</td>\n",
              "      <td>Energy</td>\n",
              "      <td>An energy efficiency consulting firm that work...</td>\n",
              "      <td>2009</td>\n",
              "      <td>24</td>\n",
              "      <td>WI</td>\n",
              "      <td>New Holstein</td>\n",
              "      <td>Appleton, WI</td>\n",
              "      <td>331.0</td>\n",
              "    </tr>\n",
              "  </tbody>\n",
              "</table>\n",
              "</div>"
            ],
            "text/plain": [
              "   ID       Name  ...    Metro Area Avg_no_of_employees\n",
              "0   1   Over-Hex  ...     Nashville               119.0\n",
              "1   2  Unimattax  ...  Philadelphia               108.0\n",
              "2   3     Lexila  ...       Chicago               154.0\n",
              "3   4   Greenfax  ...  Newberry, SC               204.0\n",
              "4   5     Saoace  ...  Appleton, WI               331.0\n",
              "\n",
              "[5 rows x 10 columns]"
            ]
          },
          "metadata": {
            "tags": []
          },
          "execution_count": 133
        }
      ]
    },
    {
      "cell_type": "code",
      "metadata": {
        "id": "LRZky8eqdBYJ",
        "colab": {
          "base_uri": "https://localhost:8080/",
          "height": 198
        },
        "outputId": "96ad7b7d-c30b-4b8c-8f4d-0ce3626e731a"
      },
      "source": [
        "Financials.head()"
      ],
      "execution_count": 134,
      "outputs": [
        {
          "output_type": "execute_result",
          "data": {
            "text/html": [
              "<div>\n",
              "<style scoped>\n",
              "    .dataframe tbody tr th:only-of-type {\n",
              "        vertical-align: middle;\n",
              "    }\n",
              "\n",
              "    .dataframe tbody tr th {\n",
              "        vertical-align: top;\n",
              "    }\n",
              "\n",
              "    .dataframe thead th {\n",
              "        text-align: right;\n",
              "    }\n",
              "</style>\n",
              "<table border=\"1\" class=\"dataframe\">\n",
              "  <thead>\n",
              "    <tr style=\"text-align: right;\">\n",
              "      <th></th>\n",
              "      <th>ID</th>\n",
              "      <th>Name</th>\n",
              "      <th>2015 Revenue</th>\n",
              "      <th>2015 Expenses</th>\n",
              "      <th>2015 Profit</th>\n",
              "      <th>2015 Growth %</th>\n",
              "      <th>2014 Revenue</th>\n",
              "      <th>2014 Expenses</th>\n",
              "      <th>2014 Profit</th>\n",
              "      <th>2014 Growth %</th>\n",
              "      <th>2013 Revenue</th>\n",
              "      <th>2013 Expenses</th>\n",
              "      <th>2013 Profit</th>\n",
              "    </tr>\n",
              "  </thead>\n",
              "  <tbody>\n",
              "    <tr>\n",
              "      <th>0</th>\n",
              "      <td>1</td>\n",
              "      <td>Over-Hex</td>\n",
              "      <td>10684526.90</td>\n",
              "      <td>1130700.06</td>\n",
              "      <td>9553826.84</td>\n",
              "      <td>3.34</td>\n",
              "      <td>2463739</td>\n",
              "      <td>194747.86</td>\n",
              "      <td>2268991.14</td>\n",
              "      <td>4.10</td>\n",
              "      <td>483086.08</td>\n",
              "      <td>43394.44</td>\n",
              "      <td>439691.64</td>\n",
              "    </tr>\n",
              "    <tr>\n",
              "      <th>1</th>\n",
              "      <td>2</td>\n",
              "      <td>Unimattax</td>\n",
              "      <td>9016542.89</td>\n",
              "      <td>804035.40</td>\n",
              "      <td>8212507.49</td>\n",
              "      <td>0.65</td>\n",
              "      <td>5448571</td>\n",
              "      <td>239226.90</td>\n",
              "      <td>5209344.10</td>\n",
              "      <td>0.41</td>\n",
              "      <td>3864234.75</td>\n",
              "      <td>91714.44</td>\n",
              "      <td>3772520.31</td>\n",
              "    </tr>\n",
              "    <tr>\n",
              "      <th>2</th>\n",
              "      <td>3</td>\n",
              "      <td>Lexila</td>\n",
              "      <td>12456641.64</td>\n",
              "      <td>2149297.00</td>\n",
              "      <td>10307344.65</td>\n",
              "      <td>5.20</td>\n",
              "      <td>2007778</td>\n",
              "      <td>335126.93</td>\n",
              "      <td>1672651.07</td>\n",
              "      <td>4.23</td>\n",
              "      <td>383896.37</td>\n",
              "      <td>112257.41</td>\n",
              "      <td>271638.96</td>\n",
              "    </tr>\n",
              "    <tr>\n",
              "      <th>3</th>\n",
              "      <td>4</td>\n",
              "      <td>Greenfax</td>\n",
              "      <td>7746272.07</td>\n",
              "      <td>1044375.49</td>\n",
              "      <td>6701896.58</td>\n",
              "      <td>3.17</td>\n",
              "      <td>1857830</td>\n",
              "      <td>247048.76</td>\n",
              "      <td>1610781.24</td>\n",
              "      <td>0.56</td>\n",
              "      <td>1190916.67</td>\n",
              "      <td>625442.66</td>\n",
              "      <td>565474.01</td>\n",
              "    </tr>\n",
              "    <tr>\n",
              "      <th>4</th>\n",
              "      <td>5</td>\n",
              "      <td>Saoace</td>\n",
              "      <td>10725585.46</td>\n",
              "      <td>2694644.42</td>\n",
              "      <td>8030941.04</td>\n",
              "      <td>3.12</td>\n",
              "      <td>2604017</td>\n",
              "      <td>615040.85</td>\n",
              "      <td>1988976.15</td>\n",
              "      <td>2.39</td>\n",
              "      <td>768146.61</td>\n",
              "      <td>222962.86</td>\n",
              "      <td>545183.75</td>\n",
              "    </tr>\n",
              "  </tbody>\n",
              "</table>\n",
              "</div>"
            ],
            "text/plain": [
              "   ID       Name  2015 Revenue  ...  2013 Revenue  2013 Expenses  2013 Profit\n",
              "0   1   Over-Hex   10684526.90  ...     483086.08       43394.44    439691.64\n",
              "1   2  Unimattax    9016542.89  ...    3864234.75       91714.44   3772520.31\n",
              "2   3     Lexila   12456641.64  ...     383896.37      112257.41    271638.96\n",
              "3   4   Greenfax    7746272.07  ...    1190916.67      625442.66    565474.01\n",
              "4   5     Saoace   10725585.46  ...     768146.61      222962.86    545183.75\n",
              "\n",
              "[5 rows x 13 columns]"
            ]
          },
          "metadata": {
            "tags": []
          },
          "execution_count": 134
        }
      ]
    },
    {
      "cell_type": "code",
      "metadata": {
        "id": "VLG1u8FTSlG9"
      },
      "source": [
        "industries = startups.groupby('Industry').size().sort_values(ascending = False)"
      ],
      "execution_count": 34,
      "outputs": []
    },
    {
      "cell_type": "code",
      "metadata": {
        "id": "stgo2G0LZON6"
      },
      "source": [
        "industries = pd.DataFrame(industries)"
      ],
      "execution_count": 8,
      "outputs": []
    },
    {
      "cell_type": "code",
      "metadata": {
        "id": "Au0Cfq_-ZsnF"
      },
      "source": [
        "#industries.reset_index(inplace=True)\r\n",
        "industries.rename(columns={0:'Number'}, inplace=True)\r\n"
      ],
      "execution_count": 9,
      "outputs": []
    },
    {
      "cell_type": "code",
      "metadata": {
        "id": "L4bBPTpEaJOl"
      },
      "source": [
        "industries"
      ],
      "execution_count": null,
      "outputs": []
    },
    {
      "cell_type": "markdown",
      "metadata": {
        "id": "z0J93AXpovMd"
      },
      "source": [
        "Let's find the earliest founded startups each industry"
      ]
    },
    {
      "cell_type": "code",
      "metadata": {
        "id": "B8bv7xwCSmLB"
      },
      "source": [
        "earliest_startups = pd.DataFrame(columns = startups.columns.to_list())"
      ],
      "execution_count": 18,
      "outputs": []
    },
    {
      "cell_type": "code",
      "metadata": {
        "id": "JQNybuHHSmVP",
        "colab": {
          "base_uri": "https://localhost:8080/",
          "height": 48
        },
        "outputId": "2da94829-e9d0-43ac-ceaa-1f2b0c1c5e79"
      },
      "source": [
        "earliest_startups"
      ],
      "execution_count": null,
      "outputs": [
        {
          "output_type": "execute_result",
          "data": {
            "text/html": [
              "<div>\n",
              "<style scoped>\n",
              "    .dataframe tbody tr th:only-of-type {\n",
              "        vertical-align: middle;\n",
              "    }\n",
              "\n",
              "    .dataframe tbody tr th {\n",
              "        vertical-align: top;\n",
              "    }\n",
              "\n",
              "    .dataframe thead th {\n",
              "        text-align: right;\n",
              "    }\n",
              "</style>\n",
              "<table border=\"1\" class=\"dataframe\">\n",
              "  <thead>\n",
              "    <tr style=\"text-align: right;\">\n",
              "      <th></th>\n",
              "      <th>ID</th>\n",
              "      <th>Name</th>\n",
              "      <th>Industry</th>\n",
              "      <th>Description</th>\n",
              "      <th>Year Founded</th>\n",
              "      <th>Employees</th>\n",
              "      <th>State</th>\n",
              "      <th>City</th>\n",
              "      <th>Metro Area</th>\n",
              "    </tr>\n",
              "  </thead>\n",
              "  <tbody>\n",
              "  </tbody>\n",
              "</table>\n",
              "</div>"
            ],
            "text/plain": [
              "Empty DataFrame\n",
              "Columns: [ID, Name, Industry, Description, Year Founded, Employees, State, City, Metro Area]\n",
              "Index: []"
            ]
          },
          "metadata": {
            "tags": []
          },
          "execution_count": 26
        }
      ]
    },
    {
      "cell_type": "code",
      "metadata": {
        "id": "LyuqeS8tSmdf"
      },
      "source": [
        "industry_grup = startups.groupby('Industry')"
      ],
      "execution_count": 20,
      "outputs": []
    },
    {
      "cell_type": "code",
      "metadata": {
        "id": "aTc7cdauSmk_"
      },
      "source": [
        "# Find the earliest founded startup in each industry\r\n",
        "for industry, year in industry_grup:\r\n",
        "  the_min_year = year.nsmallest(n=1, columns = 'Year Founded')\r\n",
        "  earliest_startups = earliest_startups.append(the_min_year)"
      ],
      "execution_count": 24,
      "outputs": []
    },
    {
      "cell_type": "code",
      "metadata": {
        "id": "IZrwwRwtSmyB"
      },
      "source": [
        "# Optional export data to xlsx file\r\n",
        "earliest_startups.to_excel('earliest_startups.xlsx')"
      ],
      "execution_count": 25,
      "outputs": []
    },
    {
      "cell_type": "code",
      "metadata": {
        "colab": {
          "base_uri": "https://localhost:8080/",
          "height": 138
        },
        "id": "SEI4ogLNeSzk",
        "outputId": "07b80f00-fe6b-4c27-d522-b187124258be"
      },
      "source": [
        "earliest_startups.head(3)"
      ],
      "execution_count": 28,
      "outputs": [
        {
          "output_type": "execute_result",
          "data": {
            "text/html": [
              "<div>\n",
              "<style scoped>\n",
              "    .dataframe tbody tr th:only-of-type {\n",
              "        vertical-align: middle;\n",
              "    }\n",
              "\n",
              "    .dataframe tbody tr th {\n",
              "        vertical-align: top;\n",
              "    }\n",
              "\n",
              "    .dataframe thead th {\n",
              "        text-align: right;\n",
              "    }\n",
              "</style>\n",
              "<table border=\"1\" class=\"dataframe\">\n",
              "  <thead>\n",
              "    <tr style=\"text-align: right;\">\n",
              "      <th></th>\n",
              "      <th>ID</th>\n",
              "      <th>Name</th>\n",
              "      <th>Industry</th>\n",
              "      <th>Description</th>\n",
              "      <th>Year Founded</th>\n",
              "      <th>Employees</th>\n",
              "      <th>State</th>\n",
              "      <th>City</th>\n",
              "      <th>Metro Area</th>\n",
              "    </tr>\n",
              "  </thead>\n",
              "  <tbody>\n",
              "    <tr>\n",
              "      <th>291</th>\n",
              "      <td>292</td>\n",
              "      <td>Fintax</td>\n",
              "      <td>Advertising &amp; Marketing</td>\n",
              "      <td>Provides a comprehensive lead serivce package ...</td>\n",
              "      <td>2000</td>\n",
              "      <td>12</td>\n",
              "      <td>IL</td>\n",
              "      <td>Chicago</td>\n",
              "      <td>Chicago</td>\n",
              "    </tr>\n",
              "    <tr>\n",
              "      <th>111</th>\n",
              "      <td>112</td>\n",
              "      <td>Keycone</td>\n",
              "      <td>Business Products &amp; Services</td>\n",
              "      <td>Develops online systems that give health insur...</td>\n",
              "      <td>2000</td>\n",
              "      <td>62</td>\n",
              "      <td>CT</td>\n",
              "      <td>Madison</td>\n",
              "      <td>New Haven-Milford, CT</td>\n",
              "    </tr>\n",
              "    <tr>\n",
              "      <th>56</th>\n",
              "      <td>57</td>\n",
              "      <td>Tindex</td>\n",
              "      <td>Computer Hardware</td>\n",
              "      <td>Provides clients with a streamlined purchasing...</td>\n",
              "      <td>2011</td>\n",
              "      <td>11</td>\n",
              "      <td>MN</td>\n",
              "      <td>Spring Park</td>\n",
              "      <td>Minneapolis</td>\n",
              "    </tr>\n",
              "  </tbody>\n",
              "</table>\n",
              "</div>"
            ],
            "text/plain": [
              "      ID     Name  ...         City             Metro Area\n",
              "291  292   Fintax  ...      Chicago                Chicago\n",
              "111  112  Keycone  ...      Madison  New Haven-Milford, CT\n",
              "56    57   Tindex  ...  Spring Park            Minneapolis\n",
              "\n",
              "[3 rows x 9 columns]"
            ]
          },
          "metadata": {
            "tags": []
          },
          "execution_count": 28
        }
      ]
    },
    {
      "cell_type": "markdown",
      "metadata": {
        "id": "iHnCLHPT84_A"
      },
      "source": [
        "Let's check which industry hire the highest number of employees"
      ]
    },
    {
      "cell_type": "code",
      "metadata": {
        "id": "7Vl3lBVEYY2S"
      },
      "source": [
        "indus = startups.groupby('Industry').agg({'Employees': [np.mean, np.sum]})"
      ],
      "execution_count": 36,
      "outputs": []
    },
    {
      "cell_type": "code",
      "metadata": {
        "id": "_JwxUH6pfoHu"
      },
      "source": [
        "indus.columns = [x + y.capitalize() for x,y in indus.columns.values]"
      ],
      "execution_count": 37,
      "outputs": []
    },
    {
      "cell_type": "code",
      "metadata": {
        "id": "j8vJB1d7fok5"
      },
      "source": [
        "#indus.reset_index(inplace=True)\r\n",
        "indus.rename(columns={'EmployeesMean':'Employees_Mean', 'EmployeesSum':'Employees_Sum'}, inplace=True)"
      ],
      "execution_count": 38,
      "outputs": []
    },
    {
      "cell_type": "code",
      "metadata": {
        "id": "uBmCJnSIdAP5"
      },
      "source": [
        "indus.reset_index(inplace = True)"
      ],
      "execution_count": 39,
      "outputs": []
    },
    {
      "cell_type": "code",
      "metadata": {
        "id": "ckoT5MKIdA9A"
      },
      "source": [
        "indus['Employees_Mean'] = indus['Employees_Mean'].round(0)"
      ],
      "execution_count": 33,
      "outputs": []
    },
    {
      "cell_type": "code",
      "metadata": {
        "id": "j5XG5bMgssFq"
      },
      "source": [
        "indus"
      ],
      "execution_count": null,
      "outputs": []
    },
    {
      "cell_type": "code",
      "metadata": {
        "colab": {
          "base_uri": "https://localhost:8080/",
          "height": 938
        },
        "id": "6CpVRE997wm5",
        "outputId": "db04c161-8ebd-4694-cfdc-1d3ec876cfd6"
      },
      "source": [
        "fig = plt.figure(figsize=(18,9))\r\n",
        "ax = fig.add_axes([0,0,1,1])\r\n",
        "\r\n",
        "x1 = indus['Industry']\r\n",
        "x2 = indus['Employees_Mean']\r\n",
        "x3 = indus['Employees_Sum']\r\n",
        "plt.xticks(rotation=90, size = 14) \r\n",
        "plt.ylabel('Number of employees', size = 14)\r\n",
        "plt.xlabel('Industries', size = 14)\r\n",
        "ax.plot(x1,x2, color = 'g', linewidth=3.0)\r\n",
        "ax.bar(x1,x3, color = 'grey', alpha = 0.5)\r\n",
        "ax.annotate('Highest point - Health industry', xy = ('Health', 18000), size = 12, color = 'black')\r\n",
        "\r\n",
        "#plt.savefig('Chart_basic.png', dpi = 300)"
      ],
      "execution_count": 122,
      "outputs": [
        {
          "output_type": "stream",
          "text": [
            "No handles with labels found to put in legend.\n"
          ],
          "name": "stderr"
        },
        {
          "output_type": "display_data",
          "data": {
            "image/png": "[encoded data removed]",
            "text/plain": [
              "<Figure size 1296x648 with 1 Axes>"
            ]
          },
          "metadata": {
            "tags": [],
            "needs_background": "light"
          }
        }
      ]
    },
    {
      "cell_type": "code",
      "metadata": {
        "colab": {
          "base_uri": "https://localhost:8080/",
          "height": 699
        },
        "id": "FeSYod8e529u",
        "outputId": "f90ac5ba-c0fa-4013-fb3a-50051ee0f8f6"
      },
      "source": [
        "#Number of employess in each industry\r\n",
        "\r\n",
        "fig = plt.figure(figsize=(18,9))\r\n",
        "ax = fig.add_axes([0,0,1,1])\r\n",
        "indus.sort_values(by = 'Employees_Sum', ascending=True, inplace = True)\r\n",
        "\r\n",
        "x1 = indus['Industry']\r\n",
        "x2 = indus['Employees_Sum']\r\n",
        "\r\n",
        "for Index, Sum in enumerate(indus['Employees_Sum']):\r\n",
        "    ax.annotate(Sum, xy = (Sum,Index), size = 14)\r\n",
        "\r\n",
        "plt.barh(x1,x2, color = 'blue', alpha = 0.5)\r\n",
        "ax.xaxis.grid(linestyle = '-', linewidth = 0.5)\r\n",
        "plt.xticks(size = 12)\r\n",
        "plt.show()\r\n",
        "\r\n",
        "\r\n"
      ],
      "execution_count": 192,
      "outputs": [
        {
          "output_type": "display_data",
          "data": {
            "image/png": "[encoded data removed]",
            "text/plain": [
              "<Figure size 1296x648 with 1 Axes>"
            ]
          },
          "metadata": {
            "tags": [],
            "needs_background": "light"
          }
        }
      ]
    },
    {
      "cell_type": "code",
      "metadata": {
        "id": "CJdBuxYzwu9t"
      },
      "source": [
        "#indus.sort_values(by = 'Employees_Sum', ascending=False)"
      ],
      "execution_count": null,
      "outputs": []
    },
    {
      "cell_type": "code",
      "metadata": {
        "id": "2B1tUDW3LIXr"
      },
      "source": [
        "#Columns with 2015 data\r\n",
        "#filter_col = [col for col in data if col.startswith('2015')]"
      ],
      "execution_count": 172,
      "outputs": []
    },
    {
      "cell_type": "markdown",
      "metadata": {
        "id": "LbXhy27cSRE_"
      },
      "source": [
        "Exploratory Data Analysis - Financial Data (2015)\r\n"
      ]
    },
    {
      "cell_type": "code",
      "metadata": {
        "id": "a2oiifMTVY-f"
      },
      "source": [
        "#Base informations\r\n",
        "Financials_2015 = data.iloc[0:,:13]"
      ],
      "execution_count": 185,
      "outputs": []
    },
    {
      "cell_type": "code",
      "metadata": {
        "colab": {
          "base_uri": "https://localhost:8080/"
        },
        "id": "E3K7nPWvWyAn",
        "outputId": "f3e41c55-75ca-4c82-8e42-4c3e6fbaee1c"
      },
      "source": [
        "Financials_2015.isnull().sum()"
      ],
      "execution_count": 187,
      "outputs": [
        {
          "output_type": "execute_result",
          "data": {
            "text/plain": [
              "ID                0\n",
              "Name              0\n",
              "Industry          0\n",
              "Description       1\n",
              "Year Founded      0\n",
              "Employees         0\n",
              "State             0\n",
              "City              0\n",
              "Metro Area       11\n",
              "2015 Revenue      1\n",
              "2015 Expenses     1\n",
              "2015 Profit       1\n",
              "2015 Growth %     1\n",
              "dtype: int64"
            ]
          },
          "metadata": {
            "tags": []
          },
          "execution_count": 187
        }
      ]
    },
    {
      "cell_type": "code",
      "metadata": {
        "colab": {
          "base_uri": "https://localhost:8080/"
        },
        "id": "f72IWC2TWyXX",
        "outputId": "8a6ba67a-edac-4921-849c-d87761230616"
      },
      "source": [
        "#The higest revenue in each industry"
      ],
      "execution_count": 194,
      "outputs": [
        {
          "output_type": "execute_result",
          "data": {
            "text/plain": [
              "array(['Software', 'IT Services', 'Real Estate', 'Retail', 'Energy',\n",
              "       'Advertising & Marketing', 'Logistics & Transportation',\n",
              "       'Human Resources', 'Insurance', 'Financial Services',\n",
              "       'Food & Beverage', 'Construction', 'Telecommunications', 'Health',\n",
              "       'Business Products & Services', 'Consumer Products & Services',\n",
              "       'Government Services', 'Computer Hardware', 'Engineering',\n",
              "       'Education', 'Security', 'Media', 'Manufacturing',\n",
              "       'Environmental Services', 'Travel & Hospitality'], dtype=object)"
            ]
          },
          "metadata": {
            "tags": []
          },
          "execution_count": 194
        }
      ]
    },
    {
      "cell_type": "code",
      "metadata": {
        "id": "xGQxnMWIWyl9"
      },
      "source": [
        "best_revenue_2015 = pd.DataFrame(columns = Financials_2015.columns)"
      ],
      "execution_count": 210,
      "outputs": []
    },
    {
      "cell_type": "code",
      "metadata": {
        "id": "uJfLI_62Wyxn"
      },
      "source": [
        "financial_industry = Financials_2015.groupby('Industry')"
      ],
      "execution_count": 200,
      "outputs": []
    },
    {
      "cell_type": "code",
      "metadata": {
        "id": "B5oqoLeYWy7m"
      },
      "source": [
        "for revenue, industry in financial_industry:\r\n",
        "  higest_revenue = industry.nlargest(n=1, columns = '2015 Revenue')\r\n",
        "  best_revenue_2015 = best_revenue_2015.append(higest_revenue)"
      ],
      "execution_count": 211,
      "outputs": []
    },
    {
      "cell_type": "code",
      "metadata": {
        "id": "FsVsJVq8WzEC"
      },
      "source": [
        ""
      ],
      "execution_count": null,
      "outputs": []
    },
    {
      "cell_type": "markdown",
      "metadata": {
        "id": "CD-D3s6jR_lN"
      },
      "source": [
        ""
      ]
    },
    {
      "cell_type": "code",
      "metadata": {
        "id": "Bt2JTOwIkIDI"
      },
      "source": [
        "best_revenue_2015['Avg_2015_Revenue'] = best_revenue_2015['2015 Revenue'].mean()"
      ],
      "execution_count": 242,
      "outputs": []
    },
    {
      "cell_type": "code",
      "metadata": {
        "colab": {
          "base_uri": "https://localhost:8080/"
        },
        "id": "er2n5nault_X",
        "outputId": "84c6d132-d96f-47bc-ef76-fa7f2bee3234"
      },
      "source": [
        "best_revenue_2015['2015 Revenue'] - best_revenue_2015['Avg_2015_Revenue']"
      ],
      "execution_count": 246,
      "outputs": [
        {
          "output_type": "execute_result",
          "data": {
            "text/plain": [
              "917    2821754.534\n",
              "636     570327.474\n",
              "56    -2478288.806\n",
              "123    -160010.746\n",
              "281    -771933.286\n",
              "324     989604.324\n",
              "615     823170.404\n",
              "80     -620097.046\n",
              "171   -2286528.506\n",
              "79     -359616.236\n",
              "230    1973665.824\n",
              "511    3531044.084\n",
              "612     601369.094\n",
              "979     691062.394\n",
              "28      598415.834\n",
              "160    -395711.146\n",
              "13     -220849.686\n",
              "922   -1031389.066\n",
              "216     366807.434\n",
              "744   -1464032.166\n",
              "527    -376851.146\n",
              "972   -1027710.986\n",
              "931    2033294.794\n",
              "319     -39725.276\n",
              "982   -3767772.096\n",
              "dtype: float64"
            ]
          },
          "metadata": {
            "tags": []
          },
          "execution_count": 246
        }
      ]
    }
  ]
}