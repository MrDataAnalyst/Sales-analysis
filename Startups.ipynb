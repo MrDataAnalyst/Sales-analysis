{
  "nbformat": 4,
  "nbformat_minor": 0,
  "metadata": {
    "colab": {
      "name": "Startups.ipynb",
      "provenance": [],
      "toc_visible": true,
      "mount_file_id": "15GB5ps6rR5t-pln8mtkuRIiHQEPw4imQ",
      "authorship_tag": "ABX9TyNDAFdo53G0YR5l+2jEQ708"
    },
    "kernelspec": {
      "name": "python3",
      "display_name": "Python 3"
    }
  },
  "cells": [
    {
      "cell_type": "code",
      "metadata": {
        "id": "MxL6nCBgQJMk"
      },
      "source": [
        "import pandas as pd\r\n",
        "import matplotlib.pyplot as plt\r\n",
        "import seaborn as sns\r\n",
        "import numpy as np"
      ],
      "execution_count": 1,
      "outputs": []
    },
    {
      "cell_type": "code",
      "metadata": {
        "id": "J8ydlO1TQN7g"
      },
      "source": [
        "#Read xlsx files into DF\r\n",
        "startups = pd.read_excel('/content/P11-1000-Startups.xlsx')\r\n",
        "Financials = pd.read_excel('/content/P11-1000-Startups.xlsx', sheet_name= 'Financials')"
      ],
      "execution_count": 3,
      "outputs": []
    },
    {
      "cell_type": "code",
      "metadata": {
        "id": "XcA6-vshdBen"
      },
      "source": [
        "#Joining Dataframes into one DF\r\n",
        "data = startups.join(Financials, on = 'ID', how = 'left', rsuffix = '_F')"
      ],
      "execution_count": null,
      "outputs": []
    },
    {
      "cell_type": "code",
      "metadata": {
        "id": "KcadaHbG53bz"
      },
      "source": [
        "startups['Avg_no_of_employees'] = startups.groupby('Industry')['Employees'].transform(np.mean).round(0)"
      ],
      "execution_count": 84,
      "outputs": []
    },
    {
      "cell_type": "code",
      "metadata": {
        "colab": {
          "base_uri": "https://localhost:8080/",
          "height": 198
        },
        "id": "7vMrrMyQSjrO",
        "outputId": "8037f075-940b-4334-a1ca-c23eb9537dd4"
      },
      "source": [
        "startups.head()"
      ],
      "execution_count": 85,
      "outputs": [
        {
          "output_type": "execute_result",
          "data": {
            "text/html": [
              "<div>\n",
              "<style scoped>\n",
              "    .dataframe tbody tr th:only-of-type {\n",
              "        vertical-align: middle;\n",
              "    }\n",
              "\n",
              "    .dataframe tbody tr th {\n",
              "        vertical-align: top;\n",
              "    }\n",
              "\n",
              "    .dataframe thead th {\n",
              "        text-align: right;\n",
              "    }\n",
              "</style>\n",
              "<table border=\"1\" class=\"dataframe\">\n",
              "  <thead>\n",
              "    <tr style=\"text-align: right;\">\n",
              "      <th></th>\n",
              "      <th>ID</th>\n",
              "      <th>Name</th>\n",
              "      <th>Industry</th>\n",
              "      <th>Description</th>\n",
              "      <th>Year Founded</th>\n",
              "      <th>Employees</th>\n",
              "      <th>State</th>\n",
              "      <th>City</th>\n",
              "      <th>Metro Area</th>\n",
              "      <th>Avg_no_of_employees</th>\n",
              "    </tr>\n",
              "  </thead>\n",
              "  <tbody>\n",
              "    <tr>\n",
              "      <th>0</th>\n",
              "      <td>1</td>\n",
              "      <td>Over-Hex</td>\n",
              "      <td>Software</td>\n",
              "      <td>Provides a Web-based CRM tool that allows hosp...</td>\n",
              "      <td>2006</td>\n",
              "      <td>25</td>\n",
              "      <td>TN</td>\n",
              "      <td>Franklin</td>\n",
              "      <td>Nashville</td>\n",
              "      <td>119.0</td>\n",
              "    </tr>\n",
              "    <tr>\n",
              "      <th>1</th>\n",
              "      <td>2</td>\n",
              "      <td>Unimattax</td>\n",
              "      <td>IT Services</td>\n",
              "      <td>Helps law firms use Thomson Reuters Elite prac...</td>\n",
              "      <td>2009</td>\n",
              "      <td>36</td>\n",
              "      <td>PA</td>\n",
              "      <td>Newtown Square</td>\n",
              "      <td>Philadelphia</td>\n",
              "      <td>108.0</td>\n",
              "    </tr>\n",
              "    <tr>\n",
              "      <th>2</th>\n",
              "      <td>3</td>\n",
              "      <td>Lexila</td>\n",
              "      <td>Real Estate</td>\n",
              "      <td>Offers investment, construction, residential, ...</td>\n",
              "      <td>2013</td>\n",
              "      <td>38</td>\n",
              "      <td>IL</td>\n",
              "      <td>Tinley Park</td>\n",
              "      <td>Chicago</td>\n",
              "      <td>154.0</td>\n",
              "    </tr>\n",
              "    <tr>\n",
              "      <th>3</th>\n",
              "      <td>4</td>\n",
              "      <td>Greenfax</td>\n",
              "      <td>Retail</td>\n",
              "      <td>A Verizon Wireless premium retailer that offer...</td>\n",
              "      <td>2012</td>\n",
              "      <td>320</td>\n",
              "      <td>SC</td>\n",
              "      <td>Greenville</td>\n",
              "      <td>Newberry, SC</td>\n",
              "      <td>204.0</td>\n",
              "    </tr>\n",
              "    <tr>\n",
              "      <th>4</th>\n",
              "      <td>5</td>\n",
              "      <td>Saoace</td>\n",
              "      <td>Energy</td>\n",
              "      <td>An energy efficiency consulting firm that work...</td>\n",
              "      <td>2009</td>\n",
              "      <td>24</td>\n",
              "      <td>WI</td>\n",
              "      <td>New Holstein</td>\n",
              "      <td>Appleton, WI</td>\n",
              "      <td>331.0</td>\n",
              "    </tr>\n",
              "  </tbody>\n",
              "</table>\n",
              "</div>"
            ],
            "text/plain": [
              "   ID       Name  ...    Metro Area Avg_no_of_employees\n",
              "0   1   Over-Hex  ...     Nashville               119.0\n",
              "1   2  Unimattax  ...  Philadelphia               108.0\n",
              "2   3     Lexila  ...       Chicago               154.0\n",
              "3   4   Greenfax  ...  Newberry, SC               204.0\n",
              "4   5     Saoace  ...  Appleton, WI               331.0\n",
              "\n",
              "[5 rows x 10 columns]"
            ]
          },
          "metadata": {
            "tags": []
          },
          "execution_count": 85
        }
      ]
    },
    {
      "cell_type": "code",
      "metadata": {
        "id": "LRZky8eqdBYJ",
        "colab": {
          "base_uri": "https://localhost:8080/",
          "height": 198
        },
        "outputId": "b3298ad8-0127-43d7-ea05-54436b57c7a0"
      },
      "source": [
        "Financials.head()"
      ],
      "execution_count": null,
      "outputs": [
        {
          "output_type": "execute_result",
          "data": {
            "text/html": [
              "<div>\n",
              "<style scoped>\n",
              "    .dataframe tbody tr th:only-of-type {\n",
              "        vertical-align: middle;\n",
              "    }\n",
              "\n",
              "    .dataframe tbody tr th {\n",
              "        vertical-align: top;\n",
              "    }\n",
              "\n",
              "    .dataframe thead th {\n",
              "        text-align: right;\n",
              "    }\n",
              "</style>\n",
              "<table border=\"1\" class=\"dataframe\">\n",
              "  <thead>\n",
              "    <tr style=\"text-align: right;\">\n",
              "      <th></th>\n",
              "      <th>ID</th>\n",
              "      <th>Name</th>\n",
              "      <th>2015 Revenue</th>\n",
              "      <th>2015 Expenses</th>\n",
              "      <th>2015 Profit</th>\n",
              "      <th>2015 Growth %</th>\n",
              "      <th>2014 Revenue</th>\n",
              "      <th>2014 Expenses</th>\n",
              "      <th>2014 Profit</th>\n",
              "      <th>2014 Growth %</th>\n",
              "      <th>2013 Revenue</th>\n",
              "      <th>2013 Expenses</th>\n",
              "      <th>2013 Profit</th>\n",
              "    </tr>\n",
              "  </thead>\n",
              "  <tbody>\n",
              "    <tr>\n",
              "      <th>0</th>\n",
              "      <td>1</td>\n",
              "      <td>Over-Hex</td>\n",
              "      <td>10684526.90</td>\n",
              "      <td>1130700.06</td>\n",
              "      <td>9553826.84</td>\n",
              "      <td>3.34</td>\n",
              "      <td>2463739</td>\n",
              "      <td>194747.86</td>\n",
              "      <td>2268991.14</td>\n",
              "      <td>4.10</td>\n",
              "      <td>483086.08</td>\n",
              "      <td>43394.44</td>\n",
              "      <td>439691.64</td>\n",
              "    </tr>\n",
              "    <tr>\n",
              "      <th>1</th>\n",
              "      <td>2</td>\n",
              "      <td>Unimattax</td>\n",
              "      <td>9016542.89</td>\n",
              "      <td>804035.40</td>\n",
              "      <td>8212507.49</td>\n",
              "      <td>0.65</td>\n",
              "      <td>5448571</td>\n",
              "      <td>239226.90</td>\n",
              "      <td>5209344.10</td>\n",
              "      <td>0.41</td>\n",
              "      <td>3864234.75</td>\n",
              "      <td>91714.44</td>\n",
              "      <td>3772520.31</td>\n",
              "    </tr>\n",
              "    <tr>\n",
              "      <th>2</th>\n",
              "      <td>3</td>\n",
              "      <td>Lexila</td>\n",
              "      <td>12456641.64</td>\n",
              "      <td>2149297.00</td>\n",
              "      <td>10307344.65</td>\n",
              "      <td>5.20</td>\n",
              "      <td>2007778</td>\n",
              "      <td>335126.93</td>\n",
              "      <td>1672651.07</td>\n",
              "      <td>4.23</td>\n",
              "      <td>383896.37</td>\n",
              "      <td>112257.41</td>\n",
              "      <td>271638.96</td>\n",
              "    </tr>\n",
              "    <tr>\n",
              "      <th>3</th>\n",
              "      <td>4</td>\n",
              "      <td>Greenfax</td>\n",
              "      <td>7746272.07</td>\n",
              "      <td>1044375.49</td>\n",
              "      <td>6701896.58</td>\n",
              "      <td>3.17</td>\n",
              "      <td>1857830</td>\n",
              "      <td>247048.76</td>\n",
              "      <td>1610781.24</td>\n",
              "      <td>0.56</td>\n",
              "      <td>1190916.67</td>\n",
              "      <td>625442.66</td>\n",
              "      <td>565474.01</td>\n",
              "    </tr>\n",
              "    <tr>\n",
              "      <th>4</th>\n",
              "      <td>5</td>\n",
              "      <td>Saoace</td>\n",
              "      <td>10725585.46</td>\n",
              "      <td>2694644.42</td>\n",
              "      <td>8030941.04</td>\n",
              "      <td>3.12</td>\n",
              "      <td>2604017</td>\n",
              "      <td>615040.85</td>\n",
              "      <td>1988976.15</td>\n",
              "      <td>2.39</td>\n",
              "      <td>768146.61</td>\n",
              "      <td>222962.86</td>\n",
              "      <td>545183.75</td>\n",
              "    </tr>\n",
              "  </tbody>\n",
              "</table>\n",
              "</div>"
            ],
            "text/plain": [
              "   ID       Name  2015 Revenue  ...  2013 Revenue  2013 Expenses  2013 Profit\n",
              "0   1   Over-Hex   10684526.90  ...     483086.08       43394.44    439691.64\n",
              "1   2  Unimattax    9016542.89  ...    3864234.75       91714.44   3772520.31\n",
              "2   3     Lexila   12456641.64  ...     383896.37      112257.41    271638.96\n",
              "3   4   Greenfax    7746272.07  ...    1190916.67      625442.66    565474.01\n",
              "4   5     Saoace   10725585.46  ...     768146.61      222962.86    545183.75\n",
              "\n",
              "[5 rows x 13 columns]"
            ]
          },
          "metadata": {
            "tags": []
          },
          "execution_count": 45
        }
      ]
    },
    {
      "cell_type": "code",
      "metadata": {
        "id": "q7zY0aBf1dYH",
        "colab": {
          "base_uri": "https://localhost:8080/",
          "height": 225
        },
        "outputId": "1e305f82-7e55-46bd-864b-b7af0d02fcd7"
      },
      "source": [
        "data.head(3)"
      ],
      "execution_count": null,
      "outputs": [
        {
          "output_type": "execute_result",
          "data": {
            "text/html": [
              "<div>\n",
              "<style scoped>\n",
              "    .dataframe tbody tr th:only-of-type {\n",
              "        vertical-align: middle;\n",
              "    }\n",
              "\n",
              "    .dataframe tbody tr th {\n",
              "        vertical-align: top;\n",
              "    }\n",
              "\n",
              "    .dataframe thead th {\n",
              "        text-align: right;\n",
              "    }\n",
              "</style>\n",
              "<table border=\"1\" class=\"dataframe\">\n",
              "  <thead>\n",
              "    <tr style=\"text-align: right;\">\n",
              "      <th></th>\n",
              "      <th>ID</th>\n",
              "      <th>Name</th>\n",
              "      <th>Industry</th>\n",
              "      <th>Description</th>\n",
              "      <th>Year Founded</th>\n",
              "      <th>Employees</th>\n",
              "      <th>State</th>\n",
              "      <th>City</th>\n",
              "      <th>Metro Area</th>\n",
              "      <th>Avg_no_of_employees</th>\n",
              "      <th>2015 Revenue</th>\n",
              "      <th>2015 Expenses</th>\n",
              "      <th>2015 Profit</th>\n",
              "      <th>2015 Growth %</th>\n",
              "      <th>2014 Revenue</th>\n",
              "      <th>2014 Expenses</th>\n",
              "      <th>2014 Profit</th>\n",
              "      <th>2014 Growth %</th>\n",
              "      <th>2013 Revenue</th>\n",
              "      <th>2013 Expenses</th>\n",
              "      <th>2013 Profit</th>\n",
              "    </tr>\n",
              "  </thead>\n",
              "  <tbody>\n",
              "    <tr>\n",
              "      <th>0</th>\n",
              "      <td>1</td>\n",
              "      <td>Over-Hex</td>\n",
              "      <td>Software</td>\n",
              "      <td>Provides a Web-based CRM tool that allows hosp...</td>\n",
              "      <td>2006</td>\n",
              "      <td>25</td>\n",
              "      <td>TN</td>\n",
              "      <td>Franklin</td>\n",
              "      <td>Nashville</td>\n",
              "      <td>119.0</td>\n",
              "      <td>9016542.89</td>\n",
              "      <td>804035.40</td>\n",
              "      <td>8212507.49</td>\n",
              "      <td>65.00%</td>\n",
              "      <td>5448571.0</td>\n",
              "      <td>239226.90</td>\n",
              "      <td>5209344.10</td>\n",
              "      <td>0.41</td>\n",
              "      <td>3864234.75</td>\n",
              "      <td>91714.44</td>\n",
              "      <td>3772520.31</td>\n",
              "    </tr>\n",
              "    <tr>\n",
              "      <th>1</th>\n",
              "      <td>2</td>\n",
              "      <td>Unimattax</td>\n",
              "      <td>IT Services</td>\n",
              "      <td>Helps law firms use Thomson Reuters Elite prac...</td>\n",
              "      <td>2009</td>\n",
              "      <td>36</td>\n",
              "      <td>PA</td>\n",
              "      <td>Newtown Square</td>\n",
              "      <td>Philadelphia</td>\n",
              "      <td>108.0</td>\n",
              "      <td>12456641.64</td>\n",
              "      <td>2149297.00</td>\n",
              "      <td>10307344.65</td>\n",
              "      <td>520.00%</td>\n",
              "      <td>2007778.0</td>\n",
              "      <td>335126.93</td>\n",
              "      <td>1672651.07</td>\n",
              "      <td>4.23</td>\n",
              "      <td>383896.37</td>\n",
              "      <td>112257.41</td>\n",
              "      <td>271638.96</td>\n",
              "    </tr>\n",
              "    <tr>\n",
              "      <th>2</th>\n",
              "      <td>3</td>\n",
              "      <td>Lexila</td>\n",
              "      <td>Real Estate</td>\n",
              "      <td>Offers investment, construction, residential, ...</td>\n",
              "      <td>2013</td>\n",
              "      <td>38</td>\n",
              "      <td>IL</td>\n",
              "      <td>Tinley Park</td>\n",
              "      <td>Chicago</td>\n",
              "      <td>154.0</td>\n",
              "      <td>7746272.07</td>\n",
              "      <td>1044375.49</td>\n",
              "      <td>6701896.58</td>\n",
              "      <td>317.00%</td>\n",
              "      <td>1857830.0</td>\n",
              "      <td>247048.76</td>\n",
              "      <td>1610781.24</td>\n",
              "      <td>0.56</td>\n",
              "      <td>1190916.67</td>\n",
              "      <td>625442.66</td>\n",
              "      <td>565474.01</td>\n",
              "    </tr>\n",
              "  </tbody>\n",
              "</table>\n",
              "</div>"
            ],
            "text/plain": [
              "   ID       Name     Industry  ... 2013 Revenue  2013 Expenses  2013 Profit\n",
              "0   1   Over-Hex     Software  ...   3864234.75       91714.44   3772520.31\n",
              "1   2  Unimattax  IT Services  ...    383896.37      112257.41    271638.96\n",
              "2   3     Lexila  Real Estate  ...   1190916.67      625442.66    565474.01\n",
              "\n",
              "[3 rows x 21 columns]"
            ]
          },
          "metadata": {
            "tags": []
          },
          "execution_count": 73
        }
      ]
    },
    {
      "cell_type": "code",
      "metadata": {
        "id": "VLG1u8FTSlG9"
      },
      "source": [
        "industries = startups.groupby('Industry').size().sort_values(ascending = False)"
      ],
      "execution_count": 34,
      "outputs": []
    },
    {
      "cell_type": "code",
      "metadata": {
        "id": "stgo2G0LZON6"
      },
      "source": [
        "industries = pd.DataFrame(industries)"
      ],
      "execution_count": 8,
      "outputs": []
    },
    {
      "cell_type": "code",
      "metadata": {
        "id": "Au0Cfq_-ZsnF"
      },
      "source": [
        "#industries.reset_index(inplace=True)\r\n",
        "industries.rename(columns={0:'Number'}, inplace=True)\r\n"
      ],
      "execution_count": 9,
      "outputs": []
    },
    {
      "cell_type": "code",
      "metadata": {
        "id": "L4bBPTpEaJOl"
      },
      "source": [
        "industries"
      ],
      "execution_count": null,
      "outputs": []
    },
    {
      "cell_type": "markdown",
      "metadata": {
        "id": "z0J93AXpovMd"
      },
      "source": [
        "Let's find the earliest founded startups each industry"
      ]
    },
    {
      "cell_type": "code",
      "metadata": {
        "id": "B8bv7xwCSmLB"
      },
      "source": [
        "earliest_startups = pd.DataFrame(columns = startups.columns.to_list())"
      ],
      "execution_count": 18,
      "outputs": []
    },
    {
      "cell_type": "code",
      "metadata": {
        "id": "JQNybuHHSmVP",
        "colab": {
          "base_uri": "https://localhost:8080/",
          "height": 48
        },
        "outputId": "2da94829-e9d0-43ac-ceaa-1f2b0c1c5e79"
      },
      "source": [
        "earliest_startups"
      ],
      "execution_count": null,
      "outputs": [
        {
          "output_type": "execute_result",
          "data": {
            "text/html": [
              "<div>\n",
              "<style scoped>\n",
              "    .dataframe tbody tr th:only-of-type {\n",
              "        vertical-align: middle;\n",
              "    }\n",
              "\n",
              "    .dataframe tbody tr th {\n",
              "        vertical-align: top;\n",
              "    }\n",
              "\n",
              "    .dataframe thead th {\n",
              "        text-align: right;\n",
              "    }\n",
              "</style>\n",
              "<table border=\"1\" class=\"dataframe\">\n",
              "  <thead>\n",
              "    <tr style=\"text-align: right;\">\n",
              "      <th></th>\n",
              "      <th>ID</th>\n",
              "      <th>Name</th>\n",
              "      <th>Industry</th>\n",
              "      <th>Description</th>\n",
              "      <th>Year Founded</th>\n",
              "      <th>Employees</th>\n",
              "      <th>State</th>\n",
              "      <th>City</th>\n",
              "      <th>Metro Area</th>\n",
              "    </tr>\n",
              "  </thead>\n",
              "  <tbody>\n",
              "  </tbody>\n",
              "</table>\n",
              "</div>"
            ],
            "text/plain": [
              "Empty DataFrame\n",
              "Columns: [ID, Name, Industry, Description, Year Founded, Employees, State, City, Metro Area]\n",
              "Index: []"
            ]
          },
          "metadata": {
            "tags": []
          },
          "execution_count": 26
        }
      ]
    },
    {
      "cell_type": "code",
      "metadata": {
        "id": "LyuqeS8tSmdf"
      },
      "source": [
        "industry_grup = startups.groupby('Industry')"
      ],
      "execution_count": 20,
      "outputs": []
    },
    {
      "cell_type": "code",
      "metadata": {
        "id": "aTc7cdauSmk_"
      },
      "source": [
        "# Find the earliest founded startup in each industry\r\n",
        "for industry, year in industry_grup:\r\n",
        "  the_min_year = year.nsmallest(n=1, columns = 'Year Founded')\r\n",
        "  earliest_startups = earliest_startups.append(the_min_year)"
      ],
      "execution_count": 24,
      "outputs": []
    },
    {
      "cell_type": "code",
      "metadata": {
        "id": "IZrwwRwtSmyB"
      },
      "source": [
        "# Optional export data to xlsx file\r\n",
        "earliest_startups.to_excel('earliest_startups.xlsx')"
      ],
      "execution_count": 25,
      "outputs": []
    },
    {
      "cell_type": "code",
      "metadata": {
        "colab": {
          "base_uri": "https://localhost:8080/",
          "height": 138
        },
        "id": "SEI4ogLNeSzk",
        "outputId": "07b80f00-fe6b-4c27-d522-b187124258be"
      },
      "source": [
        "earliest_startups.head(3)"
      ],
      "execution_count": 28,
      "outputs": [
        {
          "output_type": "execute_result",
          "data": {
            "text/html": [
              "<div>\n",
              "<style scoped>\n",
              "    .dataframe tbody tr th:only-of-type {\n",
              "        vertical-align: middle;\n",
              "    }\n",
              "\n",
              "    .dataframe tbody tr th {\n",
              "        vertical-align: top;\n",
              "    }\n",
              "\n",
              "    .dataframe thead th {\n",
              "        text-align: right;\n",
              "    }\n",
              "</style>\n",
              "<table border=\"1\" class=\"dataframe\">\n",
              "  <thead>\n",
              "    <tr style=\"text-align: right;\">\n",
              "      <th></th>\n",
              "      <th>ID</th>\n",
              "      <th>Name</th>\n",
              "      <th>Industry</th>\n",
              "      <th>Description</th>\n",
              "      <th>Year Founded</th>\n",
              "      <th>Employees</th>\n",
              "      <th>State</th>\n",
              "      <th>City</th>\n",
              "      <th>Metro Area</th>\n",
              "    </tr>\n",
              "  </thead>\n",
              "  <tbody>\n",
              "    <tr>\n",
              "      <th>291</th>\n",
              "      <td>292</td>\n",
              "      <td>Fintax</td>\n",
              "      <td>Advertising &amp; Marketing</td>\n",
              "      <td>Provides a comprehensive lead serivce package ...</td>\n",
              "      <td>2000</td>\n",
              "      <td>12</td>\n",
              "      <td>IL</td>\n",
              "      <td>Chicago</td>\n",
              "      <td>Chicago</td>\n",
              "    </tr>\n",
              "    <tr>\n",
              "      <th>111</th>\n",
              "      <td>112</td>\n",
              "      <td>Keycone</td>\n",
              "      <td>Business Products &amp; Services</td>\n",
              "      <td>Develops online systems that give health insur...</td>\n",
              "      <td>2000</td>\n",
              "      <td>62</td>\n",
              "      <td>CT</td>\n",
              "      <td>Madison</td>\n",
              "      <td>New Haven-Milford, CT</td>\n",
              "    </tr>\n",
              "    <tr>\n",
              "      <th>56</th>\n",
              "      <td>57</td>\n",
              "      <td>Tindex</td>\n",
              "      <td>Computer Hardware</td>\n",
              "      <td>Provides clients with a streamlined purchasing...</td>\n",
              "      <td>2011</td>\n",
              "      <td>11</td>\n",
              "      <td>MN</td>\n",
              "      <td>Spring Park</td>\n",
              "      <td>Minneapolis</td>\n",
              "    </tr>\n",
              "  </tbody>\n",
              "</table>\n",
              "</div>"
            ],
            "text/plain": [
              "      ID     Name  ...         City             Metro Area\n",
              "291  292   Fintax  ...      Chicago                Chicago\n",
              "111  112  Keycone  ...      Madison  New Haven-Milford, CT\n",
              "56    57   Tindex  ...  Spring Park            Minneapolis\n",
              "\n",
              "[3 rows x 9 columns]"
            ]
          },
          "metadata": {
            "tags": []
          },
          "execution_count": 28
        }
      ]
    },
    {
      "cell_type": "markdown",
      "metadata": {
        "id": "iHnCLHPT84_A"
      },
      "source": [
        "Let's check which industry hire the highest number of employees"
      ]
    },
    {
      "cell_type": "code",
      "metadata": {
        "id": "7Vl3lBVEYY2S"
      },
      "source": [
        "indus = startups.groupby('Industry').agg({'Employees': [np.mean, np.sum]})"
      ],
      "execution_count": 36,
      "outputs": []
    },
    {
      "cell_type": "code",
      "metadata": {
        "id": "_JwxUH6pfoHu"
      },
      "source": [
        "indus.columns = [x + y.capitalize() for x,y in indus.columns.values]"
      ],
      "execution_count": 37,
      "outputs": []
    },
    {
      "cell_type": "code",
      "metadata": {
        "id": "j8vJB1d7fok5"
      },
      "source": [
        "#indus.reset_index(inplace=True)\r\n",
        "indus.rename(columns={'EmployeesMean':'Employees_Mean', 'EmployeesSum':'Employees_Sum'}, inplace=True)"
      ],
      "execution_count": 38,
      "outputs": []
    },
    {
      "cell_type": "code",
      "metadata": {
        "id": "uBmCJnSIdAP5"
      },
      "source": [
        "indus.reset_index(inplace = True)"
      ],
      "execution_count": 39,
      "outputs": []
    },
    {
      "cell_type": "code",
      "metadata": {
        "id": "ckoT5MKIdA9A"
      },
      "source": [
        "indus['Employees_Mean'] = indus['Employees_Mean'].round(0)"
      ],
      "execution_count": 33,
      "outputs": []
    },
    {
      "cell_type": "code",
      "metadata": {
        "id": "j5XG5bMgssFq"
      },
      "source": [
        "indus"
      ],
      "execution_count": null,
      "outputs": []
    },
    {
      "cell_type": "code",
      "metadata": {
        "colab": {
          "base_uri": "https://localhost:8080/",
          "height": 889
        },
        "id": "6CpVRE997wm5",
        "outputId": "6ab9af5d-9359-471c-84fa-2abd6c3e3864"
      },
      "source": [
        "fig = plt.figure(figsize=(18,9))\r\n",
        "ax = fig.add_axes([0,0,1,1])\r\n",
        "\r\n",
        "x1 = indus['Industry']\r\n",
        "x2 = indus['Employees_Mean']\r\n",
        "x3 = indus['Employees_Sum']\r\n",
        "plt.xticks(rotation=90, size = 12) \r\n",
        "plt.ylabel('Number of employees', size = 14)\r\n",
        "plt.xlabel('Industries', size = 14)\r\n",
        "ax.plot(x1,x2, color = 'g', linewidth=3.0)\r\n",
        "ax.bar(x1,x3, color = 'grey', alpha = 0.5)\r\n",
        "ax.annotate('Highest point - Health industry', xy = ('Health', 18000), size = 12, color = 'black')\r\n",
        "plt.savefig('Chart_basic.png', dpi = 300)"
      ],
      "execution_count": 113,
      "outputs": [
        {
          "output_type": "display_data",
          "data": {
            "image/png": "[encoded data removed]",
            "text/plain": [
              "<Figure size 1296x648 with 1 Axes>"
            ]
          },
          "metadata": {
            "tags": [],
            "needs_background": "light"
          }
        }
      ]
    },
    {
      "cell_type": "code",
      "metadata": {
        "colab": {
          "base_uri": "https://localhost:8080/",
          "height": 699
        },
        "id": "FeSYod8e529u",
        "outputId": "638c17ce-4a9e-4bea-acc2-96fd5862de7b"
      },
      "source": [
        "fig = plt.figure(figsize=(18,9))\r\n",
        "ax = fig.add_axes([0,0,1,1])\r\n",
        "indus.sort_values(by = 'Employees_Sum', ascending=True, inplace = True)\r\n",
        "\r\n",
        "x1 = indus['Industry']\r\n",
        "x2 = indus['Employees_Sum']\r\n",
        "\r\n",
        "plt.barh(x1,x2, color = 'blue', alpha = 0.5)\r\n",
        "plt.xticks(size = 12)\r\n",
        "plt.show()\r\n"
      ],
      "execution_count": 119,
      "outputs": [
        {
          "output_type": "display_data",
          "data": {
            "image/png": "[encoded data removed]",
            "text/plain": [
              "<Figure size 1296x648 with 1 Axes>"
            ]
          },
          "metadata": {
            "tags": [],
            "needs_background": "light"
          }
        }
      ]
    },
    {
      "cell_type": "code",
      "metadata": {
        "colab": {
          "base_uri": "https://localhost:8080/",
          "height": 798
        },
        "id": "CJdBuxYzwu9t",
        "outputId": "9927173c-5951-4b03-dc49-fd37b401dcc3"
      },
      "source": [
        "indus.sort_values(by = 'Employees_Sum', ascending=False)"
      ],
      "execution_count": 89,
      "outputs": [
        {
          "output_type": "execute_result",
          "data": {
            "text/html": [
              "<div>\n",
              "<style scoped>\n",
              "    .dataframe tbody tr th:only-of-type {\n",
              "        vertical-align: middle;\n",
              "    }\n",
              "\n",
              "    .dataframe tbody tr th {\n",
              "        vertical-align: top;\n",
              "    }\n",
              "\n",
              "    .dataframe thead th {\n",
              "        text-align: right;\n",
              "    }\n",
              "</style>\n",
              "<table border=\"1\" class=\"dataframe\">\n",
              "  <thead>\n",
              "    <tr style=\"text-align: right;\">\n",
              "      <th></th>\n",
              "      <th>Industry</th>\n",
              "      <th>Employees_Mean</th>\n",
              "      <th>Employees_Sum</th>\n",
              "    </tr>\n",
              "  </thead>\n",
              "  <tbody>\n",
              "    <tr>\n",
              "      <th>12</th>\n",
              "      <td>Health</td>\n",
              "      <td>204.022727</td>\n",
              "      <td>17954</td>\n",
              "    </tr>\n",
              "    <tr>\n",
              "      <th>14</th>\n",
              "      <td>IT Services</td>\n",
              "      <td>107.517007</td>\n",
              "      <td>15805</td>\n",
              "    </tr>\n",
              "    <tr>\n",
              "      <th>10</th>\n",
              "      <td>Food &amp; Beverage</td>\n",
              "      <td>393.393939</td>\n",
              "      <td>12982</td>\n",
              "    </tr>\n",
              "    <tr>\n",
              "      <th>9</th>\n",
              "      <td>Financial Services</td>\n",
              "      <td>207.240741</td>\n",
              "      <td>11191</td>\n",
              "    </tr>\n",
              "    <tr>\n",
              "      <th>22</th>\n",
              "      <td>Software</td>\n",
              "      <td>119.183908</td>\n",
              "      <td>10369</td>\n",
              "    </tr>\n",
              "    <tr>\n",
              "      <th>20</th>\n",
              "      <td>Retail</td>\n",
              "      <td>204.312500</td>\n",
              "      <td>9807</td>\n",
              "    </tr>\n",
              "    <tr>\n",
              "      <th>11</th>\n",
              "      <td>Government Services</td>\n",
              "      <td>172.720000</td>\n",
              "      <td>8636</td>\n",
              "    </tr>\n",
              "    <tr>\n",
              "      <th>13</th>\n",
              "      <td>Human Resources</td>\n",
              "      <td>181.395349</td>\n",
              "      <td>7800</td>\n",
              "    </tr>\n",
              "    <tr>\n",
              "      <th>6</th>\n",
              "      <td>Energy</td>\n",
              "      <td>330.590909</td>\n",
              "      <td>7273</td>\n",
              "    </tr>\n",
              "    <tr>\n",
              "      <th>1</th>\n",
              "      <td>Business Products &amp; Services</td>\n",
              "      <td>95.029851</td>\n",
              "      <td>6367</td>\n",
              "    </tr>\n",
              "    <tr>\n",
              "      <th>4</th>\n",
              "      <td>Consumer Products &amp; Services</td>\n",
              "      <td>131.733333</td>\n",
              "      <td>5928</td>\n",
              "    </tr>\n",
              "    <tr>\n",
              "      <th>17</th>\n",
              "      <td>Manufacturing</td>\n",
              "      <td>162.310345</td>\n",
              "      <td>4707</td>\n",
              "    </tr>\n",
              "    <tr>\n",
              "      <th>19</th>\n",
              "      <td>Real Estate</td>\n",
              "      <td>153.642857</td>\n",
              "      <td>4302</td>\n",
              "    </tr>\n",
              "    <tr>\n",
              "      <th>0</th>\n",
              "      <td>Advertising &amp; Marketing</td>\n",
              "      <td>54.615385</td>\n",
              "      <td>3550</td>\n",
              "    </tr>\n",
              "    <tr>\n",
              "      <th>16</th>\n",
              "      <td>Logistics &amp; Transportation</td>\n",
              "      <td>115.172414</td>\n",
              "      <td>3340</td>\n",
              "    </tr>\n",
              "    <tr>\n",
              "      <th>23</th>\n",
              "      <td>Telecommunications</td>\n",
              "      <td>114.035714</td>\n",
              "      <td>3193</td>\n",
              "    </tr>\n",
              "    <tr>\n",
              "      <th>3</th>\n",
              "      <td>Construction</td>\n",
              "      <td>57.938776</td>\n",
              "      <td>2839</td>\n",
              "    </tr>\n",
              "    <tr>\n",
              "      <th>7</th>\n",
              "      <td>Engineering</td>\n",
              "      <td>116.647059</td>\n",
              "      <td>1983</td>\n",
              "    </tr>\n",
              "    <tr>\n",
              "      <th>21</th>\n",
              "      <td>Security</td>\n",
              "      <td>142.692308</td>\n",
              "      <td>1855</td>\n",
              "    </tr>\n",
              "    <tr>\n",
              "      <th>15</th>\n",
              "      <td>Insurance</td>\n",
              "      <td>87.615385</td>\n",
              "      <td>1139</td>\n",
              "    </tr>\n",
              "    <tr>\n",
              "      <th>18</th>\n",
              "      <td>Media</td>\n",
              "      <td>81.214286</td>\n",
              "      <td>1137</td>\n",
              "    </tr>\n",
              "    <tr>\n",
              "      <th>5</th>\n",
              "      <td>Education</td>\n",
              "      <td>56.647059</td>\n",
              "      <td>963</td>\n",
              "    </tr>\n",
              "    <tr>\n",
              "      <th>8</th>\n",
              "      <td>Environmental Services</td>\n",
              "      <td>78.000000</td>\n",
              "      <td>702</td>\n",
              "    </tr>\n",
              "    <tr>\n",
              "      <th>2</th>\n",
              "      <td>Computer Hardware</td>\n",
              "      <td>49.000000</td>\n",
              "      <td>196</td>\n",
              "    </tr>\n",
              "    <tr>\n",
              "      <th>24</th>\n",
              "      <td>Travel &amp; Hospitality</td>\n",
              "      <td>27.000000</td>\n",
              "      <td>27</td>\n",
              "    </tr>\n",
              "  </tbody>\n",
              "</table>\n",
              "</div>"
            ],
            "text/plain": [
              "                        Industry  Employees_Mean  Employees_Sum\n",
              "12                        Health      204.022727          17954\n",
              "14                   IT Services      107.517007          15805\n",
              "10               Food & Beverage      393.393939          12982\n",
              "9             Financial Services      207.240741          11191\n",
              "22                      Software      119.183908          10369\n",
              "20                        Retail      204.312500           9807\n",
              "11           Government Services      172.720000           8636\n",
              "13               Human Resources      181.395349           7800\n",
              "6                         Energy      330.590909           7273\n",
              "1   Business Products & Services       95.029851           6367\n",
              "4   Consumer Products & Services      131.733333           5928\n",
              "17                 Manufacturing      162.310345           4707\n",
              "19                   Real Estate      153.642857           4302\n",
              "0        Advertising & Marketing       54.615385           3550\n",
              "16    Logistics & Transportation      115.172414           3340\n",
              "23            Telecommunications      114.035714           3193\n",
              "3                   Construction       57.938776           2839\n",
              "7                    Engineering      116.647059           1983\n",
              "21                      Security      142.692308           1855\n",
              "15                     Insurance       87.615385           1139\n",
              "18                         Media       81.214286           1137\n",
              "5                      Education       56.647059            963\n",
              "8         Environmental Services       78.000000            702\n",
              "2              Computer Hardware       49.000000            196\n",
              "24          Travel & Hospitality       27.000000             27"
            ]
          },
          "metadata": {
            "tags": []
          },
          "execution_count": 89
        }
      ]
    },
    {
      "cell_type": "code",
      "metadata": {
        "id": "Jo097Fk0ueDx"
      },
      "source": [
        ""
      ],
      "execution_count": null,
      "outputs": []
    },
    {
      "cell_type": "code",
      "metadata": {
        "id": "E3rCJ5WhLIIP"
      },
      "source": [
        "data.drop(columns = ['ID_F','Name_F'], inplace = True)"
      ],
      "execution_count": null,
      "outputs": []
    },
    {
      "cell_type": "code",
      "metadata": {
        "id": "2B1tUDW3LIXr"
      },
      "source": [
        "data.info()"
      ],
      "execution_count": null,
      "outputs": []
    },
    {
      "cell_type": "code",
      "metadata": {
        "id": "hUbjLWVSLIiO"
      },
      "source": [
        "#works but without precises decimals\r\n",
        "data['2015 Growth %'] = pd.Series([\"{0:,.2f}%\".format(val * 100) for val in data['2015 Growth %']], index = data.index)"
      ],
      "execution_count": null,
      "outputs": []
    },
    {
      "cell_type": "code",
      "metadata": {
        "id": "gGGHbc981dnC"
      },
      "source": [
        "data['2014 Growth %'] = data.to_string(formatters={'2014 Growth %': '{:,.2f}'.format})"
      ],
      "execution_count": null,
      "outputs": []
    },
    {
      "cell_type": "code",
      "metadata": {
        "id": "9j76yna71d1N",
        "colab": {
          "base_uri": "https://localhost:8080/",
          "height": 225
        },
        "outputId": "5a00d22c-895e-4b49-84fd-392bfeb3ec6f"
      },
      "source": [
        "data['2014 Growth %'] = pd.Series([\"{0:,.2f}\".format(val * 100) for val in data['2014 Growth %']], index = data.index)"
      ],
      "execution_count": null,
      "outputs": [
        {
          "output_type": "error",
          "ename": "ValueError",
          "evalue": "ignored",
          "traceback": [
            "\u001b[0;31m---------------------------------------------------------------------------\u001b[0m",
            "\u001b[0;31mValueError\u001b[0m                                Traceback (most recent call last)",
            "\u001b[0;32m<ipython-input-84-56d7676dd2fc>\u001b[0m in \u001b[0;36m<module>\u001b[0;34m()\u001b[0m\n\u001b[0;32m----> 1\u001b[0;31m \u001b[0mdata\u001b[0m\u001b[0;34m[\u001b[0m\u001b[0;34m'2014 Growth %'\u001b[0m\u001b[0;34m]\u001b[0m \u001b[0;34m=\u001b[0m \u001b[0mpd\u001b[0m\u001b[0;34m.\u001b[0m\u001b[0mSeries\u001b[0m\u001b[0;34m(\u001b[0m\u001b[0;34m[\u001b[0m\u001b[0;34m\"{0:,.2f}\"\u001b[0m\u001b[0;34m.\u001b[0m\u001b[0mformat\u001b[0m\u001b[0;34m(\u001b[0m\u001b[0mval\u001b[0m \u001b[0;34m*\u001b[0m \u001b[0;36m100\u001b[0m\u001b[0;34m)\u001b[0m \u001b[0;32mfor\u001b[0m \u001b[0mval\u001b[0m \u001b[0;32min\u001b[0m \u001b[0mdata\u001b[0m\u001b[0;34m[\u001b[0m\u001b[0;34m'2014 Growth %'\u001b[0m\u001b[0;34m]\u001b[0m\u001b[0;34m]\u001b[0m\u001b[0;34m,\u001b[0m \u001b[0mindex\u001b[0m \u001b[0;34m=\u001b[0m \u001b[0mdata\u001b[0m\u001b[0;34m.\u001b[0m\u001b[0mindex\u001b[0m\u001b[0;34m)\u001b[0m\u001b[0;34m\u001b[0m\u001b[0;34m\u001b[0m\u001b[0m\n\u001b[0m",
            "\u001b[0;32m<ipython-input-84-56d7676dd2fc>\u001b[0m in \u001b[0;36m<listcomp>\u001b[0;34m(.0)\u001b[0m\n\u001b[0;32m----> 1\u001b[0;31m \u001b[0mdata\u001b[0m\u001b[0;34m[\u001b[0m\u001b[0;34m'2014 Growth %'\u001b[0m\u001b[0;34m]\u001b[0m \u001b[0;34m=\u001b[0m \u001b[0mpd\u001b[0m\u001b[0;34m.\u001b[0m\u001b[0mSeries\u001b[0m\u001b[0;34m(\u001b[0m\u001b[0;34m[\u001b[0m\u001b[0;34m\"{0:,.2f}\"\u001b[0m\u001b[0;34m.\u001b[0m\u001b[0mformat\u001b[0m\u001b[0;34m(\u001b[0m\u001b[0mval\u001b[0m \u001b[0;34m*\u001b[0m \u001b[0;36m100\u001b[0m\u001b[0;34m)\u001b[0m \u001b[0;32mfor\u001b[0m \u001b[0mval\u001b[0m \u001b[0;32min\u001b[0m \u001b[0mdata\u001b[0m\u001b[0;34m[\u001b[0m\u001b[0;34m'2014 Growth %'\u001b[0m\u001b[0;34m]\u001b[0m\u001b[0;34m]\u001b[0m\u001b[0;34m,\u001b[0m \u001b[0mindex\u001b[0m \u001b[0;34m=\u001b[0m \u001b[0mdata\u001b[0m\u001b[0;34m.\u001b[0m\u001b[0mindex\u001b[0m\u001b[0;34m)\u001b[0m\u001b[0;34m\u001b[0m\u001b[0;34m\u001b[0m\u001b[0m\n\u001b[0m",
            "\u001b[0;31mValueError\u001b[0m: Unknown format code 'f' for object of type 'str'"
          ]
        }
      ]
    },
    {
      "cell_type": "markdown",
      "metadata": {
        "id": "LbXhy27cSRE_"
      },
      "source": [
        "# Nowa sekcja"
      ]
    },
    {
      "cell_type": "code",
      "metadata": {
        "id": "dWGwgtP1LHa7"
      },
      "source": [
        ""
      ],
      "execution_count": null,
      "outputs": []
    }
  ]
}