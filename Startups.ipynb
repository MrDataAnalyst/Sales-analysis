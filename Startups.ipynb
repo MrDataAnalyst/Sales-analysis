{
  "nbformat": 4,
  "nbformat_minor": 0,
  "metadata": {
    "colab": {
      "name": "Startups.ipynb",
      "provenance": [],
      "mount_file_id": "15GB5ps6rR5t-pln8mtkuRIiHQEPw4imQ",
      "authorship_tag": "ABX9TyPLz/XrgGoGhmRKQic5Akbv"
    },
    "kernelspec": {
      "name": "python3",
      "display_name": "Python 3"
    }
  },
  "cells": [
    {
      "cell_type": "code",
      "metadata": {
        "id": "MxL6nCBgQJMk"
      },
      "source": [
        "import pandas as pd\n",
        "import matplotlib.pyplot as plt\n",
        "import seaborn as sns\n",
        "import numpy as np"
      ],
      "execution_count": null,
      "outputs": []
    },
    {
      "cell_type": "code",
      "metadata": {
        "id": "J8ydlO1TQN7g"
      },
      "source": [
        "#Read xlsx files into DF\n",
        "startups = pd.read_excel('/content/P11-1000-Startups.xlsx')\n",
        "Financials = pd.read_excel('/content/P11-1000-Startups.xlsx', sheet_name= 'Financials')"
      ],
      "execution_count": null,
      "outputs": []
    },
    {
      "cell_type": "code",
      "metadata": {
        "id": "XcA6-vshdBen"
      },
      "source": [
        "#Joining Dataframes into one DF\n",
        "data = startups.join(Financials, on = 'ID', how = 'left', rsuffix = '_F')"
      ],
      "execution_count": null,
      "outputs": []
    },
    {
      "cell_type": "code",
      "metadata": {
        "id": "E3rCJ5WhLIIP"
      },
      "source": [
        "data.drop(columns = ['ID_F','Name_F'], inplace = True)"
      ],
      "execution_count": null,
      "outputs": []
    },
    {
      "cell_type": "code",
      "metadata": {
        "id": "KcadaHbG53bz"
      },
      "source": [
        "#Add avg into each row in DF\n",
        "startups['Avg_no_of_employees'] = startups.groupby('Industry')['Employees'].transform(np.mean).round(0)"
      ],
      "execution_count": null,
      "outputs": []
    },
    {
      "cell_type": "markdown",
      "metadata": {
        "id": "bM6wjxlZ6miH"
      },
      "source": [
        ""
      ]
    },
    {
      "cell_type": "code",
      "metadata": {
        "id": "q7zY0aBf1dYH",
        "colab": {
          "base_uri": "https://localhost:8080/",
          "height": 207
        },
        "outputId": "a134b2f1-18f2-4e00-e123-c15e1d44715d"
      },
      "source": [
        "data.head(3)"
      ],
      "execution_count": null,
      "outputs": [
        {
          "output_type": "execute_result",
          "data": {
            "text/html": [
              "<div>\n",
              "<style scoped>\n",
              "    .dataframe tbody tr th:only-of-type {\n",
              "        vertical-align: middle;\n",
              "    }\n",
              "\n",
              "    .dataframe tbody tr th {\n",
              "        vertical-align: top;\n",
              "    }\n",
              "\n",
              "    .dataframe thead th {\n",
              "        text-align: right;\n",
              "    }\n",
              "</style>\n",
              "<table border=\"1\" class=\"dataframe\">\n",
              "  <thead>\n",
              "    <tr style=\"text-align: right;\">\n",
              "      <th></th>\n",
              "      <th>ID</th>\n",
              "      <th>Name</th>\n",
              "      <th>Industry</th>\n",
              "      <th>Description</th>\n",
              "      <th>Year Founded</th>\n",
              "      <th>Employees</th>\n",
              "      <th>State</th>\n",
              "      <th>City</th>\n",
              "      <th>Metro Area</th>\n",
              "      <th>2015 Revenue</th>\n",
              "      <th>2015 Expenses</th>\n",
              "      <th>2015 Profit</th>\n",
              "      <th>2015 Growth %</th>\n",
              "      <th>2014 Revenue</th>\n",
              "      <th>2014 Expenses</th>\n",
              "      <th>2014 Profit</th>\n",
              "      <th>2014 Growth %</th>\n",
              "      <th>2013 Revenue</th>\n",
              "      <th>2013 Expenses</th>\n",
              "      <th>2013 Profit</th>\n",
              "    </tr>\n",
              "  </thead>\n",
              "  <tbody>\n",
              "    <tr>\n",
              "      <th>0</th>\n",
              "      <td>1</td>\n",
              "      <td>Over-Hex</td>\n",
              "      <td>Software</td>\n",
              "      <td>Provides a Web-based CRM tool that allows hosp...</td>\n",
              "      <td>2006</td>\n",
              "      <td>25</td>\n",
              "      <td>TN</td>\n",
              "      <td>Franklin</td>\n",
              "      <td>Nashville</td>\n",
              "      <td>9016542.89</td>\n",
              "      <td>804035.40</td>\n",
              "      <td>8212507.49</td>\n",
              "      <td>0.65</td>\n",
              "      <td>5448571.0</td>\n",
              "      <td>239226.90</td>\n",
              "      <td>5209344.10</td>\n",
              "      <td>0.41</td>\n",
              "      <td>3864234.75</td>\n",
              "      <td>91714.44</td>\n",
              "      <td>3772520.31</td>\n",
              "    </tr>\n",
              "    <tr>\n",
              "      <th>1</th>\n",
              "      <td>2</td>\n",
              "      <td>Unimattax</td>\n",
              "      <td>IT Services</td>\n",
              "      <td>Helps law firms use Thomson Reuters Elite prac...</td>\n",
              "      <td>2009</td>\n",
              "      <td>36</td>\n",
              "      <td>PA</td>\n",
              "      <td>Newtown Square</td>\n",
              "      <td>Philadelphia</td>\n",
              "      <td>12456641.64</td>\n",
              "      <td>2149297.00</td>\n",
              "      <td>10307344.65</td>\n",
              "      <td>5.20</td>\n",
              "      <td>2007778.0</td>\n",
              "      <td>335126.93</td>\n",
              "      <td>1672651.07</td>\n",
              "      <td>4.23</td>\n",
              "      <td>383896.37</td>\n",
              "      <td>112257.41</td>\n",
              "      <td>271638.96</td>\n",
              "    </tr>\n",
              "    <tr>\n",
              "      <th>2</th>\n",
              "      <td>3</td>\n",
              "      <td>Lexila</td>\n",
              "      <td>Real Estate</td>\n",
              "      <td>Offers investment, construction, residential, ...</td>\n",
              "      <td>2013</td>\n",
              "      <td>38</td>\n",
              "      <td>IL</td>\n",
              "      <td>Tinley Park</td>\n",
              "      <td>Chicago</td>\n",
              "      <td>7746272.07</td>\n",
              "      <td>1044375.49</td>\n",
              "      <td>6701896.58</td>\n",
              "      <td>3.17</td>\n",
              "      <td>1857830.0</td>\n",
              "      <td>247048.76</td>\n",
              "      <td>1610781.24</td>\n",
              "      <td>0.56</td>\n",
              "      <td>1190916.67</td>\n",
              "      <td>625442.66</td>\n",
              "      <td>565474.01</td>\n",
              "    </tr>\n",
              "  </tbody>\n",
              "</table>\n",
              "</div>"
            ],
            "text/plain": [
              "   ID       Name     Industry  ... 2013 Revenue  2013 Expenses  2013 Profit\n",
              "0   1   Over-Hex     Software  ...   3864234.75       91714.44   3772520.31\n",
              "1   2  Unimattax  IT Services  ...    383896.37      112257.41    271638.96\n",
              "2   3     Lexila  Real Estate  ...   1190916.67      625442.66    565474.01\n",
              "\n",
              "[3 rows x 20 columns]"
            ]
          },
          "metadata": {
            "tags": []
          },
          "execution_count": 230
        }
      ]
    },
    {
      "cell_type": "code",
      "metadata": {
        "colab": {
          "base_uri": "https://localhost:8080/",
          "height": 198
        },
        "id": "7vMrrMyQSjrO",
        "outputId": "9823d3e6-84aa-4e2e-cd16-66eab94590af"
      },
      "source": [
        "startups.head()"
      ],
      "execution_count": null,
      "outputs": [
        {
          "output_type": "execute_result",
          "data": {
            "text/html": [
              "<div>\n",
              "<style scoped>\n",
              "    .dataframe tbody tr th:only-of-type {\n",
              "        vertical-align: middle;\n",
              "    }\n",
              "\n",
              "    .dataframe tbody tr th {\n",
              "        vertical-align: top;\n",
              "    }\n",
              "\n",
              "    .dataframe thead th {\n",
              "        text-align: right;\n",
              "    }\n",
              "</style>\n",
              "<table border=\"1\" class=\"dataframe\">\n",
              "  <thead>\n",
              "    <tr style=\"text-align: right;\">\n",
              "      <th></th>\n",
              "      <th>ID</th>\n",
              "      <th>Name</th>\n",
              "      <th>Industry</th>\n",
              "      <th>Description</th>\n",
              "      <th>Year Founded</th>\n",
              "      <th>Employees</th>\n",
              "      <th>State</th>\n",
              "      <th>City</th>\n",
              "      <th>Metro Area</th>\n",
              "      <th>Avg_no_of_employees</th>\n",
              "    </tr>\n",
              "  </thead>\n",
              "  <tbody>\n",
              "    <tr>\n",
              "      <th>0</th>\n",
              "      <td>1</td>\n",
              "      <td>Over-Hex</td>\n",
              "      <td>Software</td>\n",
              "      <td>Provides a Web-based CRM tool that allows hosp...</td>\n",
              "      <td>2006</td>\n",
              "      <td>25</td>\n",
              "      <td>TN</td>\n",
              "      <td>Franklin</td>\n",
              "      <td>Nashville</td>\n",
              "      <td>119.0</td>\n",
              "    </tr>\n",
              "    <tr>\n",
              "      <th>1</th>\n",
              "      <td>2</td>\n",
              "      <td>Unimattax</td>\n",
              "      <td>IT Services</td>\n",
              "      <td>Helps law firms use Thomson Reuters Elite prac...</td>\n",
              "      <td>2009</td>\n",
              "      <td>36</td>\n",
              "      <td>PA</td>\n",
              "      <td>Newtown Square</td>\n",
              "      <td>Philadelphia</td>\n",
              "      <td>108.0</td>\n",
              "    </tr>\n",
              "    <tr>\n",
              "      <th>2</th>\n",
              "      <td>3</td>\n",
              "      <td>Lexila</td>\n",
              "      <td>Real Estate</td>\n",
              "      <td>Offers investment, construction, residential, ...</td>\n",
              "      <td>2013</td>\n",
              "      <td>38</td>\n",
              "      <td>IL</td>\n",
              "      <td>Tinley Park</td>\n",
              "      <td>Chicago</td>\n",
              "      <td>154.0</td>\n",
              "    </tr>\n",
              "    <tr>\n",
              "      <th>3</th>\n",
              "      <td>4</td>\n",
              "      <td>Greenfax</td>\n",
              "      <td>Retail</td>\n",
              "      <td>A Verizon Wireless premium retailer that offer...</td>\n",
              "      <td>2012</td>\n",
              "      <td>320</td>\n",
              "      <td>SC</td>\n",
              "      <td>Greenville</td>\n",
              "      <td>Newberry, SC</td>\n",
              "      <td>204.0</td>\n",
              "    </tr>\n",
              "    <tr>\n",
              "      <th>4</th>\n",
              "      <td>5</td>\n",
              "      <td>Saoace</td>\n",
              "      <td>Energy</td>\n",
              "      <td>An energy efficiency consulting firm that work...</td>\n",
              "      <td>2009</td>\n",
              "      <td>24</td>\n",
              "      <td>WI</td>\n",
              "      <td>New Holstein</td>\n",
              "      <td>Appleton, WI</td>\n",
              "      <td>331.0</td>\n",
              "    </tr>\n",
              "  </tbody>\n",
              "</table>\n",
              "</div>"
            ],
            "text/plain": [
              "   ID       Name  ...    Metro Area Avg_no_of_employees\n",
              "0   1   Over-Hex  ...     Nashville               119.0\n",
              "1   2  Unimattax  ...  Philadelphia               108.0\n",
              "2   3     Lexila  ...       Chicago               154.0\n",
              "3   4   Greenfax  ...  Newberry, SC               204.0\n",
              "4   5     Saoace  ...  Appleton, WI               331.0\n",
              "\n",
              "[5 rows x 10 columns]"
            ]
          },
          "metadata": {
            "tags": []
          },
          "execution_count": 231
        }
      ]
    },
    {
      "cell_type": "code",
      "metadata": {
        "id": "LRZky8eqdBYJ",
        "colab": {
          "base_uri": "https://localhost:8080/",
          "height": 198
        },
        "outputId": "e5b9c288-684f-414b-eaa8-b543eb72ee20"
      },
      "source": [
        "Financials.head()"
      ],
      "execution_count": null,
      "outputs": [
        {
          "output_type": "execute_result",
          "data": {
            "text/html": [
              "<div>\n",
              "<style scoped>\n",
              "    .dataframe tbody tr th:only-of-type {\n",
              "        vertical-align: middle;\n",
              "    }\n",
              "\n",
              "    .dataframe tbody tr th {\n",
              "        vertical-align: top;\n",
              "    }\n",
              "\n",
              "    .dataframe thead th {\n",
              "        text-align: right;\n",
              "    }\n",
              "</style>\n",
              "<table border=\"1\" class=\"dataframe\">\n",
              "  <thead>\n",
              "    <tr style=\"text-align: right;\">\n",
              "      <th></th>\n",
              "      <th>ID</th>\n",
              "      <th>Name</th>\n",
              "      <th>2015 Revenue</th>\n",
              "      <th>2015 Expenses</th>\n",
              "      <th>2015 Profit</th>\n",
              "      <th>2015 Growth %</th>\n",
              "      <th>2014 Revenue</th>\n",
              "      <th>2014 Expenses</th>\n",
              "      <th>2014 Profit</th>\n",
              "      <th>2014 Growth %</th>\n",
              "      <th>2013 Revenue</th>\n",
              "      <th>2013 Expenses</th>\n",
              "      <th>2013 Profit</th>\n",
              "    </tr>\n",
              "  </thead>\n",
              "  <tbody>\n",
              "    <tr>\n",
              "      <th>0</th>\n",
              "      <td>1</td>\n",
              "      <td>Over-Hex</td>\n",
              "      <td>10684526.90</td>\n",
              "      <td>1130700.06</td>\n",
              "      <td>9553826.84</td>\n",
              "      <td>3.34</td>\n",
              "      <td>2463739</td>\n",
              "      <td>194747.86</td>\n",
              "      <td>2268991.14</td>\n",
              "      <td>4.10</td>\n",
              "      <td>483086.08</td>\n",
              "      <td>43394.44</td>\n",
              "      <td>439691.64</td>\n",
              "    </tr>\n",
              "    <tr>\n",
              "      <th>1</th>\n",
              "      <td>2</td>\n",
              "      <td>Unimattax</td>\n",
              "      <td>9016542.89</td>\n",
              "      <td>804035.40</td>\n",
              "      <td>8212507.49</td>\n",
              "      <td>0.65</td>\n",
              "      <td>5448571</td>\n",
              "      <td>239226.90</td>\n",
              "      <td>5209344.10</td>\n",
              "      <td>0.41</td>\n",
              "      <td>3864234.75</td>\n",
              "      <td>91714.44</td>\n",
              "      <td>3772520.31</td>\n",
              "    </tr>\n",
              "    <tr>\n",
              "      <th>2</th>\n",
              "      <td>3</td>\n",
              "      <td>Lexila</td>\n",
              "      <td>12456641.64</td>\n",
              "      <td>2149297.00</td>\n",
              "      <td>10307344.65</td>\n",
              "      <td>5.20</td>\n",
              "      <td>2007778</td>\n",
              "      <td>335126.93</td>\n",
              "      <td>1672651.07</td>\n",
              "      <td>4.23</td>\n",
              "      <td>383896.37</td>\n",
              "      <td>112257.41</td>\n",
              "      <td>271638.96</td>\n",
              "    </tr>\n",
              "    <tr>\n",
              "      <th>3</th>\n",
              "      <td>4</td>\n",
              "      <td>Greenfax</td>\n",
              "      <td>7746272.07</td>\n",
              "      <td>1044375.49</td>\n",
              "      <td>6701896.58</td>\n",
              "      <td>3.17</td>\n",
              "      <td>1857830</td>\n",
              "      <td>247048.76</td>\n",
              "      <td>1610781.24</td>\n",
              "      <td>0.56</td>\n",
              "      <td>1190916.67</td>\n",
              "      <td>625442.66</td>\n",
              "      <td>565474.01</td>\n",
              "    </tr>\n",
              "    <tr>\n",
              "      <th>4</th>\n",
              "      <td>5</td>\n",
              "      <td>Saoace</td>\n",
              "      <td>10725585.46</td>\n",
              "      <td>2694644.42</td>\n",
              "      <td>8030941.04</td>\n",
              "      <td>3.12</td>\n",
              "      <td>2604017</td>\n",
              "      <td>615040.85</td>\n",
              "      <td>1988976.15</td>\n",
              "      <td>2.39</td>\n",
              "      <td>768146.61</td>\n",
              "      <td>222962.86</td>\n",
              "      <td>545183.75</td>\n",
              "    </tr>\n",
              "  </tbody>\n",
              "</table>\n",
              "</div>"
            ],
            "text/plain": [
              "   ID       Name  2015 Revenue  ...  2013 Revenue  2013 Expenses  2013 Profit\n",
              "0   1   Over-Hex   10684526.90  ...     483086.08       43394.44    439691.64\n",
              "1   2  Unimattax    9016542.89  ...    3864234.75       91714.44   3772520.31\n",
              "2   3     Lexila   12456641.64  ...     383896.37      112257.41    271638.96\n",
              "3   4   Greenfax    7746272.07  ...    1190916.67      625442.66    565474.01\n",
              "4   5     Saoace   10725585.46  ...     768146.61      222962.86    545183.75\n",
              "\n",
              "[5 rows x 13 columns]"
            ]
          },
          "metadata": {
            "tags": []
          },
          "execution_count": 232
        }
      ]
    },
    {
      "cell_type": "code",
      "metadata": {
        "id": "VLG1u8FTSlG9"
      },
      "source": [
        "industries = startups.groupby('Industry').size().sort_values(ascending = False)"
      ],
      "execution_count": null,
      "outputs": []
    },
    {
      "cell_type": "code",
      "metadata": {
        "id": "stgo2G0LZON6"
      },
      "source": [
        "industries = pd.DataFrame(industries)"
      ],
      "execution_count": null,
      "outputs": []
    },
    {
      "cell_type": "code",
      "metadata": {
        "id": "Au0Cfq_-ZsnF"
      },
      "source": [
        "#industries.reset_index(inplace=True)\n",
        "industries.rename(columns={0:'Number'}, inplace=True)\n"
      ],
      "execution_count": null,
      "outputs": []
    },
    {
      "cell_type": "code",
      "metadata": {
        "id": "L4bBPTpEaJOl",
        "colab": {
          "base_uri": "https://localhost:8080/",
          "height": 828
        },
        "outputId": "5ebbc2cf-e846-413e-8296-0929e4afbdb3"
      },
      "source": [
        "industries"
      ],
      "execution_count": null,
      "outputs": [
        {
          "output_type": "execute_result",
          "data": {
            "text/html": [
              "<div>\n",
              "<style scoped>\n",
              "    .dataframe tbody tr th:only-of-type {\n",
              "        vertical-align: middle;\n",
              "    }\n",
              "\n",
              "    .dataframe tbody tr th {\n",
              "        vertical-align: top;\n",
              "    }\n",
              "\n",
              "    .dataframe thead th {\n",
              "        text-align: right;\n",
              "    }\n",
              "</style>\n",
              "<table border=\"1\" class=\"dataframe\">\n",
              "  <thead>\n",
              "    <tr style=\"text-align: right;\">\n",
              "      <th></th>\n",
              "      <th>Number</th>\n",
              "    </tr>\n",
              "    <tr>\n",
              "      <th>Industry</th>\n",
              "      <th></th>\n",
              "    </tr>\n",
              "  </thead>\n",
              "  <tbody>\n",
              "    <tr>\n",
              "      <th>IT Services</th>\n",
              "      <td>147</td>\n",
              "    </tr>\n",
              "    <tr>\n",
              "      <th>Health</th>\n",
              "      <td>88</td>\n",
              "    </tr>\n",
              "    <tr>\n",
              "      <th>Software</th>\n",
              "      <td>87</td>\n",
              "    </tr>\n",
              "    <tr>\n",
              "      <th>Business Products &amp; Services</th>\n",
              "      <td>67</td>\n",
              "    </tr>\n",
              "    <tr>\n",
              "      <th>Advertising &amp; Marketing</th>\n",
              "      <td>65</td>\n",
              "    </tr>\n",
              "    <tr>\n",
              "      <th>Financial Services</th>\n",
              "      <td>54</td>\n",
              "    </tr>\n",
              "    <tr>\n",
              "      <th>Government Services</th>\n",
              "      <td>50</td>\n",
              "    </tr>\n",
              "    <tr>\n",
              "      <th>Construction</th>\n",
              "      <td>49</td>\n",
              "    </tr>\n",
              "    <tr>\n",
              "      <th>Retail</th>\n",
              "      <td>48</td>\n",
              "    </tr>\n",
              "    <tr>\n",
              "      <th>Consumer Products &amp; Services</th>\n",
              "      <td>45</td>\n",
              "    </tr>\n",
              "    <tr>\n",
              "      <th>Human Resources</th>\n",
              "      <td>43</td>\n",
              "    </tr>\n",
              "    <tr>\n",
              "      <th>Food &amp; Beverage</th>\n",
              "      <td>33</td>\n",
              "    </tr>\n",
              "    <tr>\n",
              "      <th>Manufacturing</th>\n",
              "      <td>29</td>\n",
              "    </tr>\n",
              "    <tr>\n",
              "      <th>Logistics &amp; Transportation</th>\n",
              "      <td>29</td>\n",
              "    </tr>\n",
              "    <tr>\n",
              "      <th>Real Estate</th>\n",
              "      <td>28</td>\n",
              "    </tr>\n",
              "    <tr>\n",
              "      <th>Telecommunications</th>\n",
              "      <td>28</td>\n",
              "    </tr>\n",
              "    <tr>\n",
              "      <th>Energy</th>\n",
              "      <td>22</td>\n",
              "    </tr>\n",
              "    <tr>\n",
              "      <th>Engineering</th>\n",
              "      <td>17</td>\n",
              "    </tr>\n",
              "    <tr>\n",
              "      <th>Education</th>\n",
              "      <td>17</td>\n",
              "    </tr>\n",
              "    <tr>\n",
              "      <th>Media</th>\n",
              "      <td>14</td>\n",
              "    </tr>\n",
              "    <tr>\n",
              "      <th>Insurance</th>\n",
              "      <td>13</td>\n",
              "    </tr>\n",
              "    <tr>\n",
              "      <th>Security</th>\n",
              "      <td>13</td>\n",
              "    </tr>\n",
              "    <tr>\n",
              "      <th>Environmental Services</th>\n",
              "      <td>9</td>\n",
              "    </tr>\n",
              "    <tr>\n",
              "      <th>Computer Hardware</th>\n",
              "      <td>4</td>\n",
              "    </tr>\n",
              "    <tr>\n",
              "      <th>Travel &amp; Hospitality</th>\n",
              "      <td>1</td>\n",
              "    </tr>\n",
              "  </tbody>\n",
              "</table>\n",
              "</div>"
            ],
            "text/plain": [
              "                              Number\n",
              "Industry                            \n",
              "IT Services                      147\n",
              "Health                            88\n",
              "Software                          87\n",
              "Business Products & Services      67\n",
              "Advertising & Marketing           65\n",
              "Financial Services                54\n",
              "Government Services               50\n",
              "Construction                      49\n",
              "Retail                            48\n",
              "Consumer Products & Services      45\n",
              "Human Resources                   43\n",
              "Food & Beverage                   33\n",
              "Manufacturing                     29\n",
              "Logistics & Transportation        29\n",
              "Real Estate                       28\n",
              "Telecommunications                28\n",
              "Energy                            22\n",
              "Engineering                       17\n",
              "Education                         17\n",
              "Media                             14\n",
              "Insurance                         13\n",
              "Security                          13\n",
              "Environmental Services             9\n",
              "Computer Hardware                  4\n",
              "Travel & Hospitality               1"
            ]
          },
          "metadata": {
            "tags": []
          },
          "execution_count": 236
        }
      ]
    },
    {
      "cell_type": "markdown",
      "metadata": {
        "id": "z0J93AXpovMd"
      },
      "source": [
        "Let's find the earliest founded startups each industry"
      ]
    },
    {
      "cell_type": "code",
      "metadata": {
        "id": "B8bv7xwCSmLB"
      },
      "source": [
        "earliest_startups = pd.DataFrame(columns = startups.columns.to_list())"
      ],
      "execution_count": null,
      "outputs": []
    },
    {
      "cell_type": "code",
      "metadata": {
        "id": "JQNybuHHSmVP",
        "colab": {
          "base_uri": "https://localhost:8080/",
          "height": 48
        },
        "outputId": "7a38bc18-1704-4107-9431-0f01b49f1f2d"
      },
      "source": [
        "earliest_startups"
      ],
      "execution_count": null,
      "outputs": [
        {
          "output_type": "execute_result",
          "data": {
            "text/html": [
              "<div>\n",
              "<style scoped>\n",
              "    .dataframe tbody tr th:only-of-type {\n",
              "        vertical-align: middle;\n",
              "    }\n",
              "\n",
              "    .dataframe tbody tr th {\n",
              "        vertical-align: top;\n",
              "    }\n",
              "\n",
              "    .dataframe thead th {\n",
              "        text-align: right;\n",
              "    }\n",
              "</style>\n",
              "<table border=\"1\" class=\"dataframe\">\n",
              "  <thead>\n",
              "    <tr style=\"text-align: right;\">\n",
              "      <th></th>\n",
              "      <th>ID</th>\n",
              "      <th>Name</th>\n",
              "      <th>Industry</th>\n",
              "      <th>Description</th>\n",
              "      <th>Year Founded</th>\n",
              "      <th>Employees</th>\n",
              "      <th>State</th>\n",
              "      <th>City</th>\n",
              "      <th>Metro Area</th>\n",
              "      <th>Avg_no_of_employees</th>\n",
              "    </tr>\n",
              "  </thead>\n",
              "  <tbody>\n",
              "  </tbody>\n",
              "</table>\n",
              "</div>"
            ],
            "text/plain": [
              "Empty DataFrame\n",
              "Columns: [ID, Name, Industry, Description, Year Founded, Employees, State, City, Metro Area, Avg_no_of_employees]\n",
              "Index: []"
            ]
          },
          "metadata": {
            "tags": []
          },
          "execution_count": 238
        }
      ]
    },
    {
      "cell_type": "code",
      "metadata": {
        "id": "LyuqeS8tSmdf"
      },
      "source": [
        "industry_grup = startups.groupby('Industry')"
      ],
      "execution_count": null,
      "outputs": []
    },
    {
      "cell_type": "code",
      "metadata": {
        "id": "aTc7cdauSmk_"
      },
      "source": [
        "# Find the earliest founded startup in each industry\n",
        "for industry, year in industry_grup:\n",
        "  the_min_year = year.nsmallest(n=1, columns = 'Year Founded')\n",
        "  earliest_startups = earliest_startups.append(the_min_year)"
      ],
      "execution_count": null,
      "outputs": []
    },
    {
      "cell_type": "code",
      "metadata": {
        "id": "IZrwwRwtSmyB"
      },
      "source": [
        "# Optional export data to xlsx file\n",
        "earliest_startups.to_excel('earliest_startups.xlsx')"
      ],
      "execution_count": null,
      "outputs": []
    },
    {
      "cell_type": "code",
      "metadata": {
        "colab": {
          "base_uri": "https://localhost:8080/",
          "height": 138
        },
        "id": "SEI4ogLNeSzk",
        "outputId": "bc415eb0-a912-4540-fa4a-1b4ee72173cb"
      },
      "source": [
        "earliest_startups.head(3)"
      ],
      "execution_count": null,
      "outputs": [
        {
          "output_type": "execute_result",
          "data": {
            "text/html": [
              "<div>\n",
              "<style scoped>\n",
              "    .dataframe tbody tr th:only-of-type {\n",
              "        vertical-align: middle;\n",
              "    }\n",
              "\n",
              "    .dataframe tbody tr th {\n",
              "        vertical-align: top;\n",
              "    }\n",
              "\n",
              "    .dataframe thead th {\n",
              "        text-align: right;\n",
              "    }\n",
              "</style>\n",
              "<table border=\"1\" class=\"dataframe\">\n",
              "  <thead>\n",
              "    <tr style=\"text-align: right;\">\n",
              "      <th></th>\n",
              "      <th>ID</th>\n",
              "      <th>Name</th>\n",
              "      <th>Industry</th>\n",
              "      <th>Description</th>\n",
              "      <th>Year Founded</th>\n",
              "      <th>Employees</th>\n",
              "      <th>State</th>\n",
              "      <th>City</th>\n",
              "      <th>Metro Area</th>\n",
              "      <th>Avg_no_of_employees</th>\n",
              "    </tr>\n",
              "  </thead>\n",
              "  <tbody>\n",
              "    <tr>\n",
              "      <th>291</th>\n",
              "      <td>292</td>\n",
              "      <td>Fintax</td>\n",
              "      <td>Advertising &amp; Marketing</td>\n",
              "      <td>Provides a comprehensive lead serivce package ...</td>\n",
              "      <td>2000</td>\n",
              "      <td>12</td>\n",
              "      <td>IL</td>\n",
              "      <td>Chicago</td>\n",
              "      <td>Chicago</td>\n",
              "      <td>55.0</td>\n",
              "    </tr>\n",
              "    <tr>\n",
              "      <th>111</th>\n",
              "      <td>112</td>\n",
              "      <td>Keycone</td>\n",
              "      <td>Business Products &amp; Services</td>\n",
              "      <td>Develops online systems that give health insur...</td>\n",
              "      <td>2000</td>\n",
              "      <td>62</td>\n",
              "      <td>CT</td>\n",
              "      <td>Madison</td>\n",
              "      <td>New Haven-Milford, CT</td>\n",
              "      <td>95.0</td>\n",
              "    </tr>\n",
              "    <tr>\n",
              "      <th>56</th>\n",
              "      <td>57</td>\n",
              "      <td>Tindex</td>\n",
              "      <td>Computer Hardware</td>\n",
              "      <td>Provides clients with a streamlined purchasing...</td>\n",
              "      <td>2011</td>\n",
              "      <td>11</td>\n",
              "      <td>MN</td>\n",
              "      <td>Spring Park</td>\n",
              "      <td>Minneapolis</td>\n",
              "      <td>49.0</td>\n",
              "    </tr>\n",
              "  </tbody>\n",
              "</table>\n",
              "</div>"
            ],
            "text/plain": [
              "      ID     Name  ...             Metro Area Avg_no_of_employees\n",
              "291  292   Fintax  ...                Chicago                55.0\n",
              "111  112  Keycone  ...  New Haven-Milford, CT                95.0\n",
              "56    57   Tindex  ...            Minneapolis                49.0\n",
              "\n",
              "[3 rows x 10 columns]"
            ]
          },
          "metadata": {
            "tags": []
          },
          "execution_count": 242
        }
      ]
    },
    {
      "cell_type": "markdown",
      "metadata": {
        "id": "iHnCLHPT84_A"
      },
      "source": [
        "Let's check which industry hire the highest number of employees"
      ]
    },
    {
      "cell_type": "code",
      "metadata": {
        "id": "7Vl3lBVEYY2S"
      },
      "source": [
        "indus = startups.groupby('Industry').agg({'Employees': [np.mean, np.sum]})"
      ],
      "execution_count": null,
      "outputs": []
    },
    {
      "cell_type": "code",
      "metadata": {
        "id": "_JwxUH6pfoHu"
      },
      "source": [
        "indus.columns = [x + y.capitalize() for x,y in indus.columns.values]"
      ],
      "execution_count": null,
      "outputs": []
    },
    {
      "cell_type": "code",
      "metadata": {
        "id": "j8vJB1d7fok5"
      },
      "source": [
        "#indus.reset_index(inplace=True)\n",
        "indus.rename(columns={'EmployeesMean':'Employees_Mean', 'EmployeesSum':'Employees_Sum'}, inplace=True)"
      ],
      "execution_count": null,
      "outputs": []
    },
    {
      "cell_type": "code",
      "metadata": {
        "id": "uBmCJnSIdAP5"
      },
      "source": [
        "indus.reset_index(inplace = True)"
      ],
      "execution_count": null,
      "outputs": []
    },
    {
      "cell_type": "code",
      "metadata": {
        "id": "ckoT5MKIdA9A"
      },
      "source": [
        "indus['Employees_Mean'] = indus['Employees_Mean'].round(0)"
      ],
      "execution_count": null,
      "outputs": []
    },
    {
      "cell_type": "code",
      "metadata": {
        "colab": {
          "base_uri": "https://localhost:8080/",
          "height": 798
        },
        "id": "j5XG5bMgssFq",
        "outputId": "5824f856-a9fd-4925-dd49-65fa61d6b4b3"
      },
      "source": [
        "indus"
      ],
      "execution_count": null,
      "outputs": [
        {
          "output_type": "execute_result",
          "data": {
            "text/html": [
              "<div>\n",
              "<style scoped>\n",
              "    .dataframe tbody tr th:only-of-type {\n",
              "        vertical-align: middle;\n",
              "    }\n",
              "\n",
              "    .dataframe tbody tr th {\n",
              "        vertical-align: top;\n",
              "    }\n",
              "\n",
              "    .dataframe thead th {\n",
              "        text-align: right;\n",
              "    }\n",
              "</style>\n",
              "<table border=\"1\" class=\"dataframe\">\n",
              "  <thead>\n",
              "    <tr style=\"text-align: right;\">\n",
              "      <th></th>\n",
              "      <th>Industry</th>\n",
              "      <th>Employees_Mean</th>\n",
              "      <th>Employees_Sum</th>\n",
              "    </tr>\n",
              "  </thead>\n",
              "  <tbody>\n",
              "    <tr>\n",
              "      <th>0</th>\n",
              "      <td>Advertising &amp; Marketing</td>\n",
              "      <td>55.0</td>\n",
              "      <td>3550</td>\n",
              "    </tr>\n",
              "    <tr>\n",
              "      <th>1</th>\n",
              "      <td>Business Products &amp; Services</td>\n",
              "      <td>95.0</td>\n",
              "      <td>6367</td>\n",
              "    </tr>\n",
              "    <tr>\n",
              "      <th>2</th>\n",
              "      <td>Computer Hardware</td>\n",
              "      <td>49.0</td>\n",
              "      <td>196</td>\n",
              "    </tr>\n",
              "    <tr>\n",
              "      <th>3</th>\n",
              "      <td>Construction</td>\n",
              "      <td>58.0</td>\n",
              "      <td>2839</td>\n",
              "    </tr>\n",
              "    <tr>\n",
              "      <th>4</th>\n",
              "      <td>Consumer Products &amp; Services</td>\n",
              "      <td>132.0</td>\n",
              "      <td>5928</td>\n",
              "    </tr>\n",
              "    <tr>\n",
              "      <th>5</th>\n",
              "      <td>Education</td>\n",
              "      <td>57.0</td>\n",
              "      <td>963</td>\n",
              "    </tr>\n",
              "    <tr>\n",
              "      <th>6</th>\n",
              "      <td>Energy</td>\n",
              "      <td>331.0</td>\n",
              "      <td>7273</td>\n",
              "    </tr>\n",
              "    <tr>\n",
              "      <th>7</th>\n",
              "      <td>Engineering</td>\n",
              "      <td>117.0</td>\n",
              "      <td>1983</td>\n",
              "    </tr>\n",
              "    <tr>\n",
              "      <th>8</th>\n",
              "      <td>Environmental Services</td>\n",
              "      <td>78.0</td>\n",
              "      <td>702</td>\n",
              "    </tr>\n",
              "    <tr>\n",
              "      <th>9</th>\n",
              "      <td>Financial Services</td>\n",
              "      <td>207.0</td>\n",
              "      <td>11191</td>\n",
              "    </tr>\n",
              "    <tr>\n",
              "      <th>10</th>\n",
              "      <td>Food &amp; Beverage</td>\n",
              "      <td>393.0</td>\n",
              "      <td>12982</td>\n",
              "    </tr>\n",
              "    <tr>\n",
              "      <th>11</th>\n",
              "      <td>Government Services</td>\n",
              "      <td>173.0</td>\n",
              "      <td>8636</td>\n",
              "    </tr>\n",
              "    <tr>\n",
              "      <th>12</th>\n",
              "      <td>Health</td>\n",
              "      <td>204.0</td>\n",
              "      <td>17954</td>\n",
              "    </tr>\n",
              "    <tr>\n",
              "      <th>13</th>\n",
              "      <td>Human Resources</td>\n",
              "      <td>181.0</td>\n",
              "      <td>7800</td>\n",
              "    </tr>\n",
              "    <tr>\n",
              "      <th>14</th>\n",
              "      <td>IT Services</td>\n",
              "      <td>108.0</td>\n",
              "      <td>15805</td>\n",
              "    </tr>\n",
              "    <tr>\n",
              "      <th>15</th>\n",
              "      <td>Insurance</td>\n",
              "      <td>88.0</td>\n",
              "      <td>1139</td>\n",
              "    </tr>\n",
              "    <tr>\n",
              "      <th>16</th>\n",
              "      <td>Logistics &amp; Transportation</td>\n",
              "      <td>115.0</td>\n",
              "      <td>3340</td>\n",
              "    </tr>\n",
              "    <tr>\n",
              "      <th>17</th>\n",
              "      <td>Manufacturing</td>\n",
              "      <td>162.0</td>\n",
              "      <td>4707</td>\n",
              "    </tr>\n",
              "    <tr>\n",
              "      <th>18</th>\n",
              "      <td>Media</td>\n",
              "      <td>81.0</td>\n",
              "      <td>1137</td>\n",
              "    </tr>\n",
              "    <tr>\n",
              "      <th>19</th>\n",
              "      <td>Real Estate</td>\n",
              "      <td>154.0</td>\n",
              "      <td>4302</td>\n",
              "    </tr>\n",
              "    <tr>\n",
              "      <th>20</th>\n",
              "      <td>Retail</td>\n",
              "      <td>204.0</td>\n",
              "      <td>9807</td>\n",
              "    </tr>\n",
              "    <tr>\n",
              "      <th>21</th>\n",
              "      <td>Security</td>\n",
              "      <td>143.0</td>\n",
              "      <td>1855</td>\n",
              "    </tr>\n",
              "    <tr>\n",
              "      <th>22</th>\n",
              "      <td>Software</td>\n",
              "      <td>119.0</td>\n",
              "      <td>10369</td>\n",
              "    </tr>\n",
              "    <tr>\n",
              "      <th>23</th>\n",
              "      <td>Telecommunications</td>\n",
              "      <td>114.0</td>\n",
              "      <td>3193</td>\n",
              "    </tr>\n",
              "    <tr>\n",
              "      <th>24</th>\n",
              "      <td>Travel &amp; Hospitality</td>\n",
              "      <td>27.0</td>\n",
              "      <td>27</td>\n",
              "    </tr>\n",
              "  </tbody>\n",
              "</table>\n",
              "</div>"
            ],
            "text/plain": [
              "                        Industry  Employees_Mean  Employees_Sum\n",
              "0        Advertising & Marketing            55.0           3550\n",
              "1   Business Products & Services            95.0           6367\n",
              "2              Computer Hardware            49.0            196\n",
              "3                   Construction            58.0           2839\n",
              "4   Consumer Products & Services           132.0           5928\n",
              "5                      Education            57.0            963\n",
              "6                         Energy           331.0           7273\n",
              "7                    Engineering           117.0           1983\n",
              "8         Environmental Services            78.0            702\n",
              "9             Financial Services           207.0          11191\n",
              "10               Food & Beverage           393.0          12982\n",
              "11           Government Services           173.0           8636\n",
              "12                        Health           204.0          17954\n",
              "13               Human Resources           181.0           7800\n",
              "14                   IT Services           108.0          15805\n",
              "15                     Insurance            88.0           1139\n",
              "16    Logistics & Transportation           115.0           3340\n",
              "17                 Manufacturing           162.0           4707\n",
              "18                         Media            81.0           1137\n",
              "19                   Real Estate           154.0           4302\n",
              "20                        Retail           204.0           9807\n",
              "21                      Security           143.0           1855\n",
              "22                      Software           119.0          10369\n",
              "23            Telecommunications           114.0           3193\n",
              "24          Travel & Hospitality            27.0             27"
            ]
          },
          "metadata": {
            "tags": []
          },
          "execution_count": 248
        }
      ]
    },
    {
      "cell_type": "code",
      "metadata": {
        "colab": {
          "base_uri": "https://localhost:8080/",
          "height": 913
        },
        "id": "6CpVRE997wm5",
        "outputId": "6b9290b5-94bc-401b-acc2-0dd43db4a201"
      },
      "source": [
        "fig = plt.figure(figsize=(18,9))\n",
        "ax = fig.add_axes([0,0,1,1])\n",
        "\n",
        "x1 = indus['Industry']\n",
        "x2 = indus['Employees_Mean']\n",
        "x3 = indus['Employees_Sum']\n",
        "plt.xticks(rotation=90, size = 14) \n",
        "plt.ylabel('Number of employees', size = 14)\n",
        "plt.xlabel('Industries', size = 14)\n",
        "ax.plot(x1,x2, color = 'g', linewidth=3.0)\n",
        "ax.bar(x1,x3, color = 'grey', alpha = 0.5)\n",
        "ax.annotate('Highest point - Health industry', xy = ('Health', 18000), size = 12, color = 'black')\n",
        "\n",
        "#plt.savefig('Chart_basic.png', dpi = 300)"
      ],
      "execution_count": null,
      "outputs": [
        {
          "output_type": "execute_result",
          "data": {
            "text/plain": [
              "Text(Health, 18000, 'Highest point - Health industry')"
            ]
          },
          "metadata": {
            "tags": []
          },
          "execution_count": 249
        },
        {
          "output_type": "display_data",
          "data": {
            "image/png": "[encoded data removed]",
            "text/plain": [
              "<Figure size 1296x648 with 1 Axes>"
            ]
          },
          "metadata": {
            "tags": []
          }
        }
      ]
    },
    {
      "cell_type": "code",
      "metadata": {
        "colab": {
          "base_uri": "https://localhost:8080/",
          "height": 694
        },
        "id": "FeSYod8e529u",
        "outputId": "a0727036-9574-4a81-f528-3eba53903c05"
      },
      "source": [
        "#Number of employess in each industry\n",
        "\n",
        "fig = plt.figure(figsize=(18,9))\n",
        "ax = fig.add_axes([0,0,1,1])\n",
        "indus.sort_values(by = 'Employees_Sum', ascending=True, inplace = True)\n",
        "\n",
        "x1 = indus['Industry']\n",
        "x2 = indus['Employees_Sum']\n",
        "\n",
        "for Index, Sum in enumerate(indus['Employees_Sum']):\n",
        "    ax.annotate(Sum, xy = (Sum,Index), size = 14)\n",
        "\n",
        "plt.barh(x1,x2, color = 'blue', alpha = 0.5)\n",
        "ax.xaxis.grid(linestyle = '-', linewidth = 0.5)\n",
        "plt.xticks(size = 12)\n",
        "plt.show()\n",
        "\n",
        "\n"
      ],
      "execution_count": null,
      "outputs": [
        {
          "output_type": "display_data",
          "data": {
            "image/png": "[encoded data removed]",
            "text/plain": [
              "<Figure size 1296x648 with 1 Axes>"
            ]
          },
          "metadata": {
            "tags": []
          }
        }
      ]
    },
    {
      "cell_type": "code",
      "metadata": {
        "id": "CJdBuxYzwu9t"
      },
      "source": [
        "#indus.sort_values(by = 'Employees_Sum', ascending=False)"
      ],
      "execution_count": null,
      "outputs": []
    },
    {
      "cell_type": "code",
      "metadata": {
        "id": "2B1tUDW3LIXr"
      },
      "source": [
        "#Columns with 2015 data\n",
        "#filter_col = [col for col in data if col.startswith('2015')]"
      ],
      "execution_count": null,
      "outputs": []
    },
    {
      "cell_type": "markdown",
      "metadata": {
        "id": "LbXhy27cSRE_"
      },
      "source": [
        "Exploratory Data Analysis - Financial Data (2015)\n"
      ]
    },
    {
      "cell_type": "code",
      "metadata": {
        "id": "a2oiifMTVY-f"
      },
      "source": [
        "#Base informations\n",
        "Financials_2015 = data.iloc[0:,:13]"
      ],
      "execution_count": null,
      "outputs": []
    },
    {
      "cell_type": "code",
      "metadata": {
        "colab": {
          "base_uri": "https://localhost:8080/"
        },
        "id": "E3K7nPWvWyAn",
        "outputId": "e98c6590-630a-418d-e67b-acf09cac6841"
      },
      "source": [
        "Financials_2015.isnull().sum()"
      ],
      "execution_count": null,
      "outputs": [
        {
          "output_type": "execute_result",
          "data": {
            "text/plain": [
              "ID                0\n",
              "Name              0\n",
              "Industry          0\n",
              "Description       1\n",
              "Year Founded      0\n",
              "Employees         0\n",
              "State             0\n",
              "City              0\n",
              "Metro Area       11\n",
              "2015 Revenue      1\n",
              "2015 Expenses     1\n",
              "2015 Profit       1\n",
              "2015 Growth %     1\n",
              "dtype: int64"
            ]
          },
          "metadata": {
            "tags": []
          },
          "execution_count": 254
        }
      ]
    },
    {
      "cell_type": "code",
      "metadata": {
        "id": "f72IWC2TWyXX"
      },
      "source": [
        "#The higest revenue in each industry"
      ],
      "execution_count": null,
      "outputs": []
    },
    {
      "cell_type": "code",
      "metadata": {
        "id": "xGQxnMWIWyl9"
      },
      "source": [
        "best_revenue_2015 = pd.DataFrame(columns = Financials_2015.columns)"
      ],
      "execution_count": null,
      "outputs": []
    },
    {
      "cell_type": "code",
      "metadata": {
        "id": "uJfLI_62Wyxn"
      },
      "source": [
        "financial_industry = Financials_2015.groupby('Industry')"
      ],
      "execution_count": null,
      "outputs": []
    },
    {
      "cell_type": "code",
      "metadata": {
        "id": "B5oqoLeYWy7m"
      },
      "source": [
        "for revenue, industry in financial_industry:\n",
        "  higest_revenue = industry.nlargest(n=1, columns = '2015 Revenue')\n",
        "  best_revenue_2015 = best_revenue_2015.append(higest_revenue)"
      ],
      "execution_count": null,
      "outputs": []
    },
    {
      "cell_type": "code",
      "metadata": {
        "id": "FsVsJVq8WzEC"
      },
      "source": [
        ""
      ],
      "execution_count": null,
      "outputs": []
    },
    {
      "cell_type": "markdown",
      "metadata": {
        "id": "CD-D3s6jR_lN"
      },
      "source": [
        ""
      ]
    },
    {
      "cell_type": "code",
      "metadata": {
        "id": "Bt2JTOwIkIDI"
      },
      "source": [
        "best_revenue_2015['Avg_2015_Revenue'] = best_revenue_2015['2015 Revenue'].mean()"
      ],
      "execution_count": null,
      "outputs": []
    },
    {
      "cell_type": "code",
      "metadata": {
        "colab": {
          "base_uri": "https://localhost:8080/"
        },
        "id": "er2n5nault_X",
        "outputId": "cdcda897-51d3-4846-a693-dac63123df07"
      },
      "source": [
        "best_revenue_2015['2015 Revenue'] - best_revenue_2015['Avg_2015_Revenue']"
      ],
      "execution_count": null,
      "outputs": [
        {
          "output_type": "execute_result",
          "data": {
            "text/plain": [
              "917    2821754.534\n",
              "636     570327.474\n",
              "56    -2478288.806\n",
              "123    -160010.746\n",
              "281    -771933.286\n",
              "324     989604.324\n",
              "615     823170.404\n",
              "80     -620097.046\n",
              "171   -2286528.506\n",
              "79     -359616.236\n",
              "230    1973665.824\n",
              "511    3531044.084\n",
              "612     601369.094\n",
              "979     691062.394\n",
              "28      598415.834\n",
              "160    -395711.146\n",
              "13     -220849.686\n",
              "922   -1031389.066\n",
              "216     366807.434\n",
              "744   -1464032.166\n",
              "527    -376851.146\n",
              "972   -1027710.986\n",
              "931    2033294.794\n",
              "319     -39725.276\n",
              "982   -3767772.096\n",
              "dtype: float64"
            ]
          },
          "metadata": {
            "tags": []
          },
          "execution_count": 260
        }
      ]
    },
    {
      "cell_type": "code",
      "metadata": {
        "id": "svqZc43c40yI"
      },
      "source": [
        "Financials_2015['Revenue_per_Emp'] = Financials_2015.groupby('Industry').apply(lambda x: x['2015 Revenue']/x['Employees']).reset_index(level = 0, drop = True).round(2)"
      ],
      "execution_count": null,
      "outputs": []
    },
    {
      "cell_type": "code",
      "metadata": {
        "id": "38xS1D6y41Aa"
      },
      "source": [
        "Financials_2015['Revenue_per_Emp'] = Financials_2015['Revenue_per_Emp'].fillna(0)"
      ],
      "execution_count": null,
      "outputs": []
    },
    {
      "cell_type": "code",
      "metadata": {
        "colab": {
          "base_uri": "https://localhost:8080/",
          "height": 407
        },
        "id": "e-Fju4OC41TQ",
        "outputId": "6329947b-145e-491f-8f18-4138f3ff5ec4"
      },
      "source": [
        "Financials_2015"
      ],
      "execution_count": null,
      "outputs": [
        {
          "output_type": "execute_result",
          "data": {
            "text/html": [
              "<div>\n",
              "<style scoped>\n",
              "    .dataframe tbody tr th:only-of-type {\n",
              "        vertical-align: middle;\n",
              "    }\n",
              "\n",
              "    .dataframe tbody tr th {\n",
              "        vertical-align: top;\n",
              "    }\n",
              "\n",
              "    .dataframe thead th {\n",
              "        text-align: right;\n",
              "    }\n",
              "</style>\n",
              "<table border=\"1\" class=\"dataframe\">\n",
              "  <thead>\n",
              "    <tr style=\"text-align: right;\">\n",
              "      <th></th>\n",
              "      <th>ID</th>\n",
              "      <th>Name</th>\n",
              "      <th>Industry</th>\n",
              "      <th>Description</th>\n",
              "      <th>Year Founded</th>\n",
              "      <th>Employees</th>\n",
              "      <th>State</th>\n",
              "      <th>City</th>\n",
              "      <th>Metro Area</th>\n",
              "      <th>2015 Revenue</th>\n",
              "      <th>2015 Expenses</th>\n",
              "      <th>2015 Profit</th>\n",
              "      <th>2015 Growth %</th>\n",
              "      <th>Revenue_per_Emp</th>\n",
              "    </tr>\n",
              "  </thead>\n",
              "  <tbody>\n",
              "    <tr>\n",
              "      <th>0</th>\n",
              "      <td>1</td>\n",
              "      <td>Over-Hex</td>\n",
              "      <td>Software</td>\n",
              "      <td>Provides a Web-based CRM tool that allows hosp...</td>\n",
              "      <td>2006</td>\n",
              "      <td>25</td>\n",
              "      <td>TN</td>\n",
              "      <td>Franklin</td>\n",
              "      <td>Nashville</td>\n",
              "      <td>9016542.89</td>\n",
              "      <td>804035.40</td>\n",
              "      <td>8212507.49</td>\n",
              "      <td>0.65</td>\n",
              "      <td>360661.72</td>\n",
              "    </tr>\n",
              "    <tr>\n",
              "      <th>1</th>\n",
              "      <td>2</td>\n",
              "      <td>Unimattax</td>\n",
              "      <td>IT Services</td>\n",
              "      <td>Helps law firms use Thomson Reuters Elite prac...</td>\n",
              "      <td>2009</td>\n",
              "      <td>36</td>\n",
              "      <td>PA</td>\n",
              "      <td>Newtown Square</td>\n",
              "      <td>Philadelphia</td>\n",
              "      <td>12456641.64</td>\n",
              "      <td>2149297.00</td>\n",
              "      <td>10307344.65</td>\n",
              "      <td>5.20</td>\n",
              "      <td>346017.82</td>\n",
              "    </tr>\n",
              "    <tr>\n",
              "      <th>2</th>\n",
              "      <td>3</td>\n",
              "      <td>Lexila</td>\n",
              "      <td>Real Estate</td>\n",
              "      <td>Offers investment, construction, residential, ...</td>\n",
              "      <td>2013</td>\n",
              "      <td>38</td>\n",
              "      <td>IL</td>\n",
              "      <td>Tinley Park</td>\n",
              "      <td>Chicago</td>\n",
              "      <td>7746272.07</td>\n",
              "      <td>1044375.49</td>\n",
              "      <td>6701896.58</td>\n",
              "      <td>3.17</td>\n",
              "      <td>203849.26</td>\n",
              "    </tr>\n",
              "    <tr>\n",
              "      <th>3</th>\n",
              "      <td>4</td>\n",
              "      <td>Greenfax</td>\n",
              "      <td>Retail</td>\n",
              "      <td>A Verizon Wireless premium retailer that offer...</td>\n",
              "      <td>2012</td>\n",
              "      <td>320</td>\n",
              "      <td>SC</td>\n",
              "      <td>Greenville</td>\n",
              "      <td>Newberry, SC</td>\n",
              "      <td>10725585.46</td>\n",
              "      <td>2694644.42</td>\n",
              "      <td>8030941.04</td>\n",
              "      <td>3.12</td>\n",
              "      <td>33517.45</td>\n",
              "    </tr>\n",
              "    <tr>\n",
              "      <th>4</th>\n",
              "      <td>5</td>\n",
              "      <td>Saoace</td>\n",
              "      <td>Energy</td>\n",
              "      <td>An energy efficiency consulting firm that work...</td>\n",
              "      <td>2009</td>\n",
              "      <td>24</td>\n",
              "      <td>WI</td>\n",
              "      <td>New Holstein</td>\n",
              "      <td>Appleton, WI</td>\n",
              "      <td>7798447.11</td>\n",
              "      <td>3206651.60</td>\n",
              "      <td>4591795.52</td>\n",
              "      <td>5.60</td>\n",
              "      <td>324935.30</td>\n",
              "    </tr>\n",
              "    <tr>\n",
              "      <th>...</th>\n",
              "      <td>...</td>\n",
              "      <td>...</td>\n",
              "      <td>...</td>\n",
              "      <td>...</td>\n",
              "      <td>...</td>\n",
              "      <td>...</td>\n",
              "      <td>...</td>\n",
              "      <td>...</td>\n",
              "      <td>...</td>\n",
              "      <td>...</td>\n",
              "      <td>...</td>\n",
              "      <td>...</td>\n",
              "      <td>...</td>\n",
              "      <td>...</td>\n",
              "    </tr>\n",
              "    <tr>\n",
              "      <th>995</th>\n",
              "      <td>996</td>\n",
              "      <td>Inventtremendous</td>\n",
              "      <td>Construction</td>\n",
              "      <td>A full-service design and build home remodelin...</td>\n",
              "      <td>2009</td>\n",
              "      <td>24</td>\n",
              "      <td>MN</td>\n",
              "      <td>Woodbury</td>\n",
              "      <td>Minneapolis</td>\n",
              "      <td>9134728.24</td>\n",
              "      <td>5152110.43</td>\n",
              "      <td>3982617.81</td>\n",
              "      <td>4.13</td>\n",
              "      <td>380613.68</td>\n",
              "    </tr>\n",
              "    <tr>\n",
              "      <th>996</th>\n",
              "      <td>997</td>\n",
              "      <td>Overviewparrot</td>\n",
              "      <td>Retail</td>\n",
              "      <td>An eco-friendly car cleaning service that clea...</td>\n",
              "      <td>2011</td>\n",
              "      <td>100</td>\n",
              "      <td>TX</td>\n",
              "      <td>Fort Worth</td>\n",
              "      <td>Dallas</td>\n",
              "      <td>12387130.09</td>\n",
              "      <td>1387784.06</td>\n",
              "      <td>10999346.03</td>\n",
              "      <td>4.31</td>\n",
              "      <td>123871.30</td>\n",
              "    </tr>\n",
              "    <tr>\n",
              "      <th>997</th>\n",
              "      <td>998</td>\n",
              "      <td>Belaguerra</td>\n",
              "      <td>IT Services</td>\n",
              "      <td>A global IT services firm specializing exclusi...</td>\n",
              "      <td>2010</td>\n",
              "      <td>140</td>\n",
              "      <td>MI</td>\n",
              "      <td>Troy</td>\n",
              "      <td>Detroit</td>\n",
              "      <td>9849518.96</td>\n",
              "      <td>1786744.40</td>\n",
              "      <td>8062774.56</td>\n",
              "      <td>4.20</td>\n",
              "      <td>70353.71</td>\n",
              "    </tr>\n",
              "    <tr>\n",
              "      <th>998</th>\n",
              "      <td>999</td>\n",
              "      <td>Moviespotter</td>\n",
              "      <td>Education</td>\n",
              "      <td>Provides an e-learning community through virtu...</td>\n",
              "      <td>2012</td>\n",
              "      <td>39</td>\n",
              "      <td>CA</td>\n",
              "      <td>San Rafael</td>\n",
              "      <td>San Francisco</td>\n",
              "      <td>6949706.40</td>\n",
              "      <td>689160.81</td>\n",
              "      <td>6260545.59</td>\n",
              "      <td>4.48</td>\n",
              "      <td>178197.60</td>\n",
              "    </tr>\n",
              "    <tr>\n",
              "      <th>999</th>\n",
              "      <td>1000</td>\n",
              "      <td>Allpossible</td>\n",
              "      <td>IT Services</td>\n",
              "      <td>A hardware, software, and video systems integr...</td>\n",
              "      <td>2011</td>\n",
              "      <td>24</td>\n",
              "      <td>CA</td>\n",
              "      <td>Los Angeles</td>\n",
              "      <td>Los Angeles</td>\n",
              "      <td>NaN</td>\n",
              "      <td>NaN</td>\n",
              "      <td>NaN</td>\n",
              "      <td>NaN</td>\n",
              "      <td>0.00</td>\n",
              "    </tr>\n",
              "  </tbody>\n",
              "</table>\n",
              "<p>1000 rows × 14 columns</p>\n",
              "</div>"
            ],
            "text/plain": [
              "       ID              Name  ... 2015 Growth % Revenue_per_Emp\n",
              "0       1          Over-Hex  ...          0.65       360661.72\n",
              "1       2         Unimattax  ...          5.20       346017.82\n",
              "2       3            Lexila  ...          3.17       203849.26\n",
              "3       4          Greenfax  ...          3.12        33517.45\n",
              "4       5            Saoace  ...          5.60       324935.30\n",
              "..    ...               ...  ...           ...             ...\n",
              "995   996  Inventtremendous  ...          4.13       380613.68\n",
              "996   997    Overviewparrot  ...          4.31       123871.30\n",
              "997   998        Belaguerra  ...          4.20        70353.71\n",
              "998   999      Moviespotter  ...          4.48       178197.60\n",
              "999  1000       Allpossible  ...           NaN            0.00\n",
              "\n",
              "[1000 rows x 14 columns]"
            ]
          },
          "metadata": {
            "tags": []
          },
          "execution_count": 263
        }
      ]
    },
    {
      "cell_type": "code",
      "metadata": {
        "id": "g90OAU6J41dI"
      },
      "source": [
        "aggre = Financials_2015.groupby('State').agg({'2015 Revenue' : [np.mean, np.sum],'2015 Profit' : [np.mean, np. sum], '2015 Expenses' : [np.mean, np.sum]}).round(0)"
      ],
      "execution_count": null,
      "outputs": []
    },
    {
      "cell_type": "code",
      "metadata": {
        "id": "d-QIfLxV7eo3"
      },
      "source": [
        "aggre.columns = [x + y.capitalize() for x,y in aggre.columns.values]"
      ],
      "execution_count": null,
      "outputs": []
    },
    {
      "cell_type": "code",
      "metadata": {
        "id": "SsSlqAJ67e0P"
      },
      "source": [
        "aggre.reset_index(inplace = True)"
      ],
      "execution_count": null,
      "outputs": []
    },
    {
      "cell_type": "code",
      "metadata": {
        "colab": {
          "base_uri": "https://localhost:8080/"
        },
        "id": "SrDb6ltd7fLg",
        "outputId": "63008ccf-ad89-48a6-f4ea-c0bc352f3826"
      },
      "source": [
        "aggre.columns"
      ],
      "execution_count": null,
      "outputs": [
        {
          "output_type": "execute_result",
          "data": {
            "text/plain": [
              "Index(['State', '2015 RevenueMean', '2015 RevenueSum', '2015 ProfitMean',\n",
              "       '2015 ProfitSum', '2015 ExpensesMean', '2015 ExpensesSum'],\n",
              "      dtype='object')"
            ]
          },
          "metadata": {
            "tags": []
          },
          "execution_count": 267
        }
      ]
    },
    {
      "cell_type": "code",
      "metadata": {
        "id": "vz0sw_-L7fAg"
      },
      "source": [
        "aggre.rename(columns = {'2015 ExpensesSum' : '2015_Expenses_Sum', '2015 ExpensesMean' : '2015_Expenses_Mean'}, inplace= True)"
      ],
      "execution_count": null,
      "outputs": []
    },
    {
      "cell_type": "code",
      "metadata": {
        "id": "OOSZC6b3-HE8"
      },
      "source": [
        "aggre.rename(columns = {'2015 RevenueMean' : '2015_Revenue_Mean',\n",
        "                        '2015 RevenueSum' : '2015_Revenue_Sum',\n",
        "                        '2015 ProfitMean' : '2015_Profit_Mean',\n",
        "                        '2015 ProfitSum' : '2015_Profit_Sum'\n",
        "}\n",
        ",inplace = True\n",
        ")"
      ],
      "execution_count": null,
      "outputs": []
    },
    {
      "cell_type": "code",
      "metadata": {
        "colab": {
          "base_uri": "https://localhost:8080/",
          "height": 746
        },
        "id": "X-EAC-d07fYC",
        "outputId": "e9b26b0a-8ce5-4da5-b061-0876f110d6ae"
      },
      "source": [
        "fig = plt.figure(figsize=(22,9))\n",
        "ax = fig.add_axes([0,0,1,1])\n",
        "\n",
        "#x1 = aggre['2015_Expenses_Sum'] \n",
        "#x2 = aggre['2015_Profit_Sum']\n",
        "\n",
        "#mask1 = Financials_2015['2015 Profit'] > 60000\n",
        "#mask2 = Financials_2015['2015 Expenses'] < 800000\n",
        "#Financials_2015[mask1&mask2]\n",
        "\n",
        "\n",
        "# x3 & x4 - Les't point out only startups with Prof. > 6 mln and Exp. < 5 mln\n",
        "\n",
        "x1  = Financials_2015['2015 Expenses'] \n",
        "x2 = Financials_2015['2015 Profit']\n",
        "x3 = Financials_2015['2015 Profit'] > 6000000\n",
        "x4 = Financials_2015['2015 Expenses'] < 5000000\n",
        "\n",
        "plt.title('Profit vs Expneses', size = 16)\n",
        "plt.ylabel('Profit', size = 14)\n",
        "plt.xlabel('Expenses', size = 14)\n",
        "\n",
        "\n",
        "ax.axhline( y = x2.mean(),\n",
        "           color = 'r',\n",
        "           linestyle = '--',\n",
        "           label = 'Average Pfofit')\n",
        "\n",
        "ax.axvline( x = x1.mean(),\n",
        "           color = 'b',\n",
        "           linestyle = '--',\n",
        "           label ='Average Expenses'\n",
        "           )\n",
        "\n",
        "plt.scatter(x1, x2, s = x1/100000, c = [x3 & x4], alpha = 0.8, cmap='jet')\n",
        "ax.legend()"
      ],
      "execution_count": null,
      "outputs": [
        {
          "output_type": "execute_result",
          "data": {
            "text/plain": [
              "<matplotlib.legend.Legend at 0x7f003e897490>"
            ]
          },
          "metadata": {
            "tags": []
          },
          "execution_count": 270
        },
        {
          "output_type": "display_data",
          "data": {
            "image/png": "[encoded data removed]",
            "text/plain": [
              "<Figure size 1584x648 with 1 Axes>"
            ]
          },
          "metadata": {
            "tags": []
          }
        }
      ]
    },
    {
      "cell_type": "code",
      "metadata": {
        "id": "djUs0NEZPu9H",
        "colab": {
          "base_uri": "https://localhost:8080/",
          "height": 407
        },
        "outputId": "0857e125-6d21-4e13-f6d4-a9b60df04957"
      },
      "source": [
        "Financials_2015"
      ],
      "execution_count": null,
      "outputs": [
        {
          "output_type": "execute_result",
          "data": {
            "text/html": [
              "<div>\n",
              "<style scoped>\n",
              "    .dataframe tbody tr th:only-of-type {\n",
              "        vertical-align: middle;\n",
              "    }\n",
              "\n",
              "    .dataframe tbody tr th {\n",
              "        vertical-align: top;\n",
              "    }\n",
              "\n",
              "    .dataframe thead th {\n",
              "        text-align: right;\n",
              "    }\n",
              "</style>\n",
              "<table border=\"1\" class=\"dataframe\">\n",
              "  <thead>\n",
              "    <tr style=\"text-align: right;\">\n",
              "      <th></th>\n",
              "      <th>ID</th>\n",
              "      <th>Name</th>\n",
              "      <th>Industry</th>\n",
              "      <th>Description</th>\n",
              "      <th>Year Founded</th>\n",
              "      <th>Employees</th>\n",
              "      <th>State</th>\n",
              "      <th>City</th>\n",
              "      <th>Metro Area</th>\n",
              "      <th>2015 Revenue</th>\n",
              "      <th>2015 Expenses</th>\n",
              "      <th>2015 Profit</th>\n",
              "      <th>2015 Growth %</th>\n",
              "      <th>Revenue_per_Emp</th>\n",
              "    </tr>\n",
              "  </thead>\n",
              "  <tbody>\n",
              "    <tr>\n",
              "      <th>0</th>\n",
              "      <td>1</td>\n",
              "      <td>Over-Hex</td>\n",
              "      <td>Software</td>\n",
              "      <td>Provides a Web-based CRM tool that allows hosp...</td>\n",
              "      <td>2006</td>\n",
              "      <td>25</td>\n",
              "      <td>TN</td>\n",
              "      <td>Franklin</td>\n",
              "      <td>Nashville</td>\n",
              "      <td>9016542.89</td>\n",
              "      <td>804035.40</td>\n",
              "      <td>8212507.49</td>\n",
              "      <td>0.65</td>\n",
              "      <td>360661.72</td>\n",
              "    </tr>\n",
              "    <tr>\n",
              "      <th>1</th>\n",
              "      <td>2</td>\n",
              "      <td>Unimattax</td>\n",
              "      <td>IT Services</td>\n",
              "      <td>Helps law firms use Thomson Reuters Elite prac...</td>\n",
              "      <td>2009</td>\n",
              "      <td>36</td>\n",
              "      <td>PA</td>\n",
              "      <td>Newtown Square</td>\n",
              "      <td>Philadelphia</td>\n",
              "      <td>12456641.64</td>\n",
              "      <td>2149297.00</td>\n",
              "      <td>10307344.65</td>\n",
              "      <td>5.20</td>\n",
              "      <td>346017.82</td>\n",
              "    </tr>\n",
              "    <tr>\n",
              "      <th>2</th>\n",
              "      <td>3</td>\n",
              "      <td>Lexila</td>\n",
              "      <td>Real Estate</td>\n",
              "      <td>Offers investment, construction, residential, ...</td>\n",
              "      <td>2013</td>\n",
              "      <td>38</td>\n",
              "      <td>IL</td>\n",
              "      <td>Tinley Park</td>\n",
              "      <td>Chicago</td>\n",
              "      <td>7746272.07</td>\n",
              "      <td>1044375.49</td>\n",
              "      <td>6701896.58</td>\n",
              "      <td>3.17</td>\n",
              "      <td>203849.26</td>\n",
              "    </tr>\n",
              "    <tr>\n",
              "      <th>3</th>\n",
              "      <td>4</td>\n",
              "      <td>Greenfax</td>\n",
              "      <td>Retail</td>\n",
              "      <td>A Verizon Wireless premium retailer that offer...</td>\n",
              "      <td>2012</td>\n",
              "      <td>320</td>\n",
              "      <td>SC</td>\n",
              "      <td>Greenville</td>\n",
              "      <td>Newberry, SC</td>\n",
              "      <td>10725585.46</td>\n",
              "      <td>2694644.42</td>\n",
              "      <td>8030941.04</td>\n",
              "      <td>3.12</td>\n",
              "      <td>33517.45</td>\n",
              "    </tr>\n",
              "    <tr>\n",
              "      <th>4</th>\n",
              "      <td>5</td>\n",
              "      <td>Saoace</td>\n",
              "      <td>Energy</td>\n",
              "      <td>An energy efficiency consulting firm that work...</td>\n",
              "      <td>2009</td>\n",
              "      <td>24</td>\n",
              "      <td>WI</td>\n",
              "      <td>New Holstein</td>\n",
              "      <td>Appleton, WI</td>\n",
              "      <td>7798447.11</td>\n",
              "      <td>3206651.60</td>\n",
              "      <td>4591795.52</td>\n",
              "      <td>5.60</td>\n",
              "      <td>324935.30</td>\n",
              "    </tr>\n",
              "    <tr>\n",
              "      <th>...</th>\n",
              "      <td>...</td>\n",
              "      <td>...</td>\n",
              "      <td>...</td>\n",
              "      <td>...</td>\n",
              "      <td>...</td>\n",
              "      <td>...</td>\n",
              "      <td>...</td>\n",
              "      <td>...</td>\n",
              "      <td>...</td>\n",
              "      <td>...</td>\n",
              "      <td>...</td>\n",
              "      <td>...</td>\n",
              "      <td>...</td>\n",
              "      <td>...</td>\n",
              "    </tr>\n",
              "    <tr>\n",
              "      <th>995</th>\n",
              "      <td>996</td>\n",
              "      <td>Inventtremendous</td>\n",
              "      <td>Construction</td>\n",
              "      <td>A full-service design and build home remodelin...</td>\n",
              "      <td>2009</td>\n",
              "      <td>24</td>\n",
              "      <td>MN</td>\n",
              "      <td>Woodbury</td>\n",
              "      <td>Minneapolis</td>\n",
              "      <td>9134728.24</td>\n",
              "      <td>5152110.43</td>\n",
              "      <td>3982617.81</td>\n",
              "      <td>4.13</td>\n",
              "      <td>380613.68</td>\n",
              "    </tr>\n",
              "    <tr>\n",
              "      <th>996</th>\n",
              "      <td>997</td>\n",
              "      <td>Overviewparrot</td>\n",
              "      <td>Retail</td>\n",
              "      <td>An eco-friendly car cleaning service that clea...</td>\n",
              "      <td>2011</td>\n",
              "      <td>100</td>\n",
              "      <td>TX</td>\n",
              "      <td>Fort Worth</td>\n",
              "      <td>Dallas</td>\n",
              "      <td>12387130.09</td>\n",
              "      <td>1387784.06</td>\n",
              "      <td>10999346.03</td>\n",
              "      <td>4.31</td>\n",
              "      <td>123871.30</td>\n",
              "    </tr>\n",
              "    <tr>\n",
              "      <th>997</th>\n",
              "      <td>998</td>\n",
              "      <td>Belaguerra</td>\n",
              "      <td>IT Services</td>\n",
              "      <td>A global IT services firm specializing exclusi...</td>\n",
              "      <td>2010</td>\n",
              "      <td>140</td>\n",
              "      <td>MI</td>\n",
              "      <td>Troy</td>\n",
              "      <td>Detroit</td>\n",
              "      <td>9849518.96</td>\n",
              "      <td>1786744.40</td>\n",
              "      <td>8062774.56</td>\n",
              "      <td>4.20</td>\n",
              "      <td>70353.71</td>\n",
              "    </tr>\n",
              "    <tr>\n",
              "      <th>998</th>\n",
              "      <td>999</td>\n",
              "      <td>Moviespotter</td>\n",
              "      <td>Education</td>\n",
              "      <td>Provides an e-learning community through virtu...</td>\n",
              "      <td>2012</td>\n",
              "      <td>39</td>\n",
              "      <td>CA</td>\n",
              "      <td>San Rafael</td>\n",
              "      <td>San Francisco</td>\n",
              "      <td>6949706.40</td>\n",
              "      <td>689160.81</td>\n",
              "      <td>6260545.59</td>\n",
              "      <td>4.48</td>\n",
              "      <td>178197.60</td>\n",
              "    </tr>\n",
              "    <tr>\n",
              "      <th>999</th>\n",
              "      <td>1000</td>\n",
              "      <td>Allpossible</td>\n",
              "      <td>IT Services</td>\n",
              "      <td>A hardware, software, and video systems integr...</td>\n",
              "      <td>2011</td>\n",
              "      <td>24</td>\n",
              "      <td>CA</td>\n",
              "      <td>Los Angeles</td>\n",
              "      <td>Los Angeles</td>\n",
              "      <td>NaN</td>\n",
              "      <td>NaN</td>\n",
              "      <td>NaN</td>\n",
              "      <td>NaN</td>\n",
              "      <td>0.00</td>\n",
              "    </tr>\n",
              "  </tbody>\n",
              "</table>\n",
              "<p>1000 rows × 14 columns</p>\n",
              "</div>"
            ],
            "text/plain": [
              "       ID              Name  ... 2015 Growth % Revenue_per_Emp\n",
              "0       1          Over-Hex  ...          0.65       360661.72\n",
              "1       2         Unimattax  ...          5.20       346017.82\n",
              "2       3            Lexila  ...          3.17       203849.26\n",
              "3       4          Greenfax  ...          3.12        33517.45\n",
              "4       5            Saoace  ...          5.60       324935.30\n",
              "..    ...               ...  ...           ...             ...\n",
              "995   996  Inventtremendous  ...          4.13       380613.68\n",
              "996   997    Overviewparrot  ...          4.31       123871.30\n",
              "997   998        Belaguerra  ...          4.20        70353.71\n",
              "998   999      Moviespotter  ...          4.48       178197.60\n",
              "999  1000       Allpossible  ...           NaN            0.00\n",
              "\n",
              "[1000 rows x 14 columns]"
            ]
          },
          "metadata": {
            "tags": []
          },
          "execution_count": 271
        }
      ]
    },
    {
      "cell_type": "code",
      "metadata": {
        "id": "8pFanj-ln1T-"
      },
      "source": [
        ""
      ],
      "execution_count": null,
      "outputs": []
    },
    {
      "cell_type": "markdown",
      "metadata": {
        "id": "w8fvfKRfn7_v"
      },
      "source": [
        "**The cities with the higest revenue and the lowest expenses**\n"
      ]
    },
    {
      "cell_type": "code",
      "metadata": {
        "id": "cWazVrtjUOH7"
      },
      "source": [
        "Financials_2015['Expenses_per_Emp'] = Financials_2015.groupby('Industry').apply(lambda x: x['2015 Expenses']/x['Employees']).reset_index(level = 0, drop = True).round(2)"
      ],
      "execution_count": null,
      "outputs": []
    },
    {
      "cell_type": "code",
      "metadata": {
        "id": "ubSQy22DnJHY",
        "colab": {
          "base_uri": "https://localhost:8080/",
          "height": 138
        },
        "outputId": "afee6a6c-5d49-4565-e853-5a5721d4b71f"
      },
      "source": [
        "Financials_2015.head(3)"
      ],
      "execution_count": null,
      "outputs": [
        {
          "output_type": "execute_result",
          "data": {
            "text/html": [
              "<div>\n",
              "<style scoped>\n",
              "    .dataframe tbody tr th:only-of-type {\n",
              "        vertical-align: middle;\n",
              "    }\n",
              "\n",
              "    .dataframe tbody tr th {\n",
              "        vertical-align: top;\n",
              "    }\n",
              "\n",
              "    .dataframe thead th {\n",
              "        text-align: right;\n",
              "    }\n",
              "</style>\n",
              "<table border=\"1\" class=\"dataframe\">\n",
              "  <thead>\n",
              "    <tr style=\"text-align: right;\">\n",
              "      <th></th>\n",
              "      <th>ID</th>\n",
              "      <th>Name</th>\n",
              "      <th>Industry</th>\n",
              "      <th>Description</th>\n",
              "      <th>Year Founded</th>\n",
              "      <th>Employees</th>\n",
              "      <th>State</th>\n",
              "      <th>City</th>\n",
              "      <th>Metro Area</th>\n",
              "      <th>2015 Revenue</th>\n",
              "      <th>2015 Expenses</th>\n",
              "      <th>2015 Profit</th>\n",
              "      <th>2015 Growth %</th>\n",
              "      <th>Revenue_per_Emp</th>\n",
              "      <th>Expenses_per_Emp</th>\n",
              "    </tr>\n",
              "  </thead>\n",
              "  <tbody>\n",
              "    <tr>\n",
              "      <th>0</th>\n",
              "      <td>1</td>\n",
              "      <td>Over-Hex</td>\n",
              "      <td>Software</td>\n",
              "      <td>Provides a Web-based CRM tool that allows hosp...</td>\n",
              "      <td>2006</td>\n",
              "      <td>25</td>\n",
              "      <td>TN</td>\n",
              "      <td>Franklin</td>\n",
              "      <td>Nashville</td>\n",
              "      <td>9016542.89</td>\n",
              "      <td>804035.40</td>\n",
              "      <td>8212507.49</td>\n",
              "      <td>0.65</td>\n",
              "      <td>360661.72</td>\n",
              "      <td>32161.42</td>\n",
              "    </tr>\n",
              "    <tr>\n",
              "      <th>1</th>\n",
              "      <td>2</td>\n",
              "      <td>Unimattax</td>\n",
              "      <td>IT Services</td>\n",
              "      <td>Helps law firms use Thomson Reuters Elite prac...</td>\n",
              "      <td>2009</td>\n",
              "      <td>36</td>\n",
              "      <td>PA</td>\n",
              "      <td>Newtown Square</td>\n",
              "      <td>Philadelphia</td>\n",
              "      <td>12456641.64</td>\n",
              "      <td>2149297.00</td>\n",
              "      <td>10307344.65</td>\n",
              "      <td>5.20</td>\n",
              "      <td>346017.82</td>\n",
              "      <td>59702.69</td>\n",
              "    </tr>\n",
              "    <tr>\n",
              "      <th>2</th>\n",
              "      <td>3</td>\n",
              "      <td>Lexila</td>\n",
              "      <td>Real Estate</td>\n",
              "      <td>Offers investment, construction, residential, ...</td>\n",
              "      <td>2013</td>\n",
              "      <td>38</td>\n",
              "      <td>IL</td>\n",
              "      <td>Tinley Park</td>\n",
              "      <td>Chicago</td>\n",
              "      <td>7746272.07</td>\n",
              "      <td>1044375.49</td>\n",
              "      <td>6701896.58</td>\n",
              "      <td>3.17</td>\n",
              "      <td>203849.26</td>\n",
              "      <td>27483.57</td>\n",
              "    </tr>\n",
              "  </tbody>\n",
              "</table>\n",
              "</div>"
            ],
            "text/plain": [
              "   ID       Name     Industry  ... 2015 Growth %  Revenue_per_Emp  Expenses_per_Emp\n",
              "0   1   Over-Hex     Software  ...          0.65        360661.72          32161.42\n",
              "1   2  Unimattax  IT Services  ...          5.20        346017.82          59702.69\n",
              "2   3     Lexila  Real Estate  ...          3.17        203849.26          27483.57\n",
              "\n",
              "[3 rows x 15 columns]"
            ]
          },
          "metadata": {
            "tags": []
          },
          "execution_count": 273
        }
      ]
    },
    {
      "cell_type": "code",
      "metadata": {
        "id": "QZY4J9AznJaV",
        "colab": {
          "base_uri": "https://localhost:8080/"
        },
        "outputId": "cd8a915b-4ef7-47a4-b6c8-2ea314e9af3a"
      },
      "source": [
        "Financials_2015.groupby('Employees')['2015 Revenue'].transform(lambda x: np.sum(x))\n"
      ],
      "execution_count": null,
      "outputs": [
        {
          "output_type": "execute_result",
          "data": {
            "text/plain": [
              "0      2.593278e+08\n",
              "1      7.331843e+07\n",
              "2      8.198885e+07\n",
              "3      1.072559e+07\n",
              "4      1.397817e+08\n",
              "           ...     \n",
              "995    1.397817e+08\n",
              "996    9.273088e+07\n",
              "997    4.859070e+07\n",
              "998    6.218556e+07\n",
              "999    1.397817e+08\n",
              "Name: 2015 Revenue, Length: 1000, dtype: float64"
            ]
          },
          "metadata": {
            "tags": []
          },
          "execution_count": 274
        }
      ]
    },
    {
      "cell_type": "code",
      "metadata": {
        "id": "5Yn6w-CrnKMm",
        "colab": {
          "base_uri": "https://localhost:8080/"
        },
        "outputId": "7cda710a-1e1c-4af5-cd2d-cc47af92aa38"
      },
      "source": [
        "print( \"(\" + Financials_2015['State'] + \")\" + Financials_2015['City'] )"
      ],
      "execution_count": null,
      "outputs": [
        {
          "output_type": "stream",
          "text": [
            "0            (TN)Franklin\n",
            "1      (PA)Newtown Square\n",
            "2         (IL)Tinley Park\n",
            "3          (SC)Greenville\n",
            "4        (WI)New Holstein\n",
            "              ...        \n",
            "995          (MN)Woodbury\n",
            "996        (TX)Fort Worth\n",
            "997              (MI)Troy\n",
            "998        (CA)San Rafael\n",
            "999       (CA)Los Angeles\n",
            "Length: 1000, dtype: object\n"
          ],
          "name": "stdout"
        }
      ]
    },
    {
      "cell_type": "code",
      "metadata": {
        "id": "U9VtJhHonKU3"
      },
      "source": [
        "def stan(stan, miasto):\n",
        "  return \"(\" + stan + \")\" + \" \"+ miasto"
      ],
      "execution_count": null,
      "outputs": []
    },
    {
      "cell_type": "code",
      "metadata": {
        "id": "mQaSojuanKcB"
      },
      "source": [
        "Financials_2015['Location'] = stan(Financials_2015['State'],Financials_2015['City'])"
      ],
      "execution_count": null,
      "outputs": []
    },
    {
      "cell_type": "code",
      "metadata": {
        "id": "Y0_tQ9iBnKjt",
        "colab": {
          "base_uri": "https://localhost:8080/",
          "height": 831
        },
        "outputId": "4067e990-44f4-4160-e4ff-90403c2c9182"
      },
      "source": [
        "fig, ax = plt.subplots(1,1, figsize = (18,10), dpi = 100)\n",
        "plt.style.use('seaborn-whitegrid')\n",
        "\n",
        "Cities = Financials_2015.groupby('City')['2015 Revenue'].sum().sort_values(ascending = False).reset_index()\n",
        "\n",
        "x = Cities['City'][0:16]\n",
        "y = Cities['2015 Revenue']/1000000\n",
        "y1 = y[0:16]\n",
        "\n",
        "ax.bar(x,y1, color='red', alpha =0.9)\n",
        "\n",
        "ax.axhline(y = y1.mean(),\n",
        "\tcolor = 'black',\n",
        "\tlinestyle = '--',\n",
        "\tlabel = 'Average revenue (2015)');\n",
        "\n",
        "ax.set(title = 'Cities with higest Revenue (2015) [m$]')\n",
        "\n",
        "ax.legend()\n",
        "\n",
        "\n",
        "for i, p in enumerate(ax.patches):\n",
        "    ax.annotate(y1[i].round(2), (p.get_x() + p.get_width() / 2., p.get_height()), ha='center', va='center', rotation=0, xytext=(0, 10), textcoords='offset points')"
      ],
      "execution_count": null,
      "outputs": [
        {
          "output_type": "display_data",
          "data": {
            "image/png": "[encoded data removed]",
            "text/plain": [
              "<Figure size 1800x1000 with 1 Axes>"
            ]
          },
          "metadata": {
            "tags": []
          }
        }
      ]
    },
    {
      "cell_type": "markdown",
      "metadata": {
        "id": "RoZBFuz47Bm0"
      },
      "source": [
        ""
      ]
    },
    {
      "cell_type": "code",
      "metadata": {
        "id": "dSeo_BCR7CwG",
        "colab": {
          "base_uri": "https://localhost:8080/"
        },
        "outputId": "3ca765a2-de0b-4314-e674-9ddd75bbb2fc"
      },
      "source": [
        "Cities.info()"
      ],
      "execution_count": null,
      "outputs": [
        {
          "output_type": "stream",
          "text": [
            "<class 'pandas.core.frame.DataFrame'>\n",
            "RangeIndex: 507 entries, 0 to 506\n",
            "Data columns (total 2 columns):\n",
            " #   Column        Non-Null Count  Dtype  \n",
            "---  ------        --------------  -----  \n",
            " 0   City          507 non-null    object \n",
            " 1   2015 Revenue  507 non-null    float64\n",
            "dtypes: float64(1), object(1)\n",
            "memory usage: 8.0+ KB\n"
          ],
          "name": "stdout"
        }
      ]
    },
    {
      "cell_type": "code",
      "metadata": {
        "id": "uGAHbsI_nKvB"
      },
      "source": [
        "Cities = Financials_2015.groupby('City')['2015 Revenue'].sum().sort_values(ascending = False).reset_index()"
      ],
      "execution_count": null,
      "outputs": []
    },
    {
      "cell_type": "code",
      "metadata": {
        "id": "nhQuZLjWnK4q",
        "colab": {
          "base_uri": "https://localhost:8080/"
        },
        "outputId": "dd793a9b-085e-448f-a28a-203a3a0b4aa9"
      },
      "source": [
        "Cities['2015 Revenue']/1000000"
      ],
      "execution_count": null,
      "outputs": [
        {
          "output_type": "execute_result",
          "data": {
            "text/plain": [
              "0      313.998309\n",
              "1      179.221908\n",
              "2      159.820831\n",
              "3      147.217934\n",
              "4      146.137694\n",
              "          ...    \n",
              "502      4.528393\n",
              "503      4.484095\n",
              "504      4.475874\n",
              "505      3.367964\n",
              "506      1.614585\n",
              "Name: 2015 Revenue, Length: 507, dtype: float64"
            ]
          },
          "metadata": {
            "tags": []
          },
          "execution_count": 280
        }
      ]
    },
    {
      "cell_type": "code",
      "metadata": {
        "id": "nSbX2Q4WnLC5",
        "colab": {
          "base_uri": "https://localhost:8080/",
          "height": 288
        },
        "outputId": "6ea48aae-cbe7-45b4-e016-9b7ad6dfb58c"
      },
      "source": [
        "Financials_2015.describe().round(2)"
      ],
      "execution_count": null,
      "outputs": [
        {
          "output_type": "execute_result",
          "data": {
            "text/html": [
              "<div>\n",
              "<style scoped>\n",
              "    .dataframe tbody tr th:only-of-type {\n",
              "        vertical-align: middle;\n",
              "    }\n",
              "\n",
              "    .dataframe tbody tr th {\n",
              "        vertical-align: top;\n",
              "    }\n",
              "\n",
              "    .dataframe thead th {\n",
              "        text-align: right;\n",
              "    }\n",
              "</style>\n",
              "<table border=\"1\" class=\"dataframe\">\n",
              "  <thead>\n",
              "    <tr style=\"text-align: right;\">\n",
              "      <th></th>\n",
              "      <th>ID</th>\n",
              "      <th>Year Founded</th>\n",
              "      <th>Employees</th>\n",
              "      <th>2015 Revenue</th>\n",
              "      <th>2015 Expenses</th>\n",
              "      <th>2015 Profit</th>\n",
              "      <th>2015 Growth %</th>\n",
              "      <th>Revenue_per_Emp</th>\n",
              "      <th>Expenses_per_Emp</th>\n",
              "    </tr>\n",
              "  </thead>\n",
              "  <tbody>\n",
              "    <tr>\n",
              "      <th>count</th>\n",
              "      <td>1000.00</td>\n",
              "      <td>1000.00</td>\n",
              "      <td>1000.00</td>\n",
              "      <td>999.00</td>\n",
              "      <td>999.00</td>\n",
              "      <td>999.00</td>\n",
              "      <td>999.00</td>\n",
              "      <td>1000.00</td>\n",
              "      <td>999.00</td>\n",
              "    </tr>\n",
              "    <tr>\n",
              "      <th>mean</th>\n",
              "      <td>500.50</td>\n",
              "      <td>2010.34</td>\n",
              "      <td>144.04</td>\n",
              "      <td>8999809.53</td>\n",
              "      <td>4140194.59</td>\n",
              "      <td>4859614.94</td>\n",
              "      <td>3.99</td>\n",
              "      <td>inf</td>\n",
              "      <td>inf</td>\n",
              "    </tr>\n",
              "    <tr>\n",
              "      <th>std</th>\n",
              "      <td>288.82</td>\n",
              "      <td>3.16</td>\n",
              "      <td>388.34</td>\n",
              "      <td>2084022.63</td>\n",
              "      <td>1933533.84</td>\n",
              "      <td>2889166.01</td>\n",
              "      <td>1.02</td>\n",
              "      <td>NaN</td>\n",
              "      <td>NaN</td>\n",
              "    </tr>\n",
              "    <tr>\n",
              "      <th>min</th>\n",
              "      <td>1.00</td>\n",
              "      <td>1999.00</td>\n",
              "      <td>0.00</td>\n",
              "      <td>1614585.24</td>\n",
              "      <td>125634.96</td>\n",
              "      <td>-3560690.02</td>\n",
              "      <td>0.65</td>\n",
              "      <td>0.00</td>\n",
              "      <td>395.43</td>\n",
              "    </tr>\n",
              "    <tr>\n",
              "      <th>25%</th>\n",
              "      <td>250.75</td>\n",
              "      <td>2010.00</td>\n",
              "      <td>24.00</td>\n",
              "      <td>7639032.43</td>\n",
              "      <td>2778565.04</td>\n",
              "      <td>2871744.41</td>\n",
              "      <td>3.30</td>\n",
              "      <td>71515.20</td>\n",
              "      <td>27244.03</td>\n",
              "    </tr>\n",
              "    <tr>\n",
              "      <th>50%</th>\n",
              "      <td>500.50</td>\n",
              "      <td>2011.00</td>\n",
              "      <td>45.50</td>\n",
              "      <td>8992759.41</td>\n",
              "      <td>4191046.22</td>\n",
              "      <td>4935880.94</td>\n",
              "      <td>4.03</td>\n",
              "      <td>189017.25</td>\n",
              "      <td>71355.74</td>\n",
              "    </tr>\n",
              "    <tr>\n",
              "      <th>75%</th>\n",
              "      <td>750.25</td>\n",
              "      <td>2012.00</td>\n",
              "      <td>120.00</td>\n",
              "      <td>10342000.48</td>\n",
              "      <td>5457733.88</td>\n",
              "      <td>6815965.19</td>\n",
              "      <td>4.69</td>\n",
              "      <td>390030.58</td>\n",
              "      <td>172594.80</td>\n",
              "    </tr>\n",
              "    <tr>\n",
              "      <th>max</th>\n",
              "      <td>1000.00</td>\n",
              "      <td>2014.00</td>\n",
              "      <td>7125.00</td>\n",
              "      <td>16810051.07</td>\n",
              "      <td>10869101.10</td>\n",
              "      <td>14624533.49</td>\n",
              "      <td>7.84</td>\n",
              "      <td>inf</td>\n",
              "      <td>inf</td>\n",
              "    </tr>\n",
              "  </tbody>\n",
              "</table>\n",
              "</div>"
            ],
            "text/plain": [
              "            ID  Year Founded  ...  Revenue_per_Emp  Expenses_per_Emp\n",
              "count  1000.00       1000.00  ...          1000.00            999.00\n",
              "mean    500.50       2010.34  ...              inf               inf\n",
              "std     288.82          3.16  ...              NaN               NaN\n",
              "min       1.00       1999.00  ...             0.00            395.43\n",
              "25%     250.75       2010.00  ...         71515.20          27244.03\n",
              "50%     500.50       2011.00  ...        189017.25          71355.74\n",
              "75%     750.25       2012.00  ...        390030.58         172594.80\n",
              "max    1000.00       2014.00  ...              inf               inf\n",
              "\n",
              "[8 rows x 9 columns]"
            ]
          },
          "metadata": {
            "tags": []
          },
          "execution_count": 281
        }
      ]
    },
    {
      "cell_type": "code",
      "metadata": {
        "id": "nXaavIa1musx"
      },
      "source": [
        "Financials_2015['2015 Growth %'] = Financials_2015['2015 Growth %']*100"
      ],
      "execution_count": null,
      "outputs": []
    },
    {
      "cell_type": "code",
      "metadata": {
        "id": "mCf6DP9ymu2G"
      },
      "source": [
        "Financials_2015['2015 Growth %'] = Financials_2015['2015 Growth %'].astype('str').str.split('.').str[0]+'%'"
      ],
      "execution_count": null,
      "outputs": []
    },
    {
      "cell_type": "code",
      "metadata": {
        "id": "Iv3KBQn_mu6z"
      },
      "source": [
        "#def percent_formating(kolumna):\n",
        "    #kolumna.astype('str').str.split('.').str[0]+'%'"
      ],
      "execution_count": null,
      "outputs": []
    },
    {
      "cell_type": "code",
      "metadata": {
        "colab": {
          "base_uri": "https://localhost:8080/"
        },
        "id": "K-ZWxj2EmvAc",
        "outputId": "2a30b903-0744-4e40-d9ea-7ce68b8f6a8b"
      },
      "source": [
        "Financials['2014 Growth %'].astype('str').str.split('.').str[0]+'%'"
      ],
      "execution_count": null,
      "outputs": [
        {
          "output_type": "execute_result",
          "data": {
            "text/plain": [
              "0      4%\n",
              "1      0%\n",
              "2      4%\n",
              "3      0%\n",
              "4      2%\n",
              "       ..\n",
              "995    4%\n",
              "996    3%\n",
              "997    2%\n",
              "998    4%\n",
              "999    3%\n",
              "Name: 2014 Growth %, Length: 1000, dtype: object"
            ]
          },
          "metadata": {
            "tags": []
          },
          "execution_count": 285
        }
      ]
    },
    {
      "cell_type": "code",
      "metadata": {
        "id": "rSyo7PzqmvMC"
      },
      "source": [
        "def percent_formating(zmienna,kolumna):\n",
        "    zk = zmienna[kolumna]*100\n",
        "    zmienna[kolumna] = zk.astype('str').str.split('.').str[0]+'%'"
      ],
      "execution_count": null,
      "outputs": []
    },
    {
      "cell_type": "code",
      "metadata": {
        "id": "NlOYJXJomvTA"
      },
      "source": [
        "#percent_formating(Financials,'2014 Growth %')"
      ],
      "execution_count": null,
      "outputs": []
    },
    {
      "cell_type": "code",
      "metadata": {
        "colab": {
          "base_uri": "https://localhost:8080/",
          "height": 407
        },
        "id": "VnRF6gHDmvZq",
        "outputId": "0841678e-fec1-463e-d7d5-b5c54499da7d"
      },
      "source": [
        "Financials"
      ],
      "execution_count": null,
      "outputs": [
        {
          "output_type": "execute_result",
          "data": {
            "text/html": [
              "<div>\n",
              "<style scoped>\n",
              "    .dataframe tbody tr th:only-of-type {\n",
              "        vertical-align: middle;\n",
              "    }\n",
              "\n",
              "    .dataframe tbody tr th {\n",
              "        vertical-align: top;\n",
              "    }\n",
              "\n",
              "    .dataframe thead th {\n",
              "        text-align: right;\n",
              "    }\n",
              "</style>\n",
              "<table border=\"1\" class=\"dataframe\">\n",
              "  <thead>\n",
              "    <tr style=\"text-align: right;\">\n",
              "      <th></th>\n",
              "      <th>ID</th>\n",
              "      <th>Name</th>\n",
              "      <th>2015 Revenue</th>\n",
              "      <th>2015 Expenses</th>\n",
              "      <th>2015 Profit</th>\n",
              "      <th>2015 Growth %</th>\n",
              "      <th>2014 Revenue</th>\n",
              "      <th>2014 Expenses</th>\n",
              "      <th>2014 Profit</th>\n",
              "      <th>2014 Growth %</th>\n",
              "      <th>2013 Revenue</th>\n",
              "      <th>2013 Expenses</th>\n",
              "      <th>2013 Profit</th>\n",
              "    </tr>\n",
              "  </thead>\n",
              "  <tbody>\n",
              "    <tr>\n",
              "      <th>0</th>\n",
              "      <td>1</td>\n",
              "      <td>Over-Hex</td>\n",
              "      <td>10684526.90</td>\n",
              "      <td>1130700.06</td>\n",
              "      <td>9553826.84</td>\n",
              "      <td>3.34</td>\n",
              "      <td>2463739</td>\n",
              "      <td>194747.86</td>\n",
              "      <td>2268991.14</td>\n",
              "      <td>4.10</td>\n",
              "      <td>483086.08</td>\n",
              "      <td>43394.44</td>\n",
              "      <td>439691.64</td>\n",
              "    </tr>\n",
              "    <tr>\n",
              "      <th>1</th>\n",
              "      <td>2</td>\n",
              "      <td>Unimattax</td>\n",
              "      <td>9016542.89</td>\n",
              "      <td>804035.40</td>\n",
              "      <td>8212507.49</td>\n",
              "      <td>0.65</td>\n",
              "      <td>5448571</td>\n",
              "      <td>239226.90</td>\n",
              "      <td>5209344.10</td>\n",
              "      <td>0.41</td>\n",
              "      <td>3864234.75</td>\n",
              "      <td>91714.44</td>\n",
              "      <td>3772520.31</td>\n",
              "    </tr>\n",
              "    <tr>\n",
              "      <th>2</th>\n",
              "      <td>3</td>\n",
              "      <td>Lexila</td>\n",
              "      <td>12456641.64</td>\n",
              "      <td>2149297.00</td>\n",
              "      <td>10307344.65</td>\n",
              "      <td>5.20</td>\n",
              "      <td>2007778</td>\n",
              "      <td>335126.93</td>\n",
              "      <td>1672651.07</td>\n",
              "      <td>4.23</td>\n",
              "      <td>383896.37</td>\n",
              "      <td>112257.41</td>\n",
              "      <td>271638.96</td>\n",
              "    </tr>\n",
              "    <tr>\n",
              "      <th>3</th>\n",
              "      <td>4</td>\n",
              "      <td>Greenfax</td>\n",
              "      <td>7746272.07</td>\n",
              "      <td>1044375.49</td>\n",
              "      <td>6701896.58</td>\n",
              "      <td>3.17</td>\n",
              "      <td>1857830</td>\n",
              "      <td>247048.76</td>\n",
              "      <td>1610781.24</td>\n",
              "      <td>0.56</td>\n",
              "      <td>1190916.67</td>\n",
              "      <td>625442.66</td>\n",
              "      <td>565474.01</td>\n",
              "    </tr>\n",
              "    <tr>\n",
              "      <th>4</th>\n",
              "      <td>5</td>\n",
              "      <td>Saoace</td>\n",
              "      <td>10725585.46</td>\n",
              "      <td>2694644.42</td>\n",
              "      <td>8030941.04</td>\n",
              "      <td>3.12</td>\n",
              "      <td>2604017</td>\n",
              "      <td>615040.85</td>\n",
              "      <td>1988976.15</td>\n",
              "      <td>2.39</td>\n",
              "      <td>768146.61</td>\n",
              "      <td>222962.86</td>\n",
              "      <td>545183.75</td>\n",
              "    </tr>\n",
              "    <tr>\n",
              "      <th>...</th>\n",
              "      <td>...</td>\n",
              "      <td>...</td>\n",
              "      <td>...</td>\n",
              "      <td>...</td>\n",
              "      <td>...</td>\n",
              "      <td>...</td>\n",
              "      <td>...</td>\n",
              "      <td>...</td>\n",
              "      <td>...</td>\n",
              "      <td>...</td>\n",
              "      <td>...</td>\n",
              "      <td>...</td>\n",
              "      <td>...</td>\n",
              "    </tr>\n",
              "    <tr>\n",
              "      <th>995</th>\n",
              "      <td>996</td>\n",
              "      <td>Inventtremendous</td>\n",
              "      <td>9144856.60</td>\n",
              "      <td>4755994.87</td>\n",
              "      <td>4388861.73</td>\n",
              "      <td>3.92</td>\n",
              "      <td>1859674</td>\n",
              "      <td>911725.27</td>\n",
              "      <td>947948.73</td>\n",
              "      <td>4.37</td>\n",
              "      <td>346308.01</td>\n",
              "      <td>147169.32</td>\n",
              "      <td>199138.69</td>\n",
              "    </tr>\n",
              "    <tr>\n",
              "      <th>996</th>\n",
              "      <td>997</td>\n",
              "      <td>Overviewparrot</td>\n",
              "      <td>9134728.24</td>\n",
              "      <td>5152110.43</td>\n",
              "      <td>3982617.81</td>\n",
              "      <td>4.13</td>\n",
              "      <td>1780432</td>\n",
              "      <td>907612.89</td>\n",
              "      <td>872819.11</td>\n",
              "      <td>3.79</td>\n",
              "      <td>371697.70</td>\n",
              "      <td>128087.21</td>\n",
              "      <td>243610.49</td>\n",
              "    </tr>\n",
              "    <tr>\n",
              "      <th>997</th>\n",
              "      <td>998</td>\n",
              "      <td>Belaguerra</td>\n",
              "      <td>12387130.09</td>\n",
              "      <td>1387784.06</td>\n",
              "      <td>10999346.03</td>\n",
              "      <td>4.31</td>\n",
              "      <td>2334555</td>\n",
              "      <td>250486.00</td>\n",
              "      <td>2084069.00</td>\n",
              "      <td>2.94</td>\n",
              "      <td>592526.65</td>\n",
              "      <td>60748.53</td>\n",
              "      <td>531778.12</td>\n",
              "    </tr>\n",
              "    <tr>\n",
              "      <th>998</th>\n",
              "      <td>999</td>\n",
              "      <td>Moviespotter</td>\n",
              "      <td>9849518.96</td>\n",
              "      <td>1786744.40</td>\n",
              "      <td>8062774.56</td>\n",
              "      <td>4.20</td>\n",
              "      <td>1893587</td>\n",
              "      <td>418019.42</td>\n",
              "      <td>1475567.58</td>\n",
              "      <td>4.37</td>\n",
              "      <td>352623.28</td>\n",
              "      <td>92720.68</td>\n",
              "      <td>259902.60</td>\n",
              "    </tr>\n",
              "    <tr>\n",
              "      <th>999</th>\n",
              "      <td>1000</td>\n",
              "      <td>Allpossible</td>\n",
              "      <td>6949706.40</td>\n",
              "      <td>689160.81</td>\n",
              "      <td>6260545.59</td>\n",
              "      <td>4.48</td>\n",
              "      <td>1268366</td>\n",
              "      <td>131634.54</td>\n",
              "      <td>1136731.46</td>\n",
              "      <td>3.77</td>\n",
              "      <td>265904.82</td>\n",
              "      <td>29911.37</td>\n",
              "      <td>235993.45</td>\n",
              "    </tr>\n",
              "  </tbody>\n",
              "</table>\n",
              "<p>1000 rows × 13 columns</p>\n",
              "</div>"
            ],
            "text/plain": [
              "       ID              Name  ...  2013 Expenses  2013 Profit\n",
              "0       1          Over-Hex  ...       43394.44    439691.64\n",
              "1       2         Unimattax  ...       91714.44   3772520.31\n",
              "2       3            Lexila  ...      112257.41    271638.96\n",
              "3       4          Greenfax  ...      625442.66    565474.01\n",
              "4       5            Saoace  ...      222962.86    545183.75\n",
              "..    ...               ...  ...            ...          ...\n",
              "995   996  Inventtremendous  ...      147169.32    199138.69\n",
              "996   997    Overviewparrot  ...      128087.21    243610.49\n",
              "997   998        Belaguerra  ...       60748.53    531778.12\n",
              "998   999      Moviespotter  ...       92720.68    259902.60\n",
              "999  1000       Allpossible  ...       29911.37    235993.45\n",
              "\n",
              "[1000 rows x 13 columns]"
            ]
          },
          "metadata": {
            "tags": []
          },
          "execution_count": 288
        }
      ]
    },
    {
      "cell_type": "code",
      "metadata": {
        "colab": {
          "base_uri": "https://localhost:8080/",
          "height": 494
        },
        "id": "jEi1rLWv_Z7E",
        "outputId": "6056302f-263e-4714-bd47-33035cc12e83"
      },
      "source": [
        "Financials_2015"
      ],
      "execution_count": null,
      "outputs": [
        {
          "output_type": "execute_result",
          "data": {
            "text/html": [
              "<div>\n",
              "<style scoped>\n",
              "    .dataframe tbody tr th:only-of-type {\n",
              "        vertical-align: middle;\n",
              "    }\n",
              "\n",
              "    .dataframe tbody tr th {\n",
              "        vertical-align: top;\n",
              "    }\n",
              "\n",
              "    .dataframe thead th {\n",
              "        text-align: right;\n",
              "    }\n",
              "</style>\n",
              "<table border=\"1\" class=\"dataframe\">\n",
              "  <thead>\n",
              "    <tr style=\"text-align: right;\">\n",
              "      <th></th>\n",
              "      <th>ID</th>\n",
              "      <th>Name</th>\n",
              "      <th>Industry</th>\n",
              "      <th>Description</th>\n",
              "      <th>Year Founded</th>\n",
              "      <th>Employees</th>\n",
              "      <th>State</th>\n",
              "      <th>City</th>\n",
              "      <th>Metro Area</th>\n",
              "      <th>2015 Revenue</th>\n",
              "      <th>2015 Expenses</th>\n",
              "      <th>2015 Profit</th>\n",
              "      <th>2015 Growth %</th>\n",
              "      <th>Revenue_per_Emp</th>\n",
              "      <th>Expenses_per_Emp</th>\n",
              "      <th>Location</th>\n",
              "    </tr>\n",
              "  </thead>\n",
              "  <tbody>\n",
              "    <tr>\n",
              "      <th>0</th>\n",
              "      <td>1</td>\n",
              "      <td>Over-Hex</td>\n",
              "      <td>Software</td>\n",
              "      <td>Provides a Web-based CRM tool that allows hosp...</td>\n",
              "      <td>2006</td>\n",
              "      <td>25</td>\n",
              "      <td>TN</td>\n",
              "      <td>Franklin</td>\n",
              "      <td>Nashville</td>\n",
              "      <td>9016542.89</td>\n",
              "      <td>804035.40</td>\n",
              "      <td>8212507.49</td>\n",
              "      <td>65%</td>\n",
              "      <td>360661.72</td>\n",
              "      <td>32161.42</td>\n",
              "      <td>(TN) Franklin</td>\n",
              "    </tr>\n",
              "    <tr>\n",
              "      <th>1</th>\n",
              "      <td>2</td>\n",
              "      <td>Unimattax</td>\n",
              "      <td>IT Services</td>\n",
              "      <td>Helps law firms use Thomson Reuters Elite prac...</td>\n",
              "      <td>2009</td>\n",
              "      <td>36</td>\n",
              "      <td>PA</td>\n",
              "      <td>Newtown Square</td>\n",
              "      <td>Philadelphia</td>\n",
              "      <td>12456641.64</td>\n",
              "      <td>2149297.00</td>\n",
              "      <td>10307344.65</td>\n",
              "      <td>520%</td>\n",
              "      <td>346017.82</td>\n",
              "      <td>59702.69</td>\n",
              "      <td>(PA) Newtown Square</td>\n",
              "    </tr>\n",
              "    <tr>\n",
              "      <th>2</th>\n",
              "      <td>3</td>\n",
              "      <td>Lexila</td>\n",
              "      <td>Real Estate</td>\n",
              "      <td>Offers investment, construction, residential, ...</td>\n",
              "      <td>2013</td>\n",
              "      <td>38</td>\n",
              "      <td>IL</td>\n",
              "      <td>Tinley Park</td>\n",
              "      <td>Chicago</td>\n",
              "      <td>7746272.07</td>\n",
              "      <td>1044375.49</td>\n",
              "      <td>6701896.58</td>\n",
              "      <td>317%</td>\n",
              "      <td>203849.26</td>\n",
              "      <td>27483.57</td>\n",
              "      <td>(IL) Tinley Park</td>\n",
              "    </tr>\n",
              "    <tr>\n",
              "      <th>3</th>\n",
              "      <td>4</td>\n",
              "      <td>Greenfax</td>\n",
              "      <td>Retail</td>\n",
              "      <td>A Verizon Wireless premium retailer that offer...</td>\n",
              "      <td>2012</td>\n",
              "      <td>320</td>\n",
              "      <td>SC</td>\n",
              "      <td>Greenville</td>\n",
              "      <td>Newberry, SC</td>\n",
              "      <td>10725585.46</td>\n",
              "      <td>2694644.42</td>\n",
              "      <td>8030941.04</td>\n",
              "      <td>312%</td>\n",
              "      <td>33517.45</td>\n",
              "      <td>8420.76</td>\n",
              "      <td>(SC) Greenville</td>\n",
              "    </tr>\n",
              "    <tr>\n",
              "      <th>4</th>\n",
              "      <td>5</td>\n",
              "      <td>Saoace</td>\n",
              "      <td>Energy</td>\n",
              "      <td>An energy efficiency consulting firm that work...</td>\n",
              "      <td>2009</td>\n",
              "      <td>24</td>\n",
              "      <td>WI</td>\n",
              "      <td>New Holstein</td>\n",
              "      <td>Appleton, WI</td>\n",
              "      <td>7798447.11</td>\n",
              "      <td>3206651.60</td>\n",
              "      <td>4591795.52</td>\n",
              "      <td>560%</td>\n",
              "      <td>324935.30</td>\n",
              "      <td>133610.48</td>\n",
              "      <td>(WI) New Holstein</td>\n",
              "    </tr>\n",
              "    <tr>\n",
              "      <th>...</th>\n",
              "      <td>...</td>\n",
              "      <td>...</td>\n",
              "      <td>...</td>\n",
              "      <td>...</td>\n",
              "      <td>...</td>\n",
              "      <td>...</td>\n",
              "      <td>...</td>\n",
              "      <td>...</td>\n",
              "      <td>...</td>\n",
              "      <td>...</td>\n",
              "      <td>...</td>\n",
              "      <td>...</td>\n",
              "      <td>...</td>\n",
              "      <td>...</td>\n",
              "      <td>...</td>\n",
              "      <td>...</td>\n",
              "    </tr>\n",
              "    <tr>\n",
              "      <th>995</th>\n",
              "      <td>996</td>\n",
              "      <td>Inventtremendous</td>\n",
              "      <td>Construction</td>\n",
              "      <td>A full-service design and build home remodelin...</td>\n",
              "      <td>2009</td>\n",
              "      <td>24</td>\n",
              "      <td>MN</td>\n",
              "      <td>Woodbury</td>\n",
              "      <td>Minneapolis</td>\n",
              "      <td>9134728.24</td>\n",
              "      <td>5152110.43</td>\n",
              "      <td>3982617.81</td>\n",
              "      <td>413%</td>\n",
              "      <td>380613.68</td>\n",
              "      <td>214671.27</td>\n",
              "      <td>(MN) Woodbury</td>\n",
              "    </tr>\n",
              "    <tr>\n",
              "      <th>996</th>\n",
              "      <td>997</td>\n",
              "      <td>Overviewparrot</td>\n",
              "      <td>Retail</td>\n",
              "      <td>An eco-friendly car cleaning service that clea...</td>\n",
              "      <td>2011</td>\n",
              "      <td>100</td>\n",
              "      <td>TX</td>\n",
              "      <td>Fort Worth</td>\n",
              "      <td>Dallas</td>\n",
              "      <td>12387130.09</td>\n",
              "      <td>1387784.06</td>\n",
              "      <td>10999346.03</td>\n",
              "      <td>430%</td>\n",
              "      <td>123871.30</td>\n",
              "      <td>13877.84</td>\n",
              "      <td>(TX) Fort Worth</td>\n",
              "    </tr>\n",
              "    <tr>\n",
              "      <th>997</th>\n",
              "      <td>998</td>\n",
              "      <td>Belaguerra</td>\n",
              "      <td>IT Services</td>\n",
              "      <td>A global IT services firm specializing exclusi...</td>\n",
              "      <td>2010</td>\n",
              "      <td>140</td>\n",
              "      <td>MI</td>\n",
              "      <td>Troy</td>\n",
              "      <td>Detroit</td>\n",
              "      <td>9849518.96</td>\n",
              "      <td>1786744.40</td>\n",
              "      <td>8062774.56</td>\n",
              "      <td>420%</td>\n",
              "      <td>70353.71</td>\n",
              "      <td>12762.46</td>\n",
              "      <td>(MI) Troy</td>\n",
              "    </tr>\n",
              "    <tr>\n",
              "      <th>998</th>\n",
              "      <td>999</td>\n",
              "      <td>Moviespotter</td>\n",
              "      <td>Education</td>\n",
              "      <td>Provides an e-learning community through virtu...</td>\n",
              "      <td>2012</td>\n",
              "      <td>39</td>\n",
              "      <td>CA</td>\n",
              "      <td>San Rafael</td>\n",
              "      <td>San Francisco</td>\n",
              "      <td>6949706.40</td>\n",
              "      <td>689160.81</td>\n",
              "      <td>6260545.59</td>\n",
              "      <td>448%</td>\n",
              "      <td>178197.60</td>\n",
              "      <td>17670.79</td>\n",
              "      <td>(CA) San Rafael</td>\n",
              "    </tr>\n",
              "    <tr>\n",
              "      <th>999</th>\n",
              "      <td>1000</td>\n",
              "      <td>Allpossible</td>\n",
              "      <td>IT Services</td>\n",
              "      <td>A hardware, software, and video systems integr...</td>\n",
              "      <td>2011</td>\n",
              "      <td>24</td>\n",
              "      <td>CA</td>\n",
              "      <td>Los Angeles</td>\n",
              "      <td>Los Angeles</td>\n",
              "      <td>NaN</td>\n",
              "      <td>NaN</td>\n",
              "      <td>NaN</td>\n",
              "      <td>nan%</td>\n",
              "      <td>0.00</td>\n",
              "      <td>NaN</td>\n",
              "      <td>(CA) Los Angeles</td>\n",
              "    </tr>\n",
              "  </tbody>\n",
              "</table>\n",
              "<p>1000 rows × 16 columns</p>\n",
              "</div>"
            ],
            "text/plain": [
              "       ID              Name  ... Expenses_per_Emp             Location\n",
              "0       1          Over-Hex  ...         32161.42        (TN) Franklin\n",
              "1       2         Unimattax  ...         59702.69  (PA) Newtown Square\n",
              "2       3            Lexila  ...         27483.57     (IL) Tinley Park\n",
              "3       4          Greenfax  ...          8420.76      (SC) Greenville\n",
              "4       5            Saoace  ...        133610.48    (WI) New Holstein\n",
              "..    ...               ...  ...              ...                  ...\n",
              "995   996  Inventtremendous  ...        214671.27        (MN) Woodbury\n",
              "996   997    Overviewparrot  ...         13877.84      (TX) Fort Worth\n",
              "997   998        Belaguerra  ...         12762.46            (MI) Troy\n",
              "998   999      Moviespotter  ...         17670.79      (CA) San Rafael\n",
              "999  1000       Allpossible  ...              NaN     (CA) Los Angeles\n",
              "\n",
              "[1000 rows x 16 columns]"
            ]
          },
          "metadata": {
            "tags": []
          },
          "execution_count": 289
        }
      ]
    },
    {
      "cell_type": "code",
      "metadata": {
        "id": "ClLErZsod1s2"
      },
      "source": [
        "#Financials['2015 Growth %'] = pd.Series([\"{0:.2f}%\".format(val * 100) for val in Financials['2015 Growth %']], index = Financials.index)"
      ],
      "execution_count": null,
      "outputs": []
    },
    {
      "cell_type": "code",
      "metadata": {
        "id": "lsNYfVoRfcWA",
        "colab": {
          "base_uri": "https://localhost:8080/",
          "height": 138
        },
        "outputId": "c760eda6-a9a7-4877-e300-174bc58dd29d"
      },
      "source": [
        "#Financials.sort_values(by='2015 Growth %', ascending= False).head(3)"
      ],
      "execution_count": null,
      "outputs": [
        {
          "output_type": "execute_result",
          "data": {
            "text/html": [
              "<div>\n",
              "<style scoped>\n",
              "    .dataframe tbody tr th:only-of-type {\n",
              "        vertical-align: middle;\n",
              "    }\n",
              "\n",
              "    .dataframe tbody tr th {\n",
              "        vertical-align: top;\n",
              "    }\n",
              "\n",
              "    .dataframe thead th {\n",
              "        text-align: right;\n",
              "    }\n",
              "</style>\n",
              "<table border=\"1\" class=\"dataframe\">\n",
              "  <thead>\n",
              "    <tr style=\"text-align: right;\">\n",
              "      <th></th>\n",
              "      <th>ID</th>\n",
              "      <th>Name</th>\n",
              "      <th>2015 Revenue</th>\n",
              "      <th>2015 Expenses</th>\n",
              "      <th>2015 Profit</th>\n",
              "      <th>2015 Growth %</th>\n",
              "      <th>2014 Revenue</th>\n",
              "      <th>2014 Expenses</th>\n",
              "      <th>2014 Profit</th>\n",
              "      <th>2014 Growth %</th>\n",
              "      <th>2013 Revenue</th>\n",
              "      <th>2013 Expenses</th>\n",
              "      <th>2013 Profit</th>\n",
              "    </tr>\n",
              "  </thead>\n",
              "  <tbody>\n",
              "    <tr>\n",
              "      <th>181</th>\n",
              "      <td>182</td>\n",
              "      <td>Rankfind</td>\n",
              "      <td>11210769.07</td>\n",
              "      <td>1837223.32</td>\n",
              "      <td>9373545.75</td>\n",
              "      <td>7.84</td>\n",
              "      <td>1268659</td>\n",
              "      <td>234353.57</td>\n",
              "      <td>1034305.43</td>\n",
              "      <td>6.14</td>\n",
              "      <td>177683.33</td>\n",
              "      <td>31939.64</td>\n",
              "      <td>145743.69</td>\n",
              "    </tr>\n",
              "    <tr>\n",
              "      <th>350</th>\n",
              "      <td>351</td>\n",
              "      <td>Matelectronics</td>\n",
              "      <td>12683504.31</td>\n",
              "      <td>3205936.14</td>\n",
              "      <td>9477568.17</td>\n",
              "      <td>7.76</td>\n",
              "      <td>1447297</td>\n",
              "      <td>354424.97</td>\n",
              "      <td>1092872.03</td>\n",
              "      <td>5.24</td>\n",
              "      <td>231938.62</td>\n",
              "      <td>69954.60</td>\n",
              "      <td>161984.02</td>\n",
              "    </tr>\n",
              "    <tr>\n",
              "      <th>531</th>\n",
              "      <td>532</td>\n",
              "      <td>Wimpleddrift</td>\n",
              "      <td>8836311.51</td>\n",
              "      <td>4138631.97</td>\n",
              "      <td>4697679.54</td>\n",
              "      <td>7.69</td>\n",
              "      <td>1016714</td>\n",
              "      <td>579766.24</td>\n",
              "      <td>436947.76</td>\n",
              "      <td>7.50</td>\n",
              "      <td>119613.41</td>\n",
              "      <td>67902.01</td>\n",
              "      <td>51711.40</td>\n",
              "    </tr>\n",
              "  </tbody>\n",
              "</table>\n",
              "</div>"
            ],
            "text/plain": [
              "      ID            Name  ...  2013 Expenses  2013 Profit\n",
              "181  182        Rankfind  ...       31939.64    145743.69\n",
              "350  351  Matelectronics  ...       69954.60    161984.02\n",
              "531  532    Wimpleddrift  ...       67902.01     51711.40\n",
              "\n",
              "[3 rows x 13 columns]"
            ]
          },
          "metadata": {
            "tags": []
          },
          "execution_count": 292
        }
      ]
    },
    {
      "cell_type": "code",
      "metadata": {
        "id": "hLZJEHmAjzuX"
      },
      "source": [
        "#data['2015 Growth %'] = pd.Series([\"{0:.2f}%\".format(val *100) for val in data['2015 Growth %']], index = data.index)"
      ],
      "execution_count": null,
      "outputs": []
    },
    {
      "cell_type": "code",
      "metadata": {
        "id": "9Nt4UJ7Yjz1k"
      },
      "source": [
        "data.fillna(0,inplace=True)"
      ],
      "execution_count": null,
      "outputs": []
    },
    {
      "cell_type": "markdown",
      "metadata": {
        "id": "IiGi73hWvK3I"
      },
      "source": [
        ""
      ]
    },
    {
      "cell_type": "code",
      "metadata": {
        "id": "ZGRDk_rwjz8U",
        "colab": {
          "base_uri": "https://localhost:8080/"
        },
        "outputId": "af3d2424-0c2e-4d36-c073-924d01d5ad13"
      },
      "source": [
        "data['2015 Growth %'].mean()"
      ],
      "execution_count": null,
      "outputs": [
        {
          "output_type": "execute_result",
          "data": {
            "text/plain": [
              "3.9895195195195168"
            ]
          },
          "metadata": {
            "tags": []
          },
          "execution_count": 318
        }
      ]
    },
    {
      "cell_type": "code",
      "metadata": {
        "id": "8U8s-vB-j0D2"
      },
      "source": [
        "cities_growth = data.groupby('City')['2015 Growth %'].apply(lambda x: np.mean(x)).round(2).reset_index()"
      ],
      "execution_count": null,
      "outputs": []
    },
    {
      "cell_type": "code",
      "metadata": {
        "id": "a3H4wq6rj0M1"
      },
      "source": [
        "cities_growth =pd.DataFrame(cities_growth)"
      ],
      "execution_count": null,
      "outputs": []
    },
    {
      "cell_type": "code",
      "metadata": {
        "id": "C9Yky8nb6Lzw",
        "colab": {
          "base_uri": "https://localhost:8080/",
          "height": 407
        },
        "outputId": "dcc9db2d-60cb-43ef-80e5-714026b5cdd2"
      },
      "source": [
        "cities_growth"
      ],
      "execution_count": null,
      "outputs": [
        {
          "output_type": "execute_result",
          "data": {
            "text/html": [
              "<div>\n",
              "<style scoped>\n",
              "    .dataframe tbody tr th:only-of-type {\n",
              "        vertical-align: middle;\n",
              "    }\n",
              "\n",
              "    .dataframe tbody tr th {\n",
              "        vertical-align: top;\n",
              "    }\n",
              "\n",
              "    .dataframe thead th {\n",
              "        text-align: right;\n",
              "    }\n",
              "</style>\n",
              "<table border=\"1\" class=\"dataframe\">\n",
              "  <thead>\n",
              "    <tr style=\"text-align: right;\">\n",
              "      <th></th>\n",
              "      <th>City</th>\n",
              "      <th>2015 Growth %</th>\n",
              "    </tr>\n",
              "  </thead>\n",
              "  <tbody>\n",
              "    <tr>\n",
              "      <th>0</th>\n",
              "      <td>Addison</td>\n",
              "      <td>4.02</td>\n",
              "    </tr>\n",
              "    <tr>\n",
              "      <th>1</th>\n",
              "      <td>Alexandria</td>\n",
              "      <td>3.13</td>\n",
              "    </tr>\n",
              "    <tr>\n",
              "      <th>2</th>\n",
              "      <td>Aliso Viejo</td>\n",
              "      <td>3.37</td>\n",
              "    </tr>\n",
              "    <tr>\n",
              "      <th>3</th>\n",
              "      <td>Allentown</td>\n",
              "      <td>3.42</td>\n",
              "    </tr>\n",
              "    <tr>\n",
              "      <th>4</th>\n",
              "      <td>Allston</td>\n",
              "      <td>4.71</td>\n",
              "    </tr>\n",
              "    <tr>\n",
              "      <th>...</th>\n",
              "      <td>...</td>\n",
              "      <td>...</td>\n",
              "    </tr>\n",
              "    <tr>\n",
              "      <th>502</th>\n",
              "      <td>fort washington</td>\n",
              "      <td>3.60</td>\n",
              "    </tr>\n",
              "    <tr>\n",
              "      <th>503</th>\n",
              "      <td>henderson</td>\n",
              "      <td>4.81</td>\n",
              "    </tr>\n",
              "    <tr>\n",
              "      <th>504</th>\n",
              "      <td>long beach</td>\n",
              "      <td>5.09</td>\n",
              "    </tr>\n",
              "    <tr>\n",
              "      <th>505</th>\n",
              "      <td>portage</td>\n",
              "      <td>5.35</td>\n",
              "    </tr>\n",
              "    <tr>\n",
              "      <th>506</th>\n",
              "      <td>san diego</td>\n",
              "      <td>2.03</td>\n",
              "    </tr>\n",
              "  </tbody>\n",
              "</table>\n",
              "<p>507 rows × 2 columns</p>\n",
              "</div>"
            ],
            "text/plain": [
              "                City  2015 Growth %\n",
              "0            Addison           4.02\n",
              "1         Alexandria           3.13\n",
              "2        Aliso Viejo           3.37\n",
              "3          Allentown           3.42\n",
              "4            Allston           4.71\n",
              "..               ...            ...\n",
              "502  fort washington           3.60\n",
              "503        henderson           4.81\n",
              "504       long beach           5.09\n",
              "505          portage           5.35\n",
              "506        san diego           2.03\n",
              "\n",
              "[507 rows x 2 columns]"
            ]
          },
          "metadata": {
            "tags": []
          },
          "execution_count": 398
        }
      ]
    },
    {
      "cell_type": "code",
      "metadata": {
        "id": "tGGv-si_j0bU"
      },
      "source": [
        "cities_growth['2015 Growth %'] = pd.Series([\"{0:.2f}%\".format(val *100) for val in cities_growth['2015 Growth %']], index = cities_growth.index)"
      ],
      "execution_count": null,
      "outputs": []
    },
    {
      "cell_type": "code",
      "metadata": {
        "id": "52NE3lqLj0jn"
      },
      "source": [
        "cities_growth = cities_growth.sort_values(by = '2015 Growth %', ascending=False)[0:16]"
      ],
      "execution_count": null,
      "outputs": []
    },
    {
      "cell_type": "code",
      "metadata": {
        "id": "6uP62QIIj0py",
        "colab": {
          "base_uri": "https://localhost:8080/",
          "height": 874
        },
        "outputId": "b2e3f373-259b-48b2-8f8a-80c1e266674b"
      },
      "source": [
        "fig, ax = plt.subplots(1,1, figsize = (32,12), dpi = 100)\n",
        "plt.style.use('seaborn-whitegrid')\n",
        "\n",
        "a1 = cities_growth['City']\n",
        "b1 = cities_growth['2015 Growth %']\n",
        "\n",
        "ax.bar(a1,b1, color = 'blue', alpha = 0.8)\n",
        "\n",
        "ax.set(title = 'Cities with the higest average growth')\n",
        "\n",
        "ax.axes.get_yaxis().set_visible(True) #Hide y axis\n",
        "plt.xticks(fontsize=16)\n",
        "\n",
        "\n",
        "procenty = pd.Series([\"{0:.2f}%\".format(val *100) for val in cities_growth['2015 Growth %'].reset_index(drop=True,level=0)], index = cities_growth.index)\n",
        "procenty.reset_index(drop = True, level = 0, inplace = True)\n",
        "\n",
        "for i, p in enumerate(ax.patches):\n",
        "   ax.annotate(procenty[i], (p.get_x() + p.get_width() / 2., p.get_height()), ha='center', va='center', rotation=0, xytext=(0, 10), textcoords='offset points', size = 16)"
      ],
      "execution_count": null,
      "outputs": [
        {
          "output_type": "display_data",
          "data": {
            "image/png": "[encoded data removed]",
            "text/plain": [
              "<Figure size 3200x1200 with 1 Axes>"
            ]
          },
          "metadata": {
            "tags": []
          }
        }
      ]
    },
    {
      "cell_type": "code",
      "metadata": {
        "id": "3Ra64nM6j00S"
      },
      "source": [
        "b1.reset_index(drop=True,level=0,inplace=True)"
      ],
      "execution_count": null,
      "outputs": []
    },
    {
      "cell_type": "code",
      "metadata": {
        "id": "ORn20k7lj045",
        "colab": {
          "base_uri": "https://localhost:8080/"
        },
        "outputId": "bfb91ccc-f39f-4f15-a7bc-b9afc308fd24"
      },
      "source": [
        "y1"
      ],
      "execution_count": null,
      "outputs": [
        {
          "output_type": "execute_result",
          "data": {
            "text/plain": [
              "0     313.998309\n",
              "1     179.221908\n",
              "2     159.820831\n",
              "3     147.217934\n",
              "4     146.137694\n",
              "5     139.351022\n",
              "6     137.346100\n",
              "7     105.426442\n",
              "8      99.051840\n",
              "9      96.573872\n",
              "10     92.556095\n",
              "11     86.200003\n",
              "12     78.946960\n",
              "13     76.790760\n",
              "14     74.938576\n",
              "15     73.157636\n",
              "Name: 2015 Revenue, dtype: float64"
            ]
          },
          "metadata": {
            "tags": []
          },
          "execution_count": 392
        }
      ]
    },
    {
      "cell_type": "code",
      "metadata": {
        "id": "Ls4WGoR8j09D",
        "colab": {
          "base_uri": "https://localhost:8080/"
        },
        "outputId": "5637ae00-1e91-4696-ea95-8f5f3cf7dd67"
      },
      "source": [
        "b1"
      ],
      "execution_count": null,
      "outputs": [
        {
          "output_type": "execute_result",
          "data": {
            "text/plain": [
              "0     7.21\n",
              "1     6.72\n",
              "2     6.43\n",
              "3     6.29\n",
              "4     6.17\n",
              "5     5.98\n",
              "6     5.94\n",
              "7     5.92\n",
              "8     5.77\n",
              "9     5.68\n",
              "10    5.61\n",
              "11    5.60\n",
              "12    5.60\n",
              "13    5.60\n",
              "14    5.59\n",
              "15    5.55\n",
              "Name: 2015 Growth %, dtype: float64"
            ]
          },
          "metadata": {
            "tags": []
          },
          "execution_count": 402
        }
      ]
    },
    {
      "cell_type": "code",
      "metadata": {
        "id": "9EJX4Uvfj1AX"
      },
      "source": [
        "procenty.reset_index(drop = True, level = 0, inplace = True)"
      ],
      "execution_count": null,
      "outputs": []
    },
    {
      "cell_type": "code",
      "metadata": {
        "id": "ib4NBbjHj1Dh"
      },
      "source": [
        ""
      ],
      "execution_count": null,
      "outputs": []
    }
  ]
}